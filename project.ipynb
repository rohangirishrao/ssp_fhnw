{
 "cells": [
  {
   "cell_type": "markdown",
   "metadata": {},
   "source": [
    "This is the notebook for the signal processing of a magnet signal in the lecture Sensors and Signal Processing."
   ]
  },
  {
   "cell_type": "code",
   "execution_count": 2,
   "metadata": {},
   "outputs": [],
   "source": [
    "#!pip install plotly"
   ]
  },
  {
   "cell_type": "code",
   "execution_count": 31,
   "metadata": {},
   "outputs": [],
   "source": [
    "import numpy as np\n",
    "import pandas as pd\n",
    "import os\n",
    "import seaborn\n",
    "import plotly.express as px\n",
    "import plotly.graph_objects as go\n",
    "import matplotlib.pyplot as plt\n",
    "import seaborn as sns\n",
    "from sklearn.linear_model import LinearRegression"
   ]
  },
  {
   "cell_type": "code",
   "execution_count": 2,
   "metadata": {
    "collapsed": false,
    "pycharm": {
     "name": "#%%\n"
    }
   },
   "outputs": [
    {
     "name": "stdout",
     "output_type": "stream",
     "text": [
      "Indices where a sharp rise occurs:  [219, 1938, 3778, 5958]\n",
      "Indices where it descends again [1147, 3071, 5081, 7118]\n"
     ]
    }
   ],
   "source": [
    "# Read in file paths\n",
    "\n",
    "file_paths = [f\"./data_raw/Raw Data-{i}.csv\" for i in range(1, 5)]\n",
    "dfs = []\n",
    "\n",
    "# Iterate over each file, read it into a dataframe, and add a column for experiment index\n",
    "for idx, file_path in enumerate(file_paths, start=1):\n",
    "    df = pd.read_csv(file_path)\n",
    "    df['Experiment_Index'] = idx\n",
    "    dfs.append(df)\n",
    "\n",
    "# Put the dataframes together\n",
    "combined_df = pd.concat(dfs, ignore_index=True)\n",
    "threshold_value = 100\n",
    "\n",
    "# Lists for indices where it rises and falls back down to normal values (no external magnetic field)\n",
    "sharp_rise_indices = []\n",
    "descent_indices = []\n",
    "for experiment_idx, group_df in combined_df.groupby('Experiment_Index'):\n",
    "    # Find sharp rise index\n",
    "    sharp_rise_index = group_df['Absolute field (µT)'].diff().gt(threshold_value).idxmax()\n",
    "    sharp_rise_indices.append(sharp_rise_index)\n",
    "    \n",
    "    # Find descent index\n",
    "    start_index = group_df.index.get_loc(sharp_rise_index)  # Start searching from sharp rise index\n",
    "    sharp_rise_value = group_df.loc[sharp_rise_index, 'Absolute field (µT)']\n",
    "    threshold_descent = sharp_rise_value - threshold_value # Make sure the value is really significantly smaller\n",
    "    descent_index = group_df.iloc[start_index:]['Absolute field (µT)'].lt(threshold_descent).idxmax()\n",
    "    descent_indices.append(descent_index)\n",
    "\n",
    "selected_rows = []\n",
    "for sharp_rise_index, descent_index in zip(sharp_rise_indices, descent_indices):\n",
    "    selected_rows.append(combined_df.loc[sharp_rise_index:descent_index])\n",
    "\n",
    "selected_df = pd.concat(selected_rows)\n",
    "\n",
    "print(\"Indices where a sharp rise occurs: \", sharp_rise_indices)\n",
    "print(\"Indices where it descends again\", descent_indices)"
   ]
  },
  {
   "cell_type": "code",
   "execution_count": 57,
   "metadata": {},
   "outputs": [
    {
     "name": "stdout",
     "output_type": "stream",
     "text": [
      "[0.0012936267516241119, 0.0006477436263677691, -0.0006606787834920368, -0.0013099933991832903]\n",
      "[0.001291145211980288, 0.0006496608608352168, -0.0006496608608352168, -0.001291145211980288]\n"
     ]
    },
    {
     "data": {
      "image/png": "[encoded data removed]",
      "text/plain": [
       "<Figure size 640x480 with 1 Axes>"
      ]
     },
     "metadata": {},
     "output_type": "display_data"
    }
   ],
   "source": [
    "# Get the mean of measurements for each experiment and add it to a list\n",
    "measured_means = []\n",
    "for i in range(1,5):\n",
    "    measured_mean = selected_df[selected_df['Experiment_Index'] == i]['Magnetic Field y (µT)'].mean()\n",
    "    # measured_mean /= 10^6\n",
    "    measured_means.append(measured_mean)\n",
    "measured_means_in_T= [value / 1000000 for value in measured_means]\n",
    "print(measured_means_in_T)\n",
    "\n",
    "x = [1,2,3,4]\n",
    "currents = [1.737, 0.874, -0.874, -1.737]\n",
    "\n",
    "def B_ref(current):\n",
    "    mu = 4 * np.pi * 10**(-7)\n",
    "    N = 124\n",
    "    R = 0.15\n",
    "    return mu * (8*current*N) / (np.sqrt(125)*R)\n",
    "\n",
    "brefs = []\n",
    "for i in range(0,4):\n",
    "    brefs.append(B_ref(currents[i]))\n",
    "print(brefs)\n",
    "\n",
    "plt.scatter(x=currents, y=measured_means_in_T, label='Means', marker='x', alpha=.1)\n",
    "plt.scatter(x=currents, y=brefs, label='B Refs')\n",
    "plt.legend()\n",
    "plt.show()"
   ]
  },
  {
   "cell_type": "code",
   "execution_count": 39,
   "metadata": {},
   "outputs": [
    {
     "name": "stdout",
     "output_type": "stream",
     "text": [
      "The r^2 value for the measurements is:  0.9999990563736452\n"
     ]
    }
   ],
   "source": [
    "# This cell is for analysis of the fit\n",
    "slope, intercept = np.polyfit(currents, measured_means, 1)\n",
    "predicted_y = slope * np.array(currents) + intercept\n",
    "mean_y = np.mean(measured_means)\n",
    "tss = np.sum((measured_means - mean_y) ** 2)\n",
    "\n",
    "# Calculate the residual sum of squares (RSS)\n",
    "rss = np.sum((measured_means - predicted_y) ** 2)\n",
    "\n",
    "# Calculate the coefficient of determination (R-squared)\n",
    "r_squared = 1 - (rss / tss)\n",
    "\n",
    "print(\"The r^2 value for the measurements is: \", r_squared)\n"
   ]
  }
 ],
 "metadata": {
  "kernelspec": {
   "display_name": "base",
   "language": "python",
   "name": "python3"
  },
  "language_info": {
   "codemirror_mode": {
    "name": "ipython",
    "version": 3
   },
   "file_extension": ".py",
   "mimetype": "text/x-python",
   "name": "python",
   "nbconvert_exporter": "python",
   "pygments_lexer": "ipython3",
   "version": "3.9.18"
  },
  "orig_nbformat": 4
 },
 "nbformat": 4,
 "nbformat_minor": 2
}
