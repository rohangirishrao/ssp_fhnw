{
 "cells": [
  {
   "cell_type": "markdown",
   "metadata": {},
   "source": [
    "This is the notebook for the signal processing of a magnet signal in the lecture Sensors and Signal Processing."
   ]
  },
  {
   "cell_type": "code",
   "execution_count": 2,
   "metadata": {},
   "outputs": [],
   "source": [
    "#!pip install plotly"
   ]
  },
  {
   "cell_type": "code",
   "execution_count": 4,
   "metadata": {},
   "outputs": [],
   "source": [
    "import numpy as np\n",
    "import pandas as pd\n",
    "import os\n",
    "import seaborn\n",
    "import plotly.express as px\n",
    "import matplotlib.pyplot as plt "
   ]
  },
  {
   "cell_type": "code",
   "execution_count": 69,
   "metadata": {
    "collapsed": false,
    "pycharm": {
     "name": "#%%\n"
    }
   },
   "outputs": [
    {
     "name": "stdout",
     "output_type": "stream",
     "text": [
      "[219, 1937, 3778, 5958]\n"
     ]
    },
    {
     "data": {
      "text/plain": [
       "Time (s)                  2.444648\n",
       "Magnetic Field x (µT)     7.532745\n",
       "Magnetic Field y (µT)    -6.256432\n",
       "Magnetic Field z (µT)   -53.354431\n",
       "Absolute field (µT)      54.245558\n",
       "Experiment_Index          3.000000\n",
       "Name: 3777, dtype: float64"
      ]
     },
     "metadata": {},
     "output_type": "display_data"
    }
   ],
   "source": [
    "# Read in file paths\n",
    "\n",
    "file_paths = [f\"./data_raw/Raw Data-{i}.csv\" for i in range(1, 5)]\n",
    "dfs = []\n",
    "\n",
    "# Iterate over each file, read it into a dataframe, and add a column for experiment index\n",
    "for idx, file_path in enumerate(file_paths, start=1):\n",
    "    df = pd.read_csv(file_path)\n",
    "    df['Experiment_Index'] = idx\n",
    "    dfs.append(df)\n",
    "\n",
    "# Put the dataframes together\n",
    "combined_df = pd.concat(dfs, ignore_index=True)\n",
    "threshold_value = 50\n",
    "sharp_rise_indices = []\n",
    "for experiment_idx, group_df in combined_df.groupby('Experiment_Index'):\n",
    "    first_sharp_rise_index = group_df['Absolute field (µT)'].diff().gt(threshold_value).idxmax()\n",
    "    sharp_rise_indices.append(first_sharp_rise_index)\n",
    "\n",
    "df1 = combined_df[combined_df['Experiment_Index'] == 1]\n",
    "df2 = combined_df[combined_df['Experiment_Index'] == 2]\n",
    "df3 = combined_df[combined_df['Experiment_Index'] == 3]\n",
    "df4 = combined_df[combined_df['Experiment_Index'] == 4]\n",
    "\n",
    "print(sharp_rise_indices)\n",
    "display(combined_df.iloc[sharp_rise_indices[2]-1])"
   ]
  }
 ],
 "metadata": {
  "kernelspec": {
   "display_name": "base",
   "language": "python",
   "name": "python3"
  },
  "language_info": {
   "codemirror_mode": {
    "name": "ipython",
    "version": 3
   },
   "file_extension": ".py",
   "mimetype": "text/x-python",
   "name": "python",
   "nbconvert_exporter": "python",
   "pygments_lexer": "ipython3",
   "version": "3.9.18"
  },
  "orig_nbformat": 4
 },
 "nbformat": 4,
 "nbformat_minor": 2
}
