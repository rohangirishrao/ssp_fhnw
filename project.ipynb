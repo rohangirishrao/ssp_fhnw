{
 "cells": [
  {
   "cell_type": "markdown",
   "metadata": {},
   "source": [
    "This is the notebook for the signal processing of a magnet signal in the lecture Sensors and Signal Processing."
   ]
  },
  {
   "cell_type": "code",
   "execution_count": 2,
   "metadata": {},
   "outputs": [],
   "source": [
    "#!pip install plotly"
   ]
  },
  {
   "cell_type": "code",
   "execution_count": 4,
   "metadata": {},
   "outputs": [],
   "source": [
    "import numpy as np\n",
    "import pandas as pd\n",
    "import os\n",
    "import seaborn\n",
    "import plotly.express as px\n",
    "import matplotlib.pyplot as plt "
   ]
  },
  {
   "cell_type": "code",
   "execution_count": 82,
   "metadata": {
    "collapsed": false,
    "pycharm": {
     "name": "#%%\n"
    }
   },
   "outputs": [
    {
     "name": "stdout",
     "output_type": "stream",
     "text": [
      "Indices where a sharp rise occurs:  [219, 1938, 3778, 5958]\n",
      "Indices where it descends again [1147, 3071, 5081, 7118]\n"
     ]
    }
   ],
   "source": [
    "# Read in file paths\n",
    "\n",
    "file_paths = [f\"./data_raw/Raw Data-{i}.csv\" for i in range(1, 5)]\n",
    "dfs = []\n",
    "\n",
    "# Iterate over each file, read it into a dataframe, and add a column for experiment index\n",
    "for idx, file_path in enumerate(file_paths, start=1):\n",
    "    df = pd.read_csv(file_path)\n",
    "    df['Experiment_Index'] = idx\n",
    "    dfs.append(df)\n",
    "\n",
    "# Put the dataframes together\n",
    "combined_df = pd.concat(dfs, ignore_index=True)\n",
    "threshold_value = 100\n",
    "\n",
    "# Lists for indices where it rises and falls back down to normal values (no external magnetic field)\n",
    "sharp_rise_indices = []\n",
    "descent_indices = []\n",
    "for experiment_idx, group_df in combined_df.groupby('Experiment_Index'):\n",
    "    # Find sharp rise index\n",
    "    sharp_rise_index = group_df['Absolute field (µT)'].diff().gt(threshold_value).idxmax()\n",
    "    sharp_rise_indices.append(sharp_rise_index)\n",
    "    \n",
    "    # Find descent index\n",
    "    start_index = group_df.index.get_loc(sharp_rise_index)  # Start searching from sharp rise index\n",
    "    sharp_rise_value = group_df.loc[sharp_rise_index, 'Absolute field (µT)']\n",
    "    threshold_descent = sharp_rise_value - threshold_value # Make sure the value is really significantly smaller\n",
    "    descent_index = group_df.iloc[start_index:]['Absolute field (µT)'].lt(threshold_descent).idxmax()\n",
    "    descent_indices.append(descent_index)\n",
    "\n",
    "selected_rows = []\n",
    "for sharp_rise_index, descent_index in zip(sharp_rise_indices, descent_indices):\n",
    "    selected_rows.append(combined_df.loc[sharp_rise_index:descent_index])\n",
    "\n",
    "selected_df = pd.concat(selected_rows)\n",
    "\n",
    "print(\"Indices where a sharp rise occurs: \", sharp_rise_indices)\n",
    "print(\"Indices where it descends again\", descent_indices)"
   ]
  },
  {
   "cell_type": "code",
   "execution_count": null,
   "metadata": {},
   "outputs": [],
   "source": [
    "# This cell takes the new dataframe of interesting values (the subset where the current was flowing)\n",
    "# TODO: First off, add the current value (read from current source) to each row of the dataset for completion\n",
    "# Then take the mean for each experiment index and plot the 4 values, x=current, y=mean idx 1,2,3,4.\n",
    "# Then calculate Bref for each I and plot that also, different color"
   ]
  }
 ],
 "metadata": {
  "kernelspec": {
   "display_name": "base",
   "language": "python",
   "name": "python3"
  },
  "language_info": {
   "codemirror_mode": {
    "name": "ipython",
    "version": 3
   },
   "file_extension": ".py",
   "mimetype": "text/x-python",
   "name": "python",
   "nbconvert_exporter": "python",
   "pygments_lexer": "ipython3",
   "version": "3.9.18"
  },
  "orig_nbformat": 4
 },
 "nbformat": 4,
 "nbformat_minor": 2
}
