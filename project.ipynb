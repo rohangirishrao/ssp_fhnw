{
 "cells": [
  {
   "cell_type": "markdown",
   "metadata": {},
   "source": [
    "This is the notebook for the signal processing of a magnet signal in the lecture Sensors and Signal Processing."
   ]
  },
  {
   "cell_type": "code",
   "execution_count": 86,
   "metadata": {},
   "outputs": [],
   "source": [
    "#!pip install plotly"
   ]
  },
  {
   "cell_type": "code",
   "execution_count": 87,
   "metadata": {},
   "outputs": [],
   "source": [
    "import numpy as np\n",
    "import pandas as pd\n",
    "import os\n",
    "import seaborn\n",
    "import plotly.express as px\n",
    "import plotly.graph_objects as go\n",
    "import matplotlib.pyplot as plt\n",
    "import seaborn as sns\n",
    "import scipy\n",
    "from sklearn.linear_model import LinearRegression"
   ]
  },
  {
   "cell_type": "code",
   "execution_count": 88,
   "metadata": {
    "collapsed": false,
    "pycharm": {
     "name": "#%%\n"
    }
   },
   "outputs": [
    {
     "name": "stdout",
     "output_type": "stream",
     "text": [
      "Indices where a sharp rise occurs:  [219, 1938, 3778, 5958]\n",
      "Indices where it descends again [1147, 3071, 5081, 7118]\n"
     ]
    }
   ],
   "source": [
    "# Read in file paths\n",
    "\n",
    "file_paths = [f\"./data_raw/Raw Data-{i}.csv\" for i in range(1, 5)]\n",
    "dfs = []\n",
    "\n",
    "# Iterate over each file, read it into a dataframe, and add a column for experiment index\n",
    "for idx, file_path in enumerate(file_paths, start=1):\n",
    "    df = pd.read_csv(file_path)\n",
    "    df['Experiment_Index'] = idx\n",
    "    dfs.append(df)\n",
    "\n",
    "# Put the dataframes together\n",
    "combined_df = pd.concat(dfs, ignore_index=True)\n",
    "threshold_value = 100\n",
    "\n",
    "# Lists for indices where it rises and falls back down to normal values (no external magnetic field)\n",
    "sharp_rise_indices = []\n",
    "descent_indices = []\n",
    "for experiment_idx, group_df in combined_df.groupby('Experiment_Index'):\n",
    "    # Find sharp rise index\n",
    "    sharp_rise_index = group_df['Absolute field (µT)'].diff().gt(threshold_value).idxmax()\n",
    "    sharp_rise_indices.append(sharp_rise_index)\n",
    "\n",
    "    # Find descent index\n",
    "    start_index = group_df.index.get_loc(sharp_rise_index)  # Start searching from sharp rise index\n",
    "    sharp_rise_value = group_df.loc[sharp_rise_index, 'Absolute field (µT)']\n",
    "    threshold_descent = sharp_rise_value - threshold_value # Make sure the value is really significantly smaller\n",
    "    descent_index = group_df.iloc[start_index:]['Absolute field (µT)'].lt(threshold_descent).idxmax()\n",
    "    descent_indices.append(descent_index)\n",
    "\n",
    "selected_rows = []\n",
    "for sharp_rise_index, descent_index in zip(sharp_rise_indices, descent_indices):\n",
    "    selected_rows.append(combined_df.loc[sharp_rise_index:descent_index])\n",
    "\n",
    "selected_df = pd.concat(selected_rows)\n",
    "\n",
    "print(\"Indices where a sharp rise occurs: \", sharp_rise_indices)\n",
    "print(\"Indices where it descends again\", descent_indices)"
   ]
  },
  {
   "cell_type": "code",
   "execution_count": 89,
   "metadata": {},
   "outputs": [
    {
     "name": "stdout",
     "output_type": "stream",
     "text": [
      "[0.0012936267516241119, 0.0006477436263677691, -0.0006606787834920368, -0.0013099933991832903]\n",
      "[0.001291145211980288, 0.0006496608608352168, -0.0006496608608352168, -0.001291145211980288]\n"
     ]
    },
    {
     "data": {
      "image/png": "[encoded data removed]",
      "text/plain": [
       "<Figure size 640x480 with 1 Axes>"
      ]
     },
     "metadata": {},
     "output_type": "display_data"
    }
   ],
   "source": [
    "# Get the mean of measurements for each experiment and add it to a list\n",
    "measured_means = []\n",
    "for i in range(1,5):\n",
    "    measured_mean = selected_df[selected_df['Experiment_Index'] == i]['Magnetic Field y (µT)'].mean()\n",
    "    # measured_mean /= 10^6\n",
    "    measured_means.append(measured_mean)\n",
    "measured_means_in_T= [value / 1000000 for value in measured_means]\n",
    "print(measured_means_in_T)\n",
    "\n",
    "x = [1,2,3,4]\n",
    "currents = [1.737, 0.874, -0.874, -1.737]\n",
    "\n",
    "def B_ref(current):\n",
    "    mu = 4 * np.pi * 10**(-7)\n",
    "    N = 124\n",
    "    R = 0.15\n",
    "    return mu * (8*current*N) / (np.sqrt(125)*R)\n",
    "\n",
    "brefs = []\n",
    "for i in range(0,4):\n",
    "    brefs.append(B_ref(currents[i]))\n",
    "print(brefs)\n",
    "\n",
    "plt.scatter(x=currents, y=measured_means_in_T, label='Means', marker='x', alpha=.4, color='red')\n",
    "plt.scatter(x=currents, y=brefs, label='B Refs')\n",
    "plt.legend()\n",
    "plt.show()"
   ]
  },
  {
   "cell_type": "code",
   "execution_count": 90,
   "metadata": {},
   "outputs": [
    {
     "data": {
      "application/vnd.plotly.v1+json": {
       "config": {
        "plotlyServerURL": "https://plot.ly"
       },
       "data": [
        {
         "marker": {
          "opacity": 0.5,
          "size": 12
         },
         "mode": "markers",
         "name": "Measured Means",
         "type": "scatter",
         "x": [
          1.737,
          0.874,
          -0.874,
          -1.737
         ],
         "y": [
          0.0012936267516241119,
          0.0006477436263677691,
          -0.0006606787834920368,
          -0.0013099933991832903
         ]
        },
        {
         "marker": {
          "opacity": 0.8,
          "size": 6
         },
         "mode": "markers",
         "name": "Calculated B_refs",
         "type": "scatter",
         "x": [
          1.737,
          0.874,
          -0.874,
          -1.737
         ],
         "y": [
          0.001291145211980288,
          0.0006496608608352168,
          -0.0006496608608352168,
          -0.001291145211980288
         ]
        }
       ],
       "layout": {
        "template": {
         "data": {
          "bar": [
           {
            "error_x": {
             "color": "#2a3f5f"
            },
            "error_y": {
             "color": "#2a3f5f"
            },
            "marker": {
             "line": {
              "color": "#E5ECF6",
              "width": 0.5
             },
             "pattern": {
              "fillmode": "overlay",
              "size": 10,
              "solidity": 0.2
             }
            },
            "type": "bar"
           }
          ],
          "barpolar": [
           {
            "marker": {
             "line": {
              "color": "#E5ECF6",
              "width": 0.5
             },
             "pattern": {
              "fillmode": "overlay",
              "size": 10,
              "solidity": 0.2
             }
            },
            "type": "barpolar"
           }
          ],
          "carpet": [
           {
            "aaxis": {
             "endlinecolor": "#2a3f5f",
             "gridcolor": "white",
             "linecolor": "white",
             "minorgridcolor": "white",
             "startlinecolor": "#2a3f5f"
            },
            "baxis": {
             "endlinecolor": "#2a3f5f",
             "gridcolor": "white",
             "linecolor": "white",
             "minorgridcolor": "white",
             "startlinecolor": "#2a3f5f"
            },
            "type": "carpet"
           }
          ],
          "choropleth": [
           {
            "colorbar": {
             "outlinewidth": 0,
             "ticks": ""
            },
            "type": "choropleth"
           }
          ],
          "contour": [
           {
            "colorbar": {
             "outlinewidth": 0,
             "ticks": ""
            },
            "colorscale": [
             [
              0,
              "#0d0887"
             ],
             [
              0.1111111111111111,
              "#46039f"
             ],
             [
              0.2222222222222222,
              "#7201a8"
             ],
             [
              0.3333333333333333,
              "#9c179e"
             ],
             [
              0.4444444444444444,
              "#bd3786"
             ],
             [
              0.5555555555555556,
              "#d8576b"
             ],
             [
              0.6666666666666666,
              "#ed7953"
             ],
             [
              0.7777777777777778,
              "#fb9f3a"
             ],
             [
              0.8888888888888888,
              "#fdca26"
             ],
             [
              1,
              "#f0f921"
             ]
            ],
            "type": "contour"
           }
          ],
          "contourcarpet": [
           {
            "colorbar": {
             "outlinewidth": 0,
             "ticks": ""
            },
            "type": "contourcarpet"
           }
          ],
          "heatmap": [
           {
            "colorbar": {
             "outlinewidth": 0,
             "ticks": ""
            },
            "colorscale": [
             [
              0,
              "#0d0887"
             ],
             [
              0.1111111111111111,
              "#46039f"
             ],
             [
              0.2222222222222222,
              "#7201a8"
             ],
             [
              0.3333333333333333,
              "#9c179e"
             ],
             [
              0.4444444444444444,
              "#bd3786"
             ],
             [
              0.5555555555555556,
              "#d8576b"
             ],
             [
              0.6666666666666666,
              "#ed7953"
             ],
             [
              0.7777777777777778,
              "#fb9f3a"
             ],
             [
              0.8888888888888888,
              "#fdca26"
             ],
             [
              1,
              "#f0f921"
             ]
            ],
            "type": "heatmap"
           }
          ],
          "heatmapgl": [
           {
            "colorbar": {
             "outlinewidth": 0,
             "ticks": ""
            },
            "colorscale": [
             [
              0,
              "#0d0887"
             ],
             [
              0.1111111111111111,
              "#46039f"
             ],
             [
              0.2222222222222222,
              "#7201a8"
             ],
             [
              0.3333333333333333,
              "#9c179e"
             ],
             [
              0.4444444444444444,
              "#bd3786"
             ],
             [
              0.5555555555555556,
              "#d8576b"
             ],
             [
              0.6666666666666666,
              "#ed7953"
             ],
             [
              0.7777777777777778,
              "#fb9f3a"
             ],
             [
              0.8888888888888888,
              "#fdca26"
             ],
             [
              1,
              "#f0f921"
             ]
            ],
            "type": "heatmapgl"
           }
          ],
          "histogram": [
           {
            "marker": {
             "pattern": {
              "fillmode": "overlay",
              "size": 10,
              "solidity": 0.2
             }
            },
            "type": "histogram"
           }
          ],
          "histogram2d": [
           {
            "colorbar": {
             "outlinewidth": 0,
             "ticks": ""
            },
            "colorscale": [
             [
              0,
              "#0d0887"
             ],
             [
              0.1111111111111111,
              "#46039f"
             ],
             [
              0.2222222222222222,
              "#7201a8"
             ],
             [
              0.3333333333333333,
              "#9c179e"
             ],
             [
              0.4444444444444444,
              "#bd3786"
             ],
             [
              0.5555555555555556,
              "#d8576b"
             ],
             [
              0.6666666666666666,
              "#ed7953"
             ],
             [
              0.7777777777777778,
              "#fb9f3a"
             ],
             [
              0.8888888888888888,
              "#fdca26"
             ],
             [
              1,
              "#f0f921"
             ]
            ],
            "type": "histogram2d"
           }
          ],
          "histogram2dcontour": [
           {
            "colorbar": {
             "outlinewidth": 0,
             "ticks": ""
            },
            "colorscale": [
             [
              0,
              "#0d0887"
             ],
             [
              0.1111111111111111,
              "#46039f"
             ],
             [
              0.2222222222222222,
              "#7201a8"
             ],
             [
              0.3333333333333333,
              "#9c179e"
             ],
             [
              0.4444444444444444,
              "#bd3786"
             ],
             [
              0.5555555555555556,
              "#d8576b"
             ],
             [
              0.6666666666666666,
              "#ed7953"
             ],
             [
              0.7777777777777778,
              "#fb9f3a"
             ],
             [
              0.8888888888888888,
              "#fdca26"
             ],
             [
              1,
              "#f0f921"
             ]
            ],
            "type": "histogram2dcontour"
           }
          ],
          "mesh3d": [
           {
            "colorbar": {
             "outlinewidth": 0,
             "ticks": ""
            },
            "type": "mesh3d"
           }
          ],
          "parcoords": [
           {
            "line": {
             "colorbar": {
              "outlinewidth": 0,
              "ticks": ""
             }
            },
            "type": "parcoords"
           }
          ],
          "pie": [
           {
            "automargin": true,
            "type": "pie"
           }
          ],
          "scatter": [
           {
            "fillpattern": {
             "fillmode": "overlay",
             "size": 10,
             "solidity": 0.2
            },
            "type": "scatter"
           }
          ],
          "scatter3d": [
           {
            "line": {
             "colorbar": {
              "outlinewidth": 0,
              "ticks": ""
             }
            },
            "marker": {
             "colorbar": {
              "outlinewidth": 0,
              "ticks": ""
             }
            },
            "type": "scatter3d"
           }
          ],
          "scattercarpet": [
           {
            "marker": {
             "colorbar": {
              "outlinewidth": 0,
              "ticks": ""
             }
            },
            "type": "scattercarpet"
           }
          ],
          "scattergeo": [
           {
            "marker": {
             "colorbar": {
              "outlinewidth": 0,
              "ticks": ""
             }
            },
            "type": "scattergeo"
           }
          ],
          "scattergl": [
           {
            "marker": {
             "colorbar": {
              "outlinewidth": 0,
              "ticks": ""
             }
            },
            "type": "scattergl"
           }
          ],
          "scattermapbox": [
           {
            "marker": {
             "colorbar": {
              "outlinewidth": 0,
              "ticks": ""
             }
            },
            "type": "scattermapbox"
           }
          ],
          "scatterpolar": [
           {
            "marker": {
             "colorbar": {
              "outlinewidth": 0,
              "ticks": ""
             }
            },
            "type": "scatterpolar"
           }
          ],
          "scatterpolargl": [
           {
            "marker": {
             "colorbar": {
              "outlinewidth": 0,
              "ticks": ""
             }
            },
            "type": "scatterpolargl"
           }
          ],
          "scatterternary": [
           {
            "marker": {
             "colorbar": {
              "outlinewidth": 0,
              "ticks": ""
             }
            },
            "type": "scatterternary"
           }
          ],
          "surface": [
           {
            "colorbar": {
             "outlinewidth": 0,
             "ticks": ""
            },
            "colorscale": [
             [
              0,
              "#0d0887"
             ],
             [
              0.1111111111111111,
              "#46039f"
             ],
             [
              0.2222222222222222,
              "#7201a8"
             ],
             [
              0.3333333333333333,
              "#9c179e"
             ],
             [
              0.4444444444444444,
              "#bd3786"
             ],
             [
              0.5555555555555556,
              "#d8576b"
             ],
             [
              0.6666666666666666,
              "#ed7953"
             ],
             [
              0.7777777777777778,
              "#fb9f3a"
             ],
             [
              0.8888888888888888,
              "#fdca26"
             ],
             [
              1,
              "#f0f921"
             ]
            ],
            "type": "surface"
           }
          ],
          "table": [
           {
            "cells": {
             "fill": {
              "color": "#EBF0F8"
             },
             "line": {
              "color": "white"
             }
            },
            "header": {
             "fill": {
              "color": "#C8D4E3"
             },
             "line": {
              "color": "white"
             }
            },
            "type": "table"
           }
          ]
         },
         "layout": {
          "annotationdefaults": {
           "arrowcolor": "#2a3f5f",
           "arrowhead": 0,
           "arrowwidth": 1
          },
          "autotypenumbers": "strict",
          "coloraxis": {
           "colorbar": {
            "outlinewidth": 0,
            "ticks": ""
           }
          },
          "colorscale": {
           "diverging": [
            [
             0,
             "#8e0152"
            ],
            [
             0.1,
             "#c51b7d"
            ],
            [
             0.2,
             "#de77ae"
            ],
            [
             0.3,
             "#f1b6da"
            ],
            [
             0.4,
             "#fde0ef"
            ],
            [
             0.5,
             "#f7f7f7"
            ],
            [
             0.6,
             "#e6f5d0"
            ],
            [
             0.7,
             "#b8e186"
            ],
            [
             0.8,
             "#7fbc41"
            ],
            [
             0.9,
             "#4d9221"
            ],
            [
             1,
             "#276419"
            ]
           ],
           "sequential": [
            [
             0,
             "#0d0887"
            ],
            [
             0.1111111111111111,
             "#46039f"
            ],
            [
             0.2222222222222222,
             "#7201a8"
            ],
            [
             0.3333333333333333,
             "#9c179e"
            ],
            [
             0.4444444444444444,
             "#bd3786"
            ],
            [
             0.5555555555555556,
             "#d8576b"
            ],
            [
             0.6666666666666666,
             "#ed7953"
            ],
            [
             0.7777777777777778,
             "#fb9f3a"
            ],
            [
             0.8888888888888888,
             "#fdca26"
            ],
            [
             1,
             "#f0f921"
            ]
           ],
           "sequentialminus": [
            [
             0,
             "#0d0887"
            ],
            [
             0.1111111111111111,
             "#46039f"
            ],
            [
             0.2222222222222222,
             "#7201a8"
            ],
            [
             0.3333333333333333,
             "#9c179e"
            ],
            [
             0.4444444444444444,
             "#bd3786"
            ],
            [
             0.5555555555555556,
             "#d8576b"
            ],
            [
             0.6666666666666666,
             "#ed7953"
            ],
            [
             0.7777777777777778,
             "#fb9f3a"
            ],
            [
             0.8888888888888888,
             "#fdca26"
            ],
            [
             1,
             "#f0f921"
            ]
           ]
          },
          "colorway": [
           "#636efa",
           "#EF553B",
           "#00cc96",
           "#ab63fa",
           "#FFA15A",
           "#19d3f3",
           "#FF6692",
           "#B6E880",
           "#FF97FF",
           "#FECB52"
          ],
          "font": {
           "color": "#2a3f5f"
          },
          "geo": {
           "bgcolor": "white",
           "lakecolor": "white",
           "landcolor": "#E5ECF6",
           "showlakes": true,
           "showland": true,
           "subunitcolor": "white"
          },
          "hoverlabel": {
           "align": "left"
          },
          "hovermode": "closest",
          "mapbox": {
           "style": "light"
          },
          "paper_bgcolor": "white",
          "plot_bgcolor": "#E5ECF6",
          "polar": {
           "angularaxis": {
            "gridcolor": "white",
            "linecolor": "white",
            "ticks": ""
           },
           "bgcolor": "#E5ECF6",
           "radialaxis": {
            "gridcolor": "white",
            "linecolor": "white",
            "ticks": ""
           }
          },
          "scene": {
           "xaxis": {
            "backgroundcolor": "#E5ECF6",
            "gridcolor": "white",
            "gridwidth": 2,
            "linecolor": "white",
            "showbackground": true,
            "ticks": "",
            "zerolinecolor": "white"
           },
           "yaxis": {
            "backgroundcolor": "#E5ECF6",
            "gridcolor": "white",
            "gridwidth": 2,
            "linecolor": "white",
            "showbackground": true,
            "ticks": "",
            "zerolinecolor": "white"
           },
           "zaxis": {
            "backgroundcolor": "#E5ECF6",
            "gridcolor": "white",
            "gridwidth": 2,
            "linecolor": "white",
            "showbackground": true,
            "ticks": "",
            "zerolinecolor": "white"
           }
          },
          "shapedefaults": {
           "line": {
            "color": "#2a3f5f"
           }
          },
          "ternary": {
           "aaxis": {
            "gridcolor": "white",
            "linecolor": "white",
            "ticks": ""
           },
           "baxis": {
            "gridcolor": "white",
            "linecolor": "white",
            "ticks": ""
           },
           "bgcolor": "#E5ECF6",
           "caxis": {
            "gridcolor": "white",
            "linecolor": "white",
            "ticks": ""
           }
          },
          "title": {
           "x": 0.05
          },
          "xaxis": {
           "automargin": true,
           "gridcolor": "white",
           "linecolor": "white",
           "ticks": "",
           "title": {
            "standoff": 15
           },
           "zerolinecolor": "white",
           "zerolinewidth": 2
          },
          "yaxis": {
           "automargin": true,
           "gridcolor": "white",
           "linecolor": "white",
           "ticks": "",
           "title": {
            "standoff": 15
           },
           "zerolinecolor": "white",
           "zerolinewidth": 2
          }
         }
        },
        "title": {
         "text": "Scatter Plot of Currents vs Measured B_y and B_ref"
        },
        "xaxis": {
         "title": {
          "text": "Currents [A]"
         }
        },
        "yaxis": {
         "title": {
          "text": "Magnetic Field [T]"
         }
        }
       }
      }
     },
     "metadata": {},
     "output_type": "display_data"
    }
   ],
   "source": [
    "fig = go.Figure()\n",
    "\n",
    "fig.add_trace(go.Scatter(x=currents, y=measured_means_in_T, mode='markers', marker=dict(size=12, opacity=0.5), name='Measured Means'))\n",
    "fig.add_trace(go.Scatter(x=currents, y=brefs, mode='markers', marker=dict(size=6, opacity=0.8), name='Calculated B_refs'))\n",
    "\n",
    "# Add title and axis labels\n",
    "fig.update_layout(\n",
    "    title=\"Scatter Plot of Currents vs Measured B_y and B_ref\",\n",
    "    xaxis_title=\"Currents [A]\",\n",
    "    yaxis_title=\"Magnetic Field [T]\"\n",
    ")\n",
    "\n",
    "# Show the plot\n",
    "fig.show()"
   ]
  },
  {
   "cell_type": "code",
   "execution_count": 91,
   "metadata": {},
   "outputs": [
    {
     "name": "stdout",
     "output_type": "stream",
     "text": [
      "The Pearson R coefficient for the measured means is:  0.999999528186711\n"
     ]
    }
   ],
   "source": [
    "slope, intercept, r_value, _, _ = scipy.stats.linregress(x=currents, y=measured_means_in_T)\n",
    "print(\"The Pearson R coefficient for the measured means is: \", r_value)"
   ]
  },
  {
   "cell_type": "markdown",
   "metadata": {},
   "source": [
    "### Tracking Data Extraction"
   ]
  },
  {
   "cell_type": "code",
   "execution_count": 122,
   "metadata": {},
   "outputs": [
    {
     "data": {
      "application/vnd.plotly.v1+json": {
       "config": {
        "plotlyServerURL": "https://plot.ly"
       },
       "data": [
        {
         "hovertemplate": "Time (s)=%{x}<br>Magnetic Field z (µT)=%{y}<extra></extra>",
         "legendgroup": "",
         "line": {
          "color": "#636efa",
          "dash": "solid",
          "shape": "linear"
         },
         "marker": {
          "symbol": "circle"
         },
         "mode": "lines",
         "name": "",
         "orientation": "v",
         "showlegend": false,
         "type": "scatter",
         "x": [
          0.01050658333,
          0.02046958333,
          0.03043258333,
          0.04039558333,
          0.05035858333,
          0.06032158333,
          0.07028358333,
          0.08024658333,
          0.09020958333,
          0.1001725833,
          0.1101355833,
          0.1200985833,
          0.1300615833,
          0.1400245833,
          0.1499865833,
          0.1599495833,
          0.1699125833,
          0.1798755833,
          0.1898385833,
          0.1998015833,
          0.2097645833,
          0.2197275833,
          0.2296905833,
          0.2396525833,
          0.2496155833,
          0.2595785833,
          0.2695415833,
          0.2795045833,
          0.2894675833,
          0.2994305833,
          0.3093935833,
          0.3193565833,
          0.3293195833,
          0.3392815833,
          0.3492445833,
          0.3592075833,
          0.3691705833,
          0.3791335833,
          0.3890965833,
          0.3990595833,
          0.4090225833,
          0.4189845833,
          0.4289475833,
          0.4389105833,
          0.4488735833,
          0.4588365833,
          0.4687995833,
          0.4787625833,
          0.4887255833,
          0.4986885833,
          0.5086505833,
          0.5186135833,
          0.5285765833,
          0.5385395833,
          0.5485025833,
          0.5584655833,
          0.5684285833,
          0.5783915833,
          0.5883545833,
          0.5983165833,
          0.6082795833,
          0.6182425833,
          0.6282055833,
          0.6381685833,
          0.6481315833,
          0.6580945833,
          0.6680575833,
          0.6780205833,
          0.6879825833,
          0.6979455833,
          0.7079085833,
          0.7178715833,
          0.7278345833,
          0.7377975833,
          0.7477603333,
          0.7577233333,
          0.7676863333,
          0.7776483333,
          0.7876113333,
          0.7975743333,
          0.8075373333,
          0.8175003333,
          0.8274633333,
          0.8374263333,
          0.8473893333,
          0.8573523333,
          0.8673143333,
          0.8772773333,
          0.8872403333,
          0.8972033333,
          0.9071663333,
          0.9171293333,
          0.9270923333,
          0.9370553333,
          0.9470183333,
          0.9569803333,
          0.9669433333,
          0.9769063333,
          0.9868693333,
          0.9968323333,
          1.006795333,
          1.016758333,
          1.026721333,
          1.036684333,
          1.046646333,
          1.056609333,
          1.066572333,
          1.076535333,
          1.086498333,
          1.096461333,
          1.106424333,
          1.116387333,
          1.126350333,
          1.136312333,
          1.146275333,
          1.156238333,
          1.166201333,
          1.176164333,
          1.186127333,
          1.196090333,
          1.206053333,
          1.216016333,
          1.225978333,
          1.235941333,
          1.245904333,
          1.255867333,
          1.265830333,
          1.275793333,
          1.285756333,
          1.295719333,
          1.305682333,
          1.315644333,
          1.325607333,
          1.335570333,
          1.345533333,
          1.355496333,
          1.365459333,
          1.375422333,
          1.385385333,
          1.395348333,
          1.405310333,
          1.415273333,
          1.425236333,
          1.435199333,
          1.445162333,
          1.455125333,
          1.465088333,
          1.475051333,
          1.485014333,
          1.494976333,
          1.504939333,
          1.514902333,
          1.524865333,
          1.534828333,
          1.544791333,
          1.554754333,
          1.564717333,
          1.574680333,
          1.584642333,
          1.594605333,
          1.604568333,
          1.614531333,
          1.624494333,
          1.634457333,
          1.644420333,
          1.654383333,
          1.664346333,
          1.674308333,
          1.684271333,
          1.694234333,
          1.704197333,
          1.714160333,
          1.724123333,
          1.734086333,
          1.744049958,
          1.754012958,
          1.763974958,
          1.773937958,
          1.783900958,
          1.793863958,
          1.803826958,
          1.813789958,
          1.823752958,
          1.833715958,
          1.843678958,
          1.853640958,
          1.863603958,
          1.873566958,
          1.883529958,
          1.893492958,
          1.903455958,
          1.913418958,
          1.923381958,
          1.933344958,
          1.943306958,
          1.953269958,
          1.963232958,
          1.973195958,
          1.983158958,
          1.993121958,
          2.003084958,
          2.013047958,
          2.023010958,
          2.032972958,
          2.042935958,
          2.052898958,
          2.062861958,
          2.072824958,
          2.082787958,
          2.092750958,
          2.102713958,
          2.112676958,
          2.122638958,
          2.132601958,
          2.142564958,
          2.152527958,
          2.162490958,
          2.172453958,
          2.182416958,
          2.192379958,
          2.202342958,
          2.212304958,
          2.222267958,
          2.232230958,
          2.242193958,
          2.252156958,
          2.262119958,
          2.272082958,
          2.282045958,
          2.292008958,
          2.301970958,
          2.311933958,
          2.321896958,
          2.331859958,
          2.341822958,
          2.351785958,
          2.361748958,
          2.371711958,
          2.381674958,
          2.391636958,
          2.401599958,
          2.411562958,
          2.421525958,
          2.431488958,
          2.441451958,
          2.451414958,
          2.461377958,
          2.471340958,
          2.481302958,
          2.491265958,
          2.501228958,
          2.511191958,
          2.521154958,
          2.531117958,
          2.541080958,
          2.551043958,
          2.561006958,
          2.570968958,
          2.580931958,
          2.590894958,
          2.600857958,
          2.610820958,
          2.620783958,
          2.630746958,
          2.640709958,
          2.650672958,
          2.660634958,
          2.670597958,
          2.680560958,
          2.690523958,
          2.700486958,
          2.710449958,
          2.720412958,
          2.730375958,
          2.740338958,
          2.750301583,
          2.760264583,
          2.770227583,
          2.780190583,
          2.790153583,
          2.800116583,
          2.810079583,
          2.820042583,
          2.830005583,
          2.839967583,
          2.849930583,
          2.859893583,
          2.869856583,
          2.879819583,
          2.889782583,
          2.899745583,
          2.909708583,
          2.919671583,
          2.929633583,
          2.939596583,
          2.949559583,
          2.959522583,
          2.969485583,
          2.979448583,
          2.989411583,
          2.999374583,
          3.009337583,
          3.019299583,
          3.029262583,
          3.039225583,
          3.049188583,
          3.059151583,
          3.069114583,
          3.079077583,
          3.089040583,
          3.099003583,
          3.108965583,
          3.118928583,
          3.128891583,
          3.138854583,
          3.148817583,
          3.158780583,
          3.168743583,
          3.178706583,
          3.188669583,
          3.198631583,
          3.208594583,
          3.218557583,
          3.228520583,
          3.238483583,
          3.248446583,
          3.258409583,
          3.268372583,
          3.278335583,
          3.288297583,
          3.298260583,
          3.308223583,
          3.318186583,
          3.328149583,
          3.338112583,
          3.348075583,
          3.358038583,
          3.368001583,
          3.377963583,
          3.387926583,
          3.397889583,
          3.407852583,
          3.417815583,
          3.427778583,
          3.437741583,
          3.447704583,
          3.457667583,
          3.467629583,
          3.477592583,
          3.487555583,
          3.497518583,
          3.507481583,
          3.517444583,
          3.527407583,
          3.537370583,
          3.547333583,
          3.557295583,
          3.567258583,
          3.577221583,
          3.587184583,
          3.597147583,
          3.607110583,
          3.617073583,
          3.627036583,
          3.636999583,
          3.646961583,
          3.656924583,
          3.666887583,
          3.676850583,
          3.686813583,
          3.696776583,
          3.706739583,
          3.716702583,
          3.726665583,
          3.736627583
         ],
         "xaxis": "x",
         "y": [
          -63.45953369,
          -63.45555115,
          -63.41033936,
          -63.56297302,
          -63.47621155,
          -63.48876953,
          -63.45550537,
          -63.53771973,
          -63.5836792,
          -63.53964233,
          -63.55032349,
          -63.65136719,
          -63.4982605,
          -63.51806641,
          -63.53831482,
          -63.55993652,
          -63.73162842,
          -63.62953186,
          -63.78936768,
          -63.64544678,
          -63.59135437,
          -63.56204224,
          -63.56813049,
          -63.68136597,
          -63.63290405,
          -63.59509277,
          -63.59918213,
          -63.41320801,
          -63.50717163,
          -63.48406982,
          -63.58348083,
          -63.66159058,
          -63.62719727,
          -63.46704102,
          -63.60783386,
          -63.38497925,
          -63.56057739,
          -63.78199768,
          -63.62948608,
          -63.50527954,
          -63.42689514,
          -63.32798767,
          -63.26516724,
          -63.20654297,
          -63.48217773,
          -63.38893127,
          -63.52403259,
          -63.72218323,
          -63.48753357,
          -63.24510193,
          -63.3734436,
          -63.52810669,
          -63.52955627,
          -117.0283356,
          -132.0290222,
          -136.0782776,
          -137.2578278,
          -137.4480438,
          -137.5533447,
          -137.6784515,
          -137.6798096,
          -137.6768646,
          -137.7825623,
          -137.6176147,
          -137.7118225,
          -137.6842194,
          -137.6673279,
          -137.7080383,
          -137.6989899,
          -137.8601685,
          -137.7278595,
          -137.7374268,
          -137.6623077,
          -138.0009155,
          -137.9127655,
          -137.7894745,
          -137.6055145,
          -137.788559,
          -137.7271118,
          -137.6562958,
          -137.8015594,
          -137.9369965,
          -137.8590851,
          -137.6177979,
          -137.7293549,
          -137.716217,
          -137.4533997,
          -137.3630676,
          -137.5032043,
          -137.4814758,
          -137.4932404,
          -137.5252075,
          -137.6470032,
          -137.6368561,
          -137.7312164,
          -137.4405518,
          -137.6691284,
          -137.6868896,
          -137.407196,
          -137.6639252,
          -137.5446014,
          -137.7032318,
          -137.7849121,
          -137.7227173,
          -137.5960846,
          -137.7355804,
          -137.8821716,
          -137.7335815,
          -137.8256836,
          -137.9109039,
          -137.824585,
          -137.898819,
          -137.6368713,
          -137.8116913,
          -137.5610046,
          -137.5814362,
          -137.4294434,
          -137.4322052,
          -137.5391235,
          -137.3562012,
          -137.4595947,
          -137.4938202,
          -137.5921631,
          -137.5840759,
          -137.5089722,
          -137.5193481,
          -137.723938,
          -137.5870667,
          -137.6876221,
          -137.4755402,
          -137.534317,
          -137.4176636,
          -137.5025024,
          -137.5560608,
          -137.6825714,
          -137.6416321,
          -137.8615265,
          -137.7301025,
          -137.5672913,
          -137.4990082,
          -137.5139618,
          -137.4158325,
          -137.5255737,
          -137.6682281,
          -137.731781,
          -137.7954407,
          -137.8648376,
          -137.7945404,
          -137.8296814,
          -137.5994415,
          -137.5858307,
          -137.4760742,
          -137.6201172,
          -137.8306274,
          -137.9094391,
          -137.6616364,
          -137.7284241,
          -139.3070831,
          -139.2360382,
          -139.2515564,
          -139.270401,
          -139.3422699,
          -139.2554932,
          -139.363266,
          -139.2852631,
          -139.2387695,
          -139.3348846,
          -139.2990875,
          -139.4209595,
          -139.3828125,
          -139.0224152,
          -139.1135712,
          -139.2164764,
          -139.1894073,
          -139.1617584,
          -139.0750427,
          -139.2259064,
          -139.3273926,
          -139.171814,
          -139.3701172,
          -139.3504028,
          -139.1437378,
          -139.3910828,
          -139.4373322,
          -139.4373322,
          -139.3832397,
          -139.3383026,
          -139.1266937,
          -139.1390533,
          -139.0620575,
          -139.1923828,
          -139.3574371,
          -139.4546204,
          -139.4657898,
          -139.3223267,
          -139.1598206,
          -139.127655,
          -139.0694122,
          -139.0683136,
          -139.0452423,
          -138.9009094,
          -139.0457458,
          -138.7159882,
          -138.8504791,
          -139.0896301,
          -139.2390747,
          -139.2318115,
          -64.67236328,
          -43.57154846,
          -37.66584778,
          -35.42784119,
          -34.92492676,
          -34.68443298,
          -34.90859985,
          -34.93521118,
          -35.01907349,
          -34.86227417,
          -34.82295227,
          -34.78977966,
          -35.15267944,
          -34.86447144,
          -34.64741516,
          -34.84028625,
          -34.81646729,
          -34.93473816,
          -34.85343933,
          -34.90718079,
          -35.07507324,
          -34.82609558,
          -34.72067261,
          -34.75379944,
          -34.80274963,
          -34.60758972,
          -34.81242371,
          -34.88194275,
          -34.73927307,
          -34.76591492,
          -34.70840454,
          -34.84220886,
          -34.95777893,
          -34.90890503,
          -34.92720032,
          -34.57156372,
          -34.61323547,
          -34.66041565,
          -34.75544739,
          -34.5499115,
          -34.84307861,
          -34.81498718,
          -34.95845032,
          -35.11627197,
          -35.04345703,
          -34.91491699,
          -35.00376892,
          -34.90931702,
          -34.92286682,
          -34.94500732,
          -34.79974365,
          -34.89637756,
          -35.12690735,
          -35.17341614,
          -35.18032837,
          -35.20439148,
          -35.2323761,
          -35.07196045,
          -34.98487854,
          -35.07771301,
          -34.9704895,
          -35.08407593,
          -35.06085205,
          -35.04417419,
          -34.98451233,
          -34.92987061,
          -34.87402344,
          -35.00164795,
          -34.96881104,
          -35.30923462,
          -35.25386047,
          -35.17346191,
          -35.21307373,
          -35.19184875,
          -34.93321228,
          -34.79391479,
          -34.91616821,
          -54.77804565,
          -60.9375,
          -62.69059753,
          -63.15565491,
          -63.20838928,
          -63.29719543,
          -63.22943115,
          -63.23405457,
          -63.15301514,
          -63.254776,
          -63.28025818,
          -63.42408752,
          -63.42466736,
          -63.60241699,
          -63.38623047,
          -63.34007263,
          -63.16795349,
          -63.35507202,
          -63.32235718,
          -63.25440979,
          -63.35484314,
          -63.37738037,
          -63.43200684,
          -63.30212402,
          -63.42074585,
          -63.47068787,
          -63.44651794,
          -63.50950623,
          -63.30049133,
          -63.37104797,
          -63.50047302,
          -63.41775513,
          -63.3886261,
          -63.30632019,
          -63.43656921,
          -63.71272278,
          -63.72131348,
          -63.67066956,
          -63.71748352,
          -63.60293579,
          -63.6605072,
          -63.81208801,
          -63.77053833,
          -63.74058533,
          -63.83370972,
          -63.71925354,
          -63.83004761,
          -63.86300659,
          -63.65411377,
          -63.39332581,
          -63.39143372,
          -63.36923218,
          -63.08401489,
          -63.50498962,
          -63.47505188,
          -63.55361938,
          -63.72479248,
          -63.61883545,
          -63.54693604,
          -63.47538757,
          -63.49124146,
          -63.53370667,
          -63.64031982,
          -63.59799194,
          -63.42189026,
          -63.59603882,
          -63.51187134,
          -63.46556091,
          -63.56246948,
          -63.55015564,
          -63.66529846,
          -63.51026917,
          -63.54069519,
          -63.5118103,
          -63.36320496,
          -63.51620483,
          -63.35354614,
          -63.53570557,
          -63.5605011,
          -63.55952454,
          -63.66546631,
          -63.60908508,
          -63.54440308,
          -63.52037048,
          -63.55526733,
          -63.57894897,
          -63.59234619,
          -63.64675903,
          -63.56652832,
          -63.83197021,
          -63.64001465
         ],
         "yaxis": "y"
        }
       ],
       "layout": {
        "legend": {
         "tracegroupgap": 0
        },
        "template": {
         "data": {
          "bar": [
           {
            "error_x": {
             "color": "#2a3f5f"
            },
            "error_y": {
             "color": "#2a3f5f"
            },
            "marker": {
             "line": {
              "color": "#E5ECF6",
              "width": 0.5
             },
             "pattern": {
              "fillmode": "overlay",
              "size": 10,
              "solidity": 0.2
             }
            },
            "type": "bar"
           }
          ],
          "barpolar": [
           {
            "marker": {
             "line": {
              "color": "#E5ECF6",
              "width": 0.5
             },
             "pattern": {
              "fillmode": "overlay",
              "size": 10,
              "solidity": 0.2
             }
            },
            "type": "barpolar"
           }
          ],
          "carpet": [
           {
            "aaxis": {
             "endlinecolor": "#2a3f5f",
             "gridcolor": "white",
             "linecolor": "white",
             "minorgridcolor": "white",
             "startlinecolor": "#2a3f5f"
            },
            "baxis": {
             "endlinecolor": "#2a3f5f",
             "gridcolor": "white",
             "linecolor": "white",
             "minorgridcolor": "white",
             "startlinecolor": "#2a3f5f"
            },
            "type": "carpet"
           }
          ],
          "choropleth": [
           {
            "colorbar": {
             "outlinewidth": 0,
             "ticks": ""
            },
            "type": "choropleth"
           }
          ],
          "contour": [
           {
            "colorbar": {
             "outlinewidth": 0,
             "ticks": ""
            },
            "colorscale": [
             [
              0,
              "#0d0887"
             ],
             [
              0.1111111111111111,
              "#46039f"
             ],
             [
              0.2222222222222222,
              "#7201a8"
             ],
             [
              0.3333333333333333,
              "#9c179e"
             ],
             [
              0.4444444444444444,
              "#bd3786"
             ],
             [
              0.5555555555555556,
              "#d8576b"
             ],
             [
              0.6666666666666666,
              "#ed7953"
             ],
             [
              0.7777777777777778,
              "#fb9f3a"
             ],
             [
              0.8888888888888888,
              "#fdca26"
             ],
             [
              1,
              "#f0f921"
             ]
            ],
            "type": "contour"
           }
          ],
          "contourcarpet": [
           {
            "colorbar": {
             "outlinewidth": 0,
             "ticks": ""
            },
            "type": "contourcarpet"
           }
          ],
          "heatmap": [
           {
            "colorbar": {
             "outlinewidth": 0,
             "ticks": ""
            },
            "colorscale": [
             [
              0,
              "#0d0887"
             ],
             [
              0.1111111111111111,
              "#46039f"
             ],
             [
              0.2222222222222222,
              "#7201a8"
             ],
             [
              0.3333333333333333,
              "#9c179e"
             ],
             [
              0.4444444444444444,
              "#bd3786"
             ],
             [
              0.5555555555555556,
              "#d8576b"
             ],
             [
              0.6666666666666666,
              "#ed7953"
             ],
             [
              0.7777777777777778,
              "#fb9f3a"
             ],
             [
              0.8888888888888888,
              "#fdca26"
             ],
             [
              1,
              "#f0f921"
             ]
            ],
            "type": "heatmap"
           }
          ],
          "heatmapgl": [
           {
            "colorbar": {
             "outlinewidth": 0,
             "ticks": ""
            },
            "colorscale": [
             [
              0,
              "#0d0887"
             ],
             [
              0.1111111111111111,
              "#46039f"
             ],
             [
              0.2222222222222222,
              "#7201a8"
             ],
             [
              0.3333333333333333,
              "#9c179e"
             ],
             [
              0.4444444444444444,
              "#bd3786"
             ],
             [
              0.5555555555555556,
              "#d8576b"
             ],
             [
              0.6666666666666666,
              "#ed7953"
             ],
             [
              0.7777777777777778,
              "#fb9f3a"
             ],
             [
              0.8888888888888888,
              "#fdca26"
             ],
             [
              1,
              "#f0f921"
             ]
            ],
            "type": "heatmapgl"
           }
          ],
          "histogram": [
           {
            "marker": {
             "pattern": {
              "fillmode": "overlay",
              "size": 10,
              "solidity": 0.2
             }
            },
            "type": "histogram"
           }
          ],
          "histogram2d": [
           {
            "colorbar": {
             "outlinewidth": 0,
             "ticks": ""
            },
            "colorscale": [
             [
              0,
              "#0d0887"
             ],
             [
              0.1111111111111111,
              "#46039f"
             ],
             [
              0.2222222222222222,
              "#7201a8"
             ],
             [
              0.3333333333333333,
              "#9c179e"
             ],
             [
              0.4444444444444444,
              "#bd3786"
             ],
             [
              0.5555555555555556,
              "#d8576b"
             ],
             [
              0.6666666666666666,
              "#ed7953"
             ],
             [
              0.7777777777777778,
              "#fb9f3a"
             ],
             [
              0.8888888888888888,
              "#fdca26"
             ],
             [
              1,
              "#f0f921"
             ]
            ],
            "type": "histogram2d"
           }
          ],
          "histogram2dcontour": [
           {
            "colorbar": {
             "outlinewidth": 0,
             "ticks": ""
            },
            "colorscale": [
             [
              0,
              "#0d0887"
             ],
             [
              0.1111111111111111,
              "#46039f"
             ],
             [
              0.2222222222222222,
              "#7201a8"
             ],
             [
              0.3333333333333333,
              "#9c179e"
             ],
             [
              0.4444444444444444,
              "#bd3786"
             ],
             [
              0.5555555555555556,
              "#d8576b"
             ],
             [
              0.6666666666666666,
              "#ed7953"
             ],
             [
              0.7777777777777778,
              "#fb9f3a"
             ],
             [
              0.8888888888888888,
              "#fdca26"
             ],
             [
              1,
              "#f0f921"
             ]
            ],
            "type": "histogram2dcontour"
           }
          ],
          "mesh3d": [
           {
            "colorbar": {
             "outlinewidth": 0,
             "ticks": ""
            },
            "type": "mesh3d"
           }
          ],
          "parcoords": [
           {
            "line": {
             "colorbar": {
              "outlinewidth": 0,
              "ticks": ""
             }
            },
            "type": "parcoords"
           }
          ],
          "pie": [
           {
            "automargin": true,
            "type": "pie"
           }
          ],
          "scatter": [
           {
            "fillpattern": {
             "fillmode": "overlay",
             "size": 10,
             "solidity": 0.2
            },
            "type": "scatter"
           }
          ],
          "scatter3d": [
           {
            "line": {
             "colorbar": {
              "outlinewidth": 0,
              "ticks": ""
             }
            },
            "marker": {
             "colorbar": {
              "outlinewidth": 0,
              "ticks": ""
             }
            },
            "type": "scatter3d"
           }
          ],
          "scattercarpet": [
           {
            "marker": {
             "colorbar": {
              "outlinewidth": 0,
              "ticks": ""
             }
            },
            "type": "scattercarpet"
           }
          ],
          "scattergeo": [
           {
            "marker": {
             "colorbar": {
              "outlinewidth": 0,
              "ticks": ""
             }
            },
            "type": "scattergeo"
           }
          ],
          "scattergl": [
           {
            "marker": {
             "colorbar": {
              "outlinewidth": 0,
              "ticks": ""
             }
            },
            "type": "scattergl"
           }
          ],
          "scattermapbox": [
           {
            "marker": {
             "colorbar": {
              "outlinewidth": 0,
              "ticks": ""
             }
            },
            "type": "scattermapbox"
           }
          ],
          "scatterpolar": [
           {
            "marker": {
             "colorbar": {
              "outlinewidth": 0,
              "ticks": ""
             }
            },
            "type": "scatterpolar"
           }
          ],
          "scatterpolargl": [
           {
            "marker": {
             "colorbar": {
              "outlinewidth": 0,
              "ticks": ""
             }
            },
            "type": "scatterpolargl"
           }
          ],
          "scatterternary": [
           {
            "marker": {
             "colorbar": {
              "outlinewidth": 0,
              "ticks": ""
             }
            },
            "type": "scatterternary"
           }
          ],
          "surface": [
           {
            "colorbar": {
             "outlinewidth": 0,
             "ticks": ""
            },
            "colorscale": [
             [
              0,
              "#0d0887"
             ],
             [
              0.1111111111111111,
              "#46039f"
             ],
             [
              0.2222222222222222,
              "#7201a8"
             ],
             [
              0.3333333333333333,
              "#9c179e"
             ],
             [
              0.4444444444444444,
              "#bd3786"
             ],
             [
              0.5555555555555556,
              "#d8576b"
             ],
             [
              0.6666666666666666,
              "#ed7953"
             ],
             [
              0.7777777777777778,
              "#fb9f3a"
             ],
             [
              0.8888888888888888,
              "#fdca26"
             ],
             [
              1,
              "#f0f921"
             ]
            ],
            "type": "surface"
           }
          ],
          "table": [
           {
            "cells": {
             "fill": {
              "color": "#EBF0F8"
             },
             "line": {
              "color": "white"
             }
            },
            "header": {
             "fill": {
              "color": "#C8D4E3"
             },
             "line": {
              "color": "white"
             }
            },
            "type": "table"
           }
          ]
         },
         "layout": {
          "annotationdefaults": {
           "arrowcolor": "#2a3f5f",
           "arrowhead": 0,
           "arrowwidth": 1
          },
          "autotypenumbers": "strict",
          "coloraxis": {
           "colorbar": {
            "outlinewidth": 0,
            "ticks": ""
           }
          },
          "colorscale": {
           "diverging": [
            [
             0,
             "#8e0152"
            ],
            [
             0.1,
             "#c51b7d"
            ],
            [
             0.2,
             "#de77ae"
            ],
            [
             0.3,
             "#f1b6da"
            ],
            [
             0.4,
             "#fde0ef"
            ],
            [
             0.5,
             "#f7f7f7"
            ],
            [
             0.6,
             "#e6f5d0"
            ],
            [
             0.7,
             "#b8e186"
            ],
            [
             0.8,
             "#7fbc41"
            ],
            [
             0.9,
             "#4d9221"
            ],
            [
             1,
             "#276419"
            ]
           ],
           "sequential": [
            [
             0,
             "#0d0887"
            ],
            [
             0.1111111111111111,
             "#46039f"
            ],
            [
             0.2222222222222222,
             "#7201a8"
            ],
            [
             0.3333333333333333,
             "#9c179e"
            ],
            [
             0.4444444444444444,
             "#bd3786"
            ],
            [
             0.5555555555555556,
             "#d8576b"
            ],
            [
             0.6666666666666666,
             "#ed7953"
            ],
            [
             0.7777777777777778,
             "#fb9f3a"
            ],
            [
             0.8888888888888888,
             "#fdca26"
            ],
            [
             1,
             "#f0f921"
            ]
           ],
           "sequentialminus": [
            [
             0,
             "#0d0887"
            ],
            [
             0.1111111111111111,
             "#46039f"
            ],
            [
             0.2222222222222222,
             "#7201a8"
            ],
            [
             0.3333333333333333,
             "#9c179e"
            ],
            [
             0.4444444444444444,
             "#bd3786"
            ],
            [
             0.5555555555555556,
             "#d8576b"
            ],
            [
             0.6666666666666666,
             "#ed7953"
            ],
            [
             0.7777777777777778,
             "#fb9f3a"
            ],
            [
             0.8888888888888888,
             "#fdca26"
            ],
            [
             1,
             "#f0f921"
            ]
           ]
          },
          "colorway": [
           "#636efa",
           "#EF553B",
           "#00cc96",
           "#ab63fa",
           "#FFA15A",
           "#19d3f3",
           "#FF6692",
           "#B6E880",
           "#FF97FF",
           "#FECB52"
          ],
          "font": {
           "color": "#2a3f5f"
          },
          "geo": {
           "bgcolor": "white",
           "lakecolor": "white",
           "landcolor": "#E5ECF6",
           "showlakes": true,
           "showland": true,
           "subunitcolor": "white"
          },
          "hoverlabel": {
           "align": "left"
          },
          "hovermode": "closest",
          "mapbox": {
           "style": "light"
          },
          "paper_bgcolor": "white",
          "plot_bgcolor": "#E5ECF6",
          "polar": {
           "angularaxis": {
            "gridcolor": "white",
            "linecolor": "white",
            "ticks": ""
           },
           "bgcolor": "#E5ECF6",
           "radialaxis": {
            "gridcolor": "white",
            "linecolor": "white",
            "ticks": ""
           }
          },
          "scene": {
           "xaxis": {
            "backgroundcolor": "#E5ECF6",
            "gridcolor": "white",
            "gridwidth": 2,
            "linecolor": "white",
            "showbackground": true,
            "ticks": "",
            "zerolinecolor": "white"
           },
           "yaxis": {
            "backgroundcolor": "#E5ECF6",
            "gridcolor": "white",
            "gridwidth": 2,
            "linecolor": "white",
            "showbackground": true,
            "ticks": "",
            "zerolinecolor": "white"
           },
           "zaxis": {
            "backgroundcolor": "#E5ECF6",
            "gridcolor": "white",
            "gridwidth": 2,
            "linecolor": "white",
            "showbackground": true,
            "ticks": "",
            "zerolinecolor": "white"
           }
          },
          "shapedefaults": {
           "line": {
            "color": "#2a3f5f"
           }
          },
          "ternary": {
           "aaxis": {
            "gridcolor": "white",
            "linecolor": "white",
            "ticks": ""
           },
           "baxis": {
            "gridcolor": "white",
            "linecolor": "white",
            "ticks": ""
           },
           "bgcolor": "#E5ECF6",
           "caxis": {
            "gridcolor": "white",
            "linecolor": "white",
            "ticks": ""
           }
          },
          "title": {
           "x": 0.05
          },
          "xaxis": {
           "automargin": true,
           "gridcolor": "white",
           "linecolor": "white",
           "ticks": "",
           "title": {
            "standoff": 15
           },
           "zerolinecolor": "white",
           "zerolinewidth": 2
          },
          "yaxis": {
           "automargin": true,
           "gridcolor": "white",
           "linecolor": "white",
           "ticks": "",
           "title": {
            "standoff": 15
           },
           "zerolinecolor": "white",
           "zerolinewidth": 2
          }
         }
        },
        "title": {
         "text": "Absolute Field vs. Time"
        },
        "xaxis": {
         "anchor": "y",
         "domain": [
          0,
          1
         ],
         "title": {
          "text": "Time (s)"
         }
        },
        "yaxis": {
         "anchor": "x",
         "domain": [
          0,
          1
         ],
         "title": {
          "text": "Magnetic Field z (µT)"
         }
        }
       }
      }
     },
     "metadata": {},
     "output_type": "display_data"
    },
    {
     "data": {
      "text/html": [
       "<div>\n",
       "<style scoped>\n",
       "    .dataframe tbody tr th:only-of-type {\n",
       "        vertical-align: middle;\n",
       "    }\n",
       "\n",
       "    .dataframe tbody tr th {\n",
       "        vertical-align: top;\n",
       "    }\n",
       "\n",
       "    .dataframe thead th {\n",
       "        text-align: right;\n",
       "    }\n",
       "</style>\n",
       "<table border=\"1\" class=\"dataframe\">\n",
       "  <thead>\n",
       "    <tr style=\"text-align: right;\">\n",
       "      <th></th>\n",
       "      <th>Time (s)</th>\n",
       "      <th>Magnetic Field x (µT)</th>\n",
       "      <th>Magnetic Field y (µT)</th>\n",
       "      <th>Magnetic Field z (µT)</th>\n",
       "      <th>Absolute field (µT)</th>\n",
       "      <th>diff</th>\n",
       "    </tr>\n",
       "  </thead>\n",
       "  <tbody>\n",
       "    <tr>\n",
       "      <th>0</th>\n",
       "      <td>0.010507</td>\n",
       "      <td>37.711456</td>\n",
       "      <td>-53.869354</td>\n",
       "      <td>-63.459534</td>\n",
       "      <td>91.384756</td>\n",
       "      <td>NaN</td>\n",
       "    </tr>\n",
       "    <tr>\n",
       "      <th>1</th>\n",
       "      <td>0.020470</td>\n",
       "      <td>37.735016</td>\n",
       "      <td>-53.843094</td>\n",
       "      <td>-63.455551</td>\n",
       "      <td>91.376240</td>\n",
       "      <td>-0.008517</td>\n",
       "    </tr>\n",
       "    <tr>\n",
       "      <th>...</th>\n",
       "      <td>...</td>\n",
       "      <td>...</td>\n",
       "      <td>...</td>\n",
       "      <td>...</td>\n",
       "      <td>...</td>\n",
       "      <td>...</td>\n",
       "    </tr>\n",
       "    <tr>\n",
       "      <th>2220</th>\n",
       "      <td>22.128152</td>\n",
       "      <td>-250.930939</td>\n",
       "      <td>-687.661743</td>\n",
       "      <td>-35.059250</td>\n",
       "      <td>732.853437</td>\n",
       "      <td>-0.398357</td>\n",
       "    </tr>\n",
       "    <tr>\n",
       "      <th>2221</th>\n",
       "      <td>22.138114</td>\n",
       "      <td>-250.996170</td>\n",
       "      <td>-687.451965</td>\n",
       "      <td>-34.905167</td>\n",
       "      <td>732.671586</td>\n",
       "      <td>-0.181851</td>\n",
       "    </tr>\n",
       "  </tbody>\n",
       "</table>\n",
       "<p>2222 rows × 6 columns</p>\n",
       "</div>"
      ],
      "text/plain": [
       "       Time (s)  Magnetic Field x (µT)  Magnetic Field y (µT)  \\\n",
       "0      0.010507              37.711456             -53.869354   \n",
       "1      0.020470              37.735016             -53.843094   \n",
       "...         ...                    ...                    ...   \n",
       "2220  22.128152            -250.930939            -687.661743   \n",
       "2221  22.138114            -250.996170            -687.451965   \n",
       "\n",
       "      Magnetic Field z (µT)  Absolute field (µT)      diff  \n",
       "0                -63.459534            91.384756       NaN  \n",
       "1                -63.455551            91.376240 -0.008517  \n",
       "...                     ...                  ...       ...  \n",
       "2220             -35.059250           732.853437 -0.398357  \n",
       "2221             -34.905167           732.671586 -0.181851  \n",
       "\n",
       "[2222 rows x 6 columns]"
      ]
     },
     "metadata": {},
     "output_type": "display_data"
    },
    {
     "name": "stdout",
     "output_type": "stream",
     "text": [
      "[53, 105, 106, 207, 208, 386, 436, 437, 540, 541, 719, 771, 772, 872, 873, 1052, 1101, 1102, 1204, 1205, 1384, 1435, 1436, 1538, 1539, 1716, 1767, 1768, 1869, 1870, 2050, 2100, 2101, 2201, 2202]\n",
      "[156, 283, 284, 487, 614, 615, 820, 948, 949, 1152, 1280, 1281, 1486, 1612, 1613, 1816, 1946, 1947, 2150]\n"
     ]
    }
   ],
   "source": [
    "path_to_tracking = \"./data_raw/Raw Data-tracking.csv\"\n",
    "df_tracking = pd.read_csv(path_to_tracking)\n",
    "df_tracking.head()\n",
    "\n",
    "# Line plot of absolute field vs time\n",
    "fig = px.line(df_tracking[:375], x='Time (s)', y='Magnetic Field z (µT)', title=\"Absolute Field vs. Time\",\n",
    "              line_shape='linear', render_mode='svg')\n",
    "fig.show()\n",
    "\n",
    "threshold_value = 50\n",
    "\n",
    "# Calculate the differences between consecutive values and store them in a new column\n",
    "df_tracking['diff'] = df_tracking['Absolute field (µT)'].diff()\n",
    "pd.set_option('display.max_rows', 5)\n",
    "display(df_tracking)\n",
    "\n",
    "# Find indices of sharp rises and descents\n",
    "rise_indices_tracking = df_tracking[df_tracking['diff'] > threshold_value].index.tolist()\n",
    "descent_indices_tracking = df_tracking[(df_tracking['diff'].shift(-1) < -threshold_value)].index.tolist()\n",
    "print(rise_indices_tracking)\n",
    "print(descent_indices_tracking)\n"
   ]
  },
  {
   "cell_type": "code",
   "execution_count": 118,
   "metadata": {},
   "outputs": [
    {
     "name": "stdout",
     "output_type": "stream",
     "text": [
      "{'Magnetic Field x (µT)': [(1, 52), (58, 104), (111, 156), (163, 206), (213, 283), (290, 385)], 'Magnetic Field y (µT)': [(1, 52), (57, 104), (111, 156), (164, 206), (213, 283), (291, 385)], 'Magnetic Field z (µT)': [(1, 52), (58, 156), (159, 206), (212, 283), (288, 385)], 'Absolute field (µT)': [(1, 52), (58, 104), (111, 156), (163, 206), (213, 262), (264, 268), (270, 282), (290, 385)]}\n"
     ]
    }
   ],
   "source": [
    "# Identify plateaus using rolling windows\n",
    "def find_plateau_regions(df, threshold):\n",
    "    \"\"\"\n",
    "    Find plateau regions in the signal data.\n",
    "\n",
    "    Args:\n",
    "    df (pd.DataFrame): DataFrame containing signal data.\n",
    "    threshold (float): Threshold for detecting plateaus.\n",
    "\n",
    "    Returns:\n",
    "    dict: Dictionary containing plateau regions for each column.\n",
    "    \"\"\"\n",
    "    plateau_regions_dict = {}\n",
    "\n",
    "    for col in df.columns:\n",
    "        # Smooth the signal data using rolling window averaging\n",
    "        window_size = 2\n",
    "        smoothed_signal = df[col].rolling(window=window_size, min_periods=1).mean()\n",
    "\n",
    "        # Calculate the difference between consecutive smoothed values\n",
    "        diff_smoothed_signal = smoothed_signal.diff()\n",
    "\n",
    "        # Find indices where the difference is below the threshold\n",
    "        plateau_indices = diff_smoothed_signal.abs() < threshold\n",
    "\n",
    "        plateau_regions = []\n",
    "        start_index = None\n",
    "        for index, value in plateau_indices.items():\n",
    "            if value:  # If the difference is below the threshold\n",
    "                if start_index is None:\n",
    "                    start_index = index  # Start of plateau region\n",
    "            elif start_index is not None:\n",
    "                end_index = index - 1  # End of plateau region\n",
    "                plateau_regions.append((start_index, end_index))\n",
    "                start_index = None\n",
    "\n",
    "        plateau_regions_dict[col] = plateau_regions\n",
    "\n",
    "    return plateau_regions_dict\n",
    "\n",
    "threshold_value = .5\n",
    "df_trunc = df_tracking[:400]\n",
    "plateau_regions = find_plateau_regions(df_tracking[:400], threshold_value)\n",
    "plateau_regions = dict(list(plateau_regions.items())[1:-1])\n",
    "print(plateau_regions)"
   ]
  },
  {
   "cell_type": "code",
   "execution_count": 121,
   "metadata": {},
   "outputs": [
    {
     "name": "stdout",
     "output_type": "stream",
     "text": [
      "Plateau regions for Magnetic Field y (µT):\n",
      "Start index: 1, End index: 52\n",
      "Start index: 57, End index: 104\n",
      "Start index: 111, End index: 156\n",
      "Start index: 164, End index: 206\n",
      "Start index: 213, End index: 283\n",
      "Start index: 291, End index: 385\n"
     ]
    },
    {
     "data": {
      "application/vnd.plotly.v1+json": {
       "config": {
        "plotlyServerURL": "https://plot.ly"
       },
       "data": [
        {
         "line": {
          "color": "black"
         },
         "mode": "lines",
         "name": "Magnetic Field z",
         "type": "scatter",
         "x": [
          0.01050658333,
          0.02046958333,
          0.03043258333,
          0.04039558333,
          0.05035858333,
          0.06032158333,
          0.07028358333,
          0.08024658333,
          0.09020958333,
          0.1001725833,
          0.1101355833,
          0.1200985833,
          0.1300615833,
          0.1400245833,
          0.1499865833,
          0.1599495833,
          0.1699125833,
          0.1798755833,
          0.1898385833,
          0.1998015833,
          0.2097645833,
          0.2197275833,
          0.2296905833,
          0.2396525833,
          0.2496155833,
          0.2595785833,
          0.2695415833,
          0.2795045833,
          0.2894675833,
          0.2994305833,
          0.3093935833,
          0.3193565833,
          0.3293195833,
          0.3392815833,
          0.3492445833,
          0.3592075833,
          0.3691705833,
          0.3791335833,
          0.3890965833,
          0.3990595833,
          0.4090225833,
          0.4189845833,
          0.4289475833,
          0.4389105833,
          0.4488735833,
          0.4588365833,
          0.4687995833,
          0.4787625833,
          0.4887255833,
          0.4986885833,
          0.5086505833,
          0.5186135833,
          0.5285765833,
          0.5385395833,
          0.5485025833,
          0.5584655833,
          0.5684285833,
          0.5783915833,
          0.5883545833,
          0.5983165833,
          0.6082795833,
          0.6182425833,
          0.6282055833,
          0.6381685833,
          0.6481315833,
          0.6580945833,
          0.6680575833,
          0.6780205833,
          0.6879825833,
          0.6979455833,
          0.7079085833,
          0.7178715833,
          0.7278345833,
          0.7377975833,
          0.7477603333,
          0.7577233333,
          0.7676863333,
          0.7776483333,
          0.7876113333,
          0.7975743333,
          0.8075373333,
          0.8175003333,
          0.8274633333,
          0.8374263333,
          0.8473893333,
          0.8573523333,
          0.8673143333,
          0.8772773333,
          0.8872403333,
          0.8972033333,
          0.9071663333,
          0.9171293333,
          0.9270923333,
          0.9370553333,
          0.9470183333,
          0.9569803333,
          0.9669433333,
          0.9769063333,
          0.9868693333,
          0.9968323333,
          1.006795333,
          1.016758333,
          1.026721333,
          1.036684333,
          1.046646333,
          1.056609333,
          1.066572333,
          1.076535333,
          1.086498333,
          1.096461333,
          1.106424333,
          1.116387333,
          1.126350333,
          1.136312333,
          1.146275333,
          1.156238333,
          1.166201333,
          1.176164333,
          1.186127333,
          1.196090333,
          1.206053333,
          1.216016333,
          1.225978333,
          1.235941333,
          1.245904333,
          1.255867333,
          1.265830333,
          1.275793333,
          1.285756333,
          1.295719333,
          1.305682333,
          1.315644333,
          1.325607333,
          1.335570333,
          1.345533333,
          1.355496333,
          1.365459333,
          1.375422333,
          1.385385333,
          1.395348333,
          1.405310333,
          1.415273333,
          1.425236333,
          1.435199333,
          1.445162333,
          1.455125333,
          1.465088333,
          1.475051333,
          1.485014333,
          1.494976333,
          1.504939333,
          1.514902333,
          1.524865333,
          1.534828333,
          1.544791333,
          1.554754333,
          1.564717333,
          1.574680333,
          1.584642333,
          1.594605333,
          1.604568333,
          1.614531333,
          1.624494333,
          1.634457333,
          1.644420333,
          1.654383333,
          1.664346333,
          1.674308333,
          1.684271333,
          1.694234333,
          1.704197333,
          1.714160333,
          1.724123333,
          1.734086333,
          1.744049958,
          1.754012958,
          1.763974958,
          1.773937958,
          1.783900958,
          1.793863958,
          1.803826958,
          1.813789958,
          1.823752958,
          1.833715958,
          1.843678958,
          1.853640958,
          1.863603958,
          1.873566958,
          1.883529958,
          1.893492958,
          1.903455958,
          1.913418958,
          1.923381958,
          1.933344958,
          1.943306958,
          1.953269958,
          1.963232958,
          1.973195958,
          1.983158958,
          1.993121958,
          2.003084958,
          2.013047958,
          2.023010958,
          2.032972958,
          2.042935958,
          2.052898958,
          2.062861958,
          2.072824958,
          2.082787958,
          2.092750958,
          2.102713958,
          2.112676958,
          2.122638958,
          2.132601958,
          2.142564958,
          2.152527958,
          2.162490958,
          2.172453958,
          2.182416958,
          2.192379958,
          2.202342958,
          2.212304958,
          2.222267958,
          2.232230958,
          2.242193958,
          2.252156958,
          2.262119958,
          2.272082958,
          2.282045958,
          2.292008958,
          2.301970958,
          2.311933958,
          2.321896958,
          2.331859958,
          2.341822958,
          2.351785958,
          2.361748958,
          2.371711958,
          2.381674958,
          2.391636958,
          2.401599958,
          2.411562958,
          2.421525958,
          2.431488958,
          2.441451958,
          2.451414958,
          2.461377958,
          2.471340958,
          2.481302958,
          2.491265958,
          2.501228958,
          2.511191958,
          2.521154958,
          2.531117958,
          2.541080958,
          2.551043958,
          2.561006958,
          2.570968958,
          2.580931958,
          2.590894958,
          2.600857958,
          2.610820958,
          2.620783958,
          2.630746958,
          2.640709958,
          2.650672958,
          2.660634958,
          2.670597958,
          2.680560958,
          2.690523958,
          2.700486958,
          2.710449958,
          2.720412958,
          2.730375958,
          2.740338958,
          2.750301583,
          2.760264583,
          2.770227583,
          2.780190583,
          2.790153583,
          2.800116583,
          2.810079583,
          2.820042583,
          2.830005583,
          2.839967583,
          2.849930583,
          2.859893583,
          2.869856583,
          2.879819583,
          2.889782583,
          2.899745583,
          2.909708583,
          2.919671583,
          2.929633583,
          2.939596583,
          2.949559583,
          2.959522583,
          2.969485583,
          2.979448583,
          2.989411583,
          2.999374583,
          3.009337583,
          3.019299583,
          3.029262583,
          3.039225583,
          3.049188583,
          3.059151583,
          3.069114583,
          3.079077583,
          3.089040583,
          3.099003583,
          3.108965583,
          3.118928583,
          3.128891583,
          3.138854583,
          3.148817583,
          3.158780583,
          3.168743583,
          3.178706583,
          3.188669583,
          3.198631583,
          3.208594583,
          3.218557583,
          3.228520583,
          3.238483583,
          3.248446583,
          3.258409583,
          3.268372583,
          3.278335583,
          3.288297583,
          3.298260583,
          3.308223583,
          3.318186583,
          3.328149583,
          3.338112583,
          3.348075583,
          3.358038583,
          3.368001583,
          3.377963583,
          3.387926583,
          3.397889583,
          3.407852583,
          3.417815583,
          3.427778583,
          3.437741583,
          3.447704583,
          3.457667583,
          3.467629583,
          3.477592583,
          3.487555583,
          3.497518583,
          3.507481583,
          3.517444583,
          3.527407583,
          3.537370583,
          3.547333583,
          3.557295583,
          3.567258583,
          3.577221583,
          3.587184583,
          3.597147583,
          3.607110583,
          3.617073583,
          3.627036583,
          3.636999583,
          3.646961583,
          3.656924583,
          3.666887583,
          3.676850583,
          3.686813583,
          3.696776583,
          3.706739583,
          3.716702583,
          3.726665583,
          3.736627583,
          3.746589958,
          3.756552958,
          3.766515958,
          3.776478958,
          3.786441958,
          3.796404958,
          3.806367958,
          3.816330958,
          3.826292958,
          3.836255958,
          3.846218958,
          3.856181958,
          3.866144958,
          3.876107958,
          3.886070958,
          3.896033958,
          3.905996958,
          3.915959958,
          3.925921958,
          3.935884958,
          3.945847958,
          3.955810958,
          3.965773958,
          3.975736958,
          3.985699958
         ],
         "y": [
          -63.45953369,
          -63.45555115,
          -63.41033936,
          -63.56297302,
          -63.47621155,
          -63.48876953,
          -63.45550537,
          -63.53771973,
          -63.5836792,
          -63.53964233,
          -63.55032349,
          -63.65136719,
          -63.4982605,
          -63.51806641,
          -63.53831482,
          -63.55993652,
          -63.73162842,
          -63.62953186,
          -63.78936768,
          -63.64544678,
          -63.59135437,
          -63.56204224,
          -63.56813049,
          -63.68136597,
          -63.63290405,
          -63.59509277,
          -63.59918213,
          -63.41320801,
          -63.50717163,
          -63.48406982,
          -63.58348083,
          -63.66159058,
          -63.62719727,
          -63.46704102,
          -63.60783386,
          -63.38497925,
          -63.56057739,
          -63.78199768,
          -63.62948608,
          -63.50527954,
          -63.42689514,
          -63.32798767,
          -63.26516724,
          -63.20654297,
          -63.48217773,
          -63.38893127,
          -63.52403259,
          -63.72218323,
          -63.48753357,
          -63.24510193,
          -63.3734436,
          -63.52810669,
          -63.52955627,
          -117.0283356,
          -132.0290222,
          -136.0782776,
          -137.2578278,
          -137.4480438,
          -137.5533447,
          -137.6784515,
          -137.6798096,
          -137.6768646,
          -137.7825623,
          -137.6176147,
          -137.7118225,
          -137.6842194,
          -137.6673279,
          -137.7080383,
          -137.6989899,
          -137.8601685,
          -137.7278595,
          -137.7374268,
          -137.6623077,
          -138.0009155,
          -137.9127655,
          -137.7894745,
          -137.6055145,
          -137.788559,
          -137.7271118,
          -137.6562958,
          -137.8015594,
          -137.9369965,
          -137.8590851,
          -137.6177979,
          -137.7293549,
          -137.716217,
          -137.4533997,
          -137.3630676,
          -137.5032043,
          -137.4814758,
          -137.4932404,
          -137.5252075,
          -137.6470032,
          -137.6368561,
          -137.7312164,
          -137.4405518,
          -137.6691284,
          -137.6868896,
          -137.407196,
          -137.6639252,
          -137.5446014,
          -137.7032318,
          -137.7849121,
          -137.7227173,
          -137.5960846,
          -137.7355804,
          -137.8821716,
          -137.7335815,
          -137.8256836,
          -137.9109039,
          -137.824585,
          -137.898819,
          -137.6368713,
          -137.8116913,
          -137.5610046,
          -137.5814362,
          -137.4294434,
          -137.4322052,
          -137.5391235,
          -137.3562012,
          -137.4595947,
          -137.4938202,
          -137.5921631,
          -137.5840759,
          -137.5089722,
          -137.5193481,
          -137.723938,
          -137.5870667,
          -137.6876221,
          -137.4755402,
          -137.534317,
          -137.4176636,
          -137.5025024,
          -137.5560608,
          -137.6825714,
          -137.6416321,
          -137.8615265,
          -137.7301025,
          -137.5672913,
          -137.4990082,
          -137.5139618,
          -137.4158325,
          -137.5255737,
          -137.6682281,
          -137.731781,
          -137.7954407,
          -137.8648376,
          -137.7945404,
          -137.8296814,
          -137.5994415,
          -137.5858307,
          -137.4760742,
          -137.6201172,
          -137.8306274,
          -137.9094391,
          -137.6616364,
          -137.7284241,
          -139.3070831,
          -139.2360382,
          -139.2515564,
          -139.270401,
          -139.3422699,
          -139.2554932,
          -139.363266,
          -139.2852631,
          -139.2387695,
          -139.3348846,
          -139.2990875,
          -139.4209595,
          -139.3828125,
          -139.0224152,
          -139.1135712,
          -139.2164764,
          -139.1894073,
          -139.1617584,
          -139.0750427,
          -139.2259064,
          -139.3273926,
          -139.171814,
          -139.3701172,
          -139.3504028,
          -139.1437378,
          -139.3910828,
          -139.4373322,
          -139.4373322,
          -139.3832397,
          -139.3383026,
          -139.1266937,
          -139.1390533,
          -139.0620575,
          -139.1923828,
          -139.3574371,
          -139.4546204,
          -139.4657898,
          -139.3223267,
          -139.1598206,
          -139.127655,
          -139.0694122,
          -139.0683136,
          -139.0452423,
          -138.9009094,
          -139.0457458,
          -138.7159882,
          -138.8504791,
          -139.0896301,
          -139.2390747,
          -139.2318115,
          -64.67236328,
          -43.57154846,
          -37.66584778,
          -35.42784119,
          -34.92492676,
          -34.68443298,
          -34.90859985,
          -34.93521118,
          -35.01907349,
          -34.86227417,
          -34.82295227,
          -34.78977966,
          -35.15267944,
          -34.86447144,
          -34.64741516,
          -34.84028625,
          -34.81646729,
          -34.93473816,
          -34.85343933,
          -34.90718079,
          -35.07507324,
          -34.82609558,
          -34.72067261,
          -34.75379944,
          -34.80274963,
          -34.60758972,
          -34.81242371,
          -34.88194275,
          -34.73927307,
          -34.76591492,
          -34.70840454,
          -34.84220886,
          -34.95777893,
          -34.90890503,
          -34.92720032,
          -34.57156372,
          -34.61323547,
          -34.66041565,
          -34.75544739,
          -34.5499115,
          -34.84307861,
          -34.81498718,
          -34.95845032,
          -35.11627197,
          -35.04345703,
          -34.91491699,
          -35.00376892,
          -34.90931702,
          -34.92286682,
          -34.94500732,
          -34.79974365,
          -34.89637756,
          -35.12690735,
          -35.17341614,
          -35.18032837,
          -35.20439148,
          -35.2323761,
          -35.07196045,
          -34.98487854,
          -35.07771301,
          -34.9704895,
          -35.08407593,
          -35.06085205,
          -35.04417419,
          -34.98451233,
          -34.92987061,
          -34.87402344,
          -35.00164795,
          -34.96881104,
          -35.30923462,
          -35.25386047,
          -35.17346191,
          -35.21307373,
          -35.19184875,
          -34.93321228,
          -34.79391479,
          -34.91616821,
          -54.77804565,
          -60.9375,
          -62.69059753,
          -63.15565491,
          -63.20838928,
          -63.29719543,
          -63.22943115,
          -63.23405457,
          -63.15301514,
          -63.254776,
          -63.28025818,
          -63.42408752,
          -63.42466736,
          -63.60241699,
          -63.38623047,
          -63.34007263,
          -63.16795349,
          -63.35507202,
          -63.32235718,
          -63.25440979,
          -63.35484314,
          -63.37738037,
          -63.43200684,
          -63.30212402,
          -63.42074585,
          -63.47068787,
          -63.44651794,
          -63.50950623,
          -63.30049133,
          -63.37104797,
          -63.50047302,
          -63.41775513,
          -63.3886261,
          -63.30632019,
          -63.43656921,
          -63.71272278,
          -63.72131348,
          -63.67066956,
          -63.71748352,
          -63.60293579,
          -63.6605072,
          -63.81208801,
          -63.77053833,
          -63.74058533,
          -63.83370972,
          -63.71925354,
          -63.83004761,
          -63.86300659,
          -63.65411377,
          -63.39332581,
          -63.39143372,
          -63.36923218,
          -63.08401489,
          -63.50498962,
          -63.47505188,
          -63.55361938,
          -63.72479248,
          -63.61883545,
          -63.54693604,
          -63.47538757,
          -63.49124146,
          -63.53370667,
          -63.64031982,
          -63.59799194,
          -63.42189026,
          -63.59603882,
          -63.51187134,
          -63.46556091,
          -63.56246948,
          -63.55015564,
          -63.66529846,
          -63.51026917,
          -63.54069519,
          -63.5118103,
          -63.36320496,
          -63.51620483,
          -63.35354614,
          -63.53570557,
          -63.5605011,
          -63.55952454,
          -63.66546631,
          -63.60908508,
          -63.54440308,
          -63.52037048,
          -63.55526733,
          -63.57894897,
          -63.59234619,
          -63.64675903,
          -63.56652832,
          -63.83197021,
          -63.64001465,
          -63.60874939,
          -63.54812622,
          -63.65959167,
          -63.54542542,
          -63.52503967,
          -63.55247498,
          -63.38189697,
          -63.39936829,
          -63.41419983,
          -63.34968567,
          -63.42077637,
          -118.4436035,
          -132.4071808,
          -137.2628479,
          -137.3898926,
          -137.9147797,
          -137.7228394,
          -137.9004669,
          -138.0946503,
          -138.0460815,
          -138.033493,
          -137.8251648,
          -137.6775208,
          -137.7235718,
          -137.5216522
         ]
        },
        {
         "marker": {
          "color": "hsl(0.0, 50%, 50%)",
          "size": 9
         },
         "mode": "markers",
         "name": "Plateau 1",
         "type": "scatter",
         "x": [
          0.02046958333,
          0.5285765833
         ],
         "y": [
          -63.45555115,
          -63.52955627
         ]
        },
        {
         "marker": {
          "color": "hsl(60.0, 50%, 50%)",
          "size": 9
         },
         "mode": "markers",
         "name": "Plateau 2",
         "type": "scatter",
         "x": [
          0.5783915833,
          1.046646333
         ],
         "y": [
          -137.4480438,
          -137.5960846
         ]
        },
        {
         "marker": {
          "color": "hsl(120.0, 50%, 50%)",
          "size": 9
         },
         "mode": "markers",
         "name": "Plateau 3",
         "type": "scatter",
         "x": [
          1.116387333,
          1.564717333
         ],
         "y": [
          -137.898819,
          -137.7284241
         ]
        },
        {
         "marker": {
          "color": "hsl(180.0, 50%, 50%)",
          "size": 9
         },
         "mode": "markers",
         "name": "Plateau 4",
         "type": "scatter",
         "x": [
          1.644420333,
          2.062861958
         ],
         "y": [
          -139.2852631,
          -139.2318115
         ]
        },
        {
         "marker": {
          "color": "hsl(240.0, 50%, 50%)",
          "size": 9
         },
         "mode": "markers",
         "name": "Plateau 5",
         "type": "scatter",
         "x": [
          2.132601958,
          2.830005583
         ],
         "y": [
          -34.90859985,
          -34.91616821
         ]
        },
        {
         "marker": {
          "color": "hsl(300.0, 50%, 50%)",
          "size": 9
         },
         "mode": "markers",
         "name": "Plateau 6",
         "type": "scatter",
         "x": [
          2.909708583,
          3.846218958
         ],
         "y": [
          -63.23405457,
          -63.42077637
         ]
        }
       ],
       "layout": {
        "template": {
         "data": {
          "bar": [
           {
            "error_x": {
             "color": "#2a3f5f"
            },
            "error_y": {
             "color": "#2a3f5f"
            },
            "marker": {
             "line": {
              "color": "#E5ECF6",
              "width": 0.5
             },
             "pattern": {
              "fillmode": "overlay",
              "size": 10,
              "solidity": 0.2
             }
            },
            "type": "bar"
           }
          ],
          "barpolar": [
           {
            "marker": {
             "line": {
              "color": "#E5ECF6",
              "width": 0.5
             },
             "pattern": {
              "fillmode": "overlay",
              "size": 10,
              "solidity": 0.2
             }
            },
            "type": "barpolar"
           }
          ],
          "carpet": [
           {
            "aaxis": {
             "endlinecolor": "#2a3f5f",
             "gridcolor": "white",
             "linecolor": "white",
             "minorgridcolor": "white",
             "startlinecolor": "#2a3f5f"
            },
            "baxis": {
             "endlinecolor": "#2a3f5f",
             "gridcolor": "white",
             "linecolor": "white",
             "minorgridcolor": "white",
             "startlinecolor": "#2a3f5f"
            },
            "type": "carpet"
           }
          ],
          "choropleth": [
           {
            "colorbar": {
             "outlinewidth": 0,
             "ticks": ""
            },
            "type": "choropleth"
           }
          ],
          "contour": [
           {
            "colorbar": {
             "outlinewidth": 0,
             "ticks": ""
            },
            "colorscale": [
             [
              0,
              "#0d0887"
             ],
             [
              0.1111111111111111,
              "#46039f"
             ],
             [
              0.2222222222222222,
              "#7201a8"
             ],
             [
              0.3333333333333333,
              "#9c179e"
             ],
             [
              0.4444444444444444,
              "#bd3786"
             ],
             [
              0.5555555555555556,
              "#d8576b"
             ],
             [
              0.6666666666666666,
              "#ed7953"
             ],
             [
              0.7777777777777778,
              "#fb9f3a"
             ],
             [
              0.8888888888888888,
              "#fdca26"
             ],
             [
              1,
              "#f0f921"
             ]
            ],
            "type": "contour"
           }
          ],
          "contourcarpet": [
           {
            "colorbar": {
             "outlinewidth": 0,
             "ticks": ""
            },
            "type": "contourcarpet"
           }
          ],
          "heatmap": [
           {
            "colorbar": {
             "outlinewidth": 0,
             "ticks": ""
            },
            "colorscale": [
             [
              0,
              "#0d0887"
             ],
             [
              0.1111111111111111,
              "#46039f"
             ],
             [
              0.2222222222222222,
              "#7201a8"
             ],
             [
              0.3333333333333333,
              "#9c179e"
             ],
             [
              0.4444444444444444,
              "#bd3786"
             ],
             [
              0.5555555555555556,
              "#d8576b"
             ],
             [
              0.6666666666666666,
              "#ed7953"
             ],
             [
              0.7777777777777778,
              "#fb9f3a"
             ],
             [
              0.8888888888888888,
              "#fdca26"
             ],
             [
              1,
              "#f0f921"
             ]
            ],
            "type": "heatmap"
           }
          ],
          "heatmapgl": [
           {
            "colorbar": {
             "outlinewidth": 0,
             "ticks": ""
            },
            "colorscale": [
             [
              0,
              "#0d0887"
             ],
             [
              0.1111111111111111,
              "#46039f"
             ],
             [
              0.2222222222222222,
              "#7201a8"
             ],
             [
              0.3333333333333333,
              "#9c179e"
             ],
             [
              0.4444444444444444,
              "#bd3786"
             ],
             [
              0.5555555555555556,
              "#d8576b"
             ],
             [
              0.6666666666666666,
              "#ed7953"
             ],
             [
              0.7777777777777778,
              "#fb9f3a"
             ],
             [
              0.8888888888888888,
              "#fdca26"
             ],
             [
              1,
              "#f0f921"
             ]
            ],
            "type": "heatmapgl"
           }
          ],
          "histogram": [
           {
            "marker": {
             "pattern": {
              "fillmode": "overlay",
              "size": 10,
              "solidity": 0.2
             }
            },
            "type": "histogram"
           }
          ],
          "histogram2d": [
           {
            "colorbar": {
             "outlinewidth": 0,
             "ticks": ""
            },
            "colorscale": [
             [
              0,
              "#0d0887"
             ],
             [
              0.1111111111111111,
              "#46039f"
             ],
             [
              0.2222222222222222,
              "#7201a8"
             ],
             [
              0.3333333333333333,
              "#9c179e"
             ],
             [
              0.4444444444444444,
              "#bd3786"
             ],
             [
              0.5555555555555556,
              "#d8576b"
             ],
             [
              0.6666666666666666,
              "#ed7953"
             ],
             [
              0.7777777777777778,
              "#fb9f3a"
             ],
             [
              0.8888888888888888,
              "#fdca26"
             ],
             [
              1,
              "#f0f921"
             ]
            ],
            "type": "histogram2d"
           }
          ],
          "histogram2dcontour": [
           {
            "colorbar": {
             "outlinewidth": 0,
             "ticks": ""
            },
            "colorscale": [
             [
              0,
              "#0d0887"
             ],
             [
              0.1111111111111111,
              "#46039f"
             ],
             [
              0.2222222222222222,
              "#7201a8"
             ],
             [
              0.3333333333333333,
              "#9c179e"
             ],
             [
              0.4444444444444444,
              "#bd3786"
             ],
             [
              0.5555555555555556,
              "#d8576b"
             ],
             [
              0.6666666666666666,
              "#ed7953"
             ],
             [
              0.7777777777777778,
              "#fb9f3a"
             ],
             [
              0.8888888888888888,
              "#fdca26"
             ],
             [
              1,
              "#f0f921"
             ]
            ],
            "type": "histogram2dcontour"
           }
          ],
          "mesh3d": [
           {
            "colorbar": {
             "outlinewidth": 0,
             "ticks": ""
            },
            "type": "mesh3d"
           }
          ],
          "parcoords": [
           {
            "line": {
             "colorbar": {
              "outlinewidth": 0,
              "ticks": ""
             }
            },
            "type": "parcoords"
           }
          ],
          "pie": [
           {
            "automargin": true,
            "type": "pie"
           }
          ],
          "scatter": [
           {
            "fillpattern": {
             "fillmode": "overlay",
             "size": 10,
             "solidity": 0.2
            },
            "type": "scatter"
           }
          ],
          "scatter3d": [
           {
            "line": {
             "colorbar": {
              "outlinewidth": 0,
              "ticks": ""
             }
            },
            "marker": {
             "colorbar": {
              "outlinewidth": 0,
              "ticks": ""
             }
            },
            "type": "scatter3d"
           }
          ],
          "scattercarpet": [
           {
            "marker": {
             "colorbar": {
              "outlinewidth": 0,
              "ticks": ""
             }
            },
            "type": "scattercarpet"
           }
          ],
          "scattergeo": [
           {
            "marker": {
             "colorbar": {
              "outlinewidth": 0,
              "ticks": ""
             }
            },
            "type": "scattergeo"
           }
          ],
          "scattergl": [
           {
            "marker": {
             "colorbar": {
              "outlinewidth": 0,
              "ticks": ""
             }
            },
            "type": "scattergl"
           }
          ],
          "scattermapbox": [
           {
            "marker": {
             "colorbar": {
              "outlinewidth": 0,
              "ticks": ""
             }
            },
            "type": "scattermapbox"
           }
          ],
          "scatterpolar": [
           {
            "marker": {
             "colorbar": {
              "outlinewidth": 0,
              "ticks": ""
             }
            },
            "type": "scatterpolar"
           }
          ],
          "scatterpolargl": [
           {
            "marker": {
             "colorbar": {
              "outlinewidth": 0,
              "ticks": ""
             }
            },
            "type": "scatterpolargl"
           }
          ],
          "scatterternary": [
           {
            "marker": {
             "colorbar": {
              "outlinewidth": 0,
              "ticks": ""
             }
            },
            "type": "scatterternary"
           }
          ],
          "surface": [
           {
            "colorbar": {
             "outlinewidth": 0,
             "ticks": ""
            },
            "colorscale": [
             [
              0,
              "#0d0887"
             ],
             [
              0.1111111111111111,
              "#46039f"
             ],
             [
              0.2222222222222222,
              "#7201a8"
             ],
             [
              0.3333333333333333,
              "#9c179e"
             ],
             [
              0.4444444444444444,
              "#bd3786"
             ],
             [
              0.5555555555555556,
              "#d8576b"
             ],
             [
              0.6666666666666666,
              "#ed7953"
             ],
             [
              0.7777777777777778,
              "#fb9f3a"
             ],
             [
              0.8888888888888888,
              "#fdca26"
             ],
             [
              1,
              "#f0f921"
             ]
            ],
            "type": "surface"
           }
          ],
          "table": [
           {
            "cells": {
             "fill": {
              "color": "#EBF0F8"
             },
             "line": {
              "color": "white"
             }
            },
            "header": {
             "fill": {
              "color": "#C8D4E3"
             },
             "line": {
              "color": "white"
             }
            },
            "type": "table"
           }
          ]
         },
         "layout": {
          "annotationdefaults": {
           "arrowcolor": "#2a3f5f",
           "arrowhead": 0,
           "arrowwidth": 1
          },
          "autotypenumbers": "strict",
          "coloraxis": {
           "colorbar": {
            "outlinewidth": 0,
            "ticks": ""
           }
          },
          "colorscale": {
           "diverging": [
            [
             0,
             "#8e0152"
            ],
            [
             0.1,
             "#c51b7d"
            ],
            [
             0.2,
             "#de77ae"
            ],
            [
             0.3,
             "#f1b6da"
            ],
            [
             0.4,
             "#fde0ef"
            ],
            [
             0.5,
             "#f7f7f7"
            ],
            [
             0.6,
             "#e6f5d0"
            ],
            [
             0.7,
             "#b8e186"
            ],
            [
             0.8,
             "#7fbc41"
            ],
            [
             0.9,
             "#4d9221"
            ],
            [
             1,
             "#276419"
            ]
           ],
           "sequential": [
            [
             0,
             "#0d0887"
            ],
            [
             0.1111111111111111,
             "#46039f"
            ],
            [
             0.2222222222222222,
             "#7201a8"
            ],
            [
             0.3333333333333333,
             "#9c179e"
            ],
            [
             0.4444444444444444,
             "#bd3786"
            ],
            [
             0.5555555555555556,
             "#d8576b"
            ],
            [
             0.6666666666666666,
             "#ed7953"
            ],
            [
             0.7777777777777778,
             "#fb9f3a"
            ],
            [
             0.8888888888888888,
             "#fdca26"
            ],
            [
             1,
             "#f0f921"
            ]
           ],
           "sequentialminus": [
            [
             0,
             "#0d0887"
            ],
            [
             0.1111111111111111,
             "#46039f"
            ],
            [
             0.2222222222222222,
             "#7201a8"
            ],
            [
             0.3333333333333333,
             "#9c179e"
            ],
            [
             0.4444444444444444,
             "#bd3786"
            ],
            [
             0.5555555555555556,
             "#d8576b"
            ],
            [
             0.6666666666666666,
             "#ed7953"
            ],
            [
             0.7777777777777778,
             "#fb9f3a"
            ],
            [
             0.8888888888888888,
             "#fdca26"
            ],
            [
             1,
             "#f0f921"
            ]
           ]
          },
          "colorway": [
           "#636efa",
           "#EF553B",
           "#00cc96",
           "#ab63fa",
           "#FFA15A",
           "#19d3f3",
           "#FF6692",
           "#B6E880",
           "#FF97FF",
           "#FECB52"
          ],
          "font": {
           "color": "#2a3f5f"
          },
          "geo": {
           "bgcolor": "white",
           "lakecolor": "white",
           "landcolor": "#E5ECF6",
           "showlakes": true,
           "showland": true,
           "subunitcolor": "white"
          },
          "hoverlabel": {
           "align": "left"
          },
          "hovermode": "closest",
          "mapbox": {
           "style": "light"
          },
          "paper_bgcolor": "white",
          "plot_bgcolor": "#E5ECF6",
          "polar": {
           "angularaxis": {
            "gridcolor": "white",
            "linecolor": "white",
            "ticks": ""
           },
           "bgcolor": "#E5ECF6",
           "radialaxis": {
            "gridcolor": "white",
            "linecolor": "white",
            "ticks": ""
           }
          },
          "scene": {
           "xaxis": {
            "backgroundcolor": "#E5ECF6",
            "gridcolor": "white",
            "gridwidth": 2,
            "linecolor": "white",
            "showbackground": true,
            "ticks": "",
            "zerolinecolor": "white"
           },
           "yaxis": {
            "backgroundcolor": "#E5ECF6",
            "gridcolor": "white",
            "gridwidth": 2,
            "linecolor": "white",
            "showbackground": true,
            "ticks": "",
            "zerolinecolor": "white"
           },
           "zaxis": {
            "backgroundcolor": "#E5ECF6",
            "gridcolor": "white",
            "gridwidth": 2,
            "linecolor": "white",
            "showbackground": true,
            "ticks": "",
            "zerolinecolor": "white"
           }
          },
          "shapedefaults": {
           "line": {
            "color": "#2a3f5f"
           }
          },
          "ternary": {
           "aaxis": {
            "gridcolor": "white",
            "linecolor": "white",
            "ticks": ""
           },
           "baxis": {
            "gridcolor": "white",
            "linecolor": "white",
            "ticks": ""
           },
           "bgcolor": "#E5ECF6",
           "caxis": {
            "gridcolor": "white",
            "linecolor": "white",
            "ticks": ""
           }
          },
          "title": {
           "x": 0.05
          },
          "xaxis": {
           "automargin": true,
           "gridcolor": "white",
           "linecolor": "white",
           "ticks": "",
           "title": {
            "standoff": 15
           },
           "zerolinecolor": "white",
           "zerolinewidth": 2
          },
          "yaxis": {
           "automargin": true,
           "gridcolor": "white",
           "linecolor": "white",
           "ticks": "",
           "title": {
            "standoff": 15
           },
           "zerolinecolor": "white",
           "zerolinewidth": 2
          }
         }
        },
        "title": {
         "text": "Magnetic Field z vs. Time with Plateau Regions"
        },
        "xaxis": {
         "title": {
          "text": "Time (s)"
         }
        },
        "yaxis": {
         "title": {
          "text": "Magnetic Field z (µT)"
         }
        }
       }
      }
     },
     "metadata": {},
     "output_type": "display_data"
    }
   ],
   "source": [
    "# analyze plateaus and indices for all axes\n",
    "# Print the values of the second key in plateau_regions_dict\n",
    "second_key_x = list(plateau_regions.keys())[1]  # 0 = x, 1 = y, 2 = z\n",
    "plateau_regions_values = plateau_regions[second_key_x]\n",
    "\n",
    "print(f\"Plateau regions for {second_key_x}:\")\n",
    "start_list = []\n",
    "end_list = []\n",
    "for start_index, end_index in plateau_regions_values:\n",
    "    start_list.append(start_index)\n",
    "    end_list.append(end_index)\n",
    "    print(f\"Start index: {start_index}, End index: {end_index}\")\n",
    "\n",
    "# Create a line plot of Magnetic Field x vs. Time\n",
    "fig = go.Figure()\n",
    "fig.add_trace(go.Scatter(x=df_trunc['Time (s)'], y=df_trunc['Magnetic Field z (µT)'],\n",
    "                         mode='lines', name='Magnetic Field z', line=dict(color='black')))\n",
    "\n",
    "# Iterate through each pair of start and end indices\n",
    "for i, (start_index, end_index) in enumerate(zip(start_list, end_list)):\n",
    "    # Extract x and y values for the pair\n",
    "    x_values = [df_trunc.loc[start_index, 'Time (s)'], df_trunc.loc[end_index, 'Time (s)']]\n",
    "    y_values = [df_trunc.loc[start_index, 'Magnetic Field z (µT)'], df_trunc.loc[end_index, 'Magnetic Field z (µT)']]\n",
    "\n",
    "    # Assign a different color to each pair\n",
    "    color = f\"hsl({i * 360 / len(start_list)}, 50%, 50%)\"  # Adjust saturation and lightness as needed\n",
    "\n",
    "    # Add a scatter trace for the pair with the assigned color\n",
    "    fig.add_trace(go.Scatter(x=x_values, y=y_values, mode='markers', marker=dict(color=color, size=9),\n",
    "                             name=f'Plateau {i+1}'))\n",
    "\n",
    "# Update layout\n",
    "fig.update_layout(title='Magnetic Field z vs. Time with Plateau Regions',\n",
    "                  xaxis_title='Time (s)',\n",
    "                  yaxis_title='Magnetic Field z (µT)')\n",
    "\n",
    "# Show the plot\n",
    "fig.show()\n"
   ]
  },
  {
   "cell_type": "code",
   "execution_count": 117,
   "metadata": {},
   "outputs": [
    {
     "name": "stdout",
     "output_type": "stream",
     "text": [
      "                (A:1,            B:2,           C:3,           NC:4 )\n",
      "Means for x -  [101.8955078, -172.24816895, 109.0045471, -251.0875854, 37.92379761]\n",
      "Means for y -  [-17.80672455, 495.97750855, -99.0912323, -688.1864014, -54.1237793]\n",
      "Means for z -  [-137.67913055, -137.5864487, -139.2164764, -34.91616821, -63.51620483]\n",
      "Means for abs -  [172.1978114, 542.75829545, 202.6850742, 733.3841159, 91.65405345]\n"
     ]
    }
   ],
   "source": [
    "def extract_mean(start_list, end_list, ax):\n",
    "     \"\"\"Extracts mean for each plateau\n",
    "\n",
    "     Args:\n",
    "         start_list (list): _description_\n",
    "         end_list (list): _description_\n",
    "         ax (str): x, y, z or nc - defines the axis that the median will find\n",
    "\n",
    "     Returns:\n",
    "         _type_: list of medians, index corresponds to A, B, C, D peaks.\n",
    "     \"\"\"\n",
    "     medians = []\n",
    "     col = ''\n",
    "     if ax == 'x':\n",
    "          col = 'Magnetic Field x (µT)'\n",
    "     elif ax == 'y':\n",
    "          col = 'Magnetic Field y (µT)'\n",
    "     elif ax == 'z':\n",
    "          col = 'Magnetic Field z (µT)'\n",
    "     else:\n",
    "          col = 'Absolute field (µT)'\n",
    "     for i, (start_index, end_index) in enumerate(zip(start_list, end_list)):\n",
    "          medians.append(np.median(df_trunc.loc[start_index:end_index, col]))\n",
    "     return medians\n",
    "\n",
    "meds_x = extract_mean(start_list=start_list, end_list=end_list, ax='x')\n",
    "print('                (A:1,            B:2,           C:3,           NC:4 )')\n",
    "print('Means for x - ', meds_x[1:])\n",
    "meds_y = extract_mean(start_list=start_list, end_list=end_list, ax='y')\n",
    "print('Means for y - ', meds_y[1:])\n",
    "meds_z = extract_mean(start_list=start_list, end_list=end_list, ax='z')\n",
    "print('Means for z - ', meds_z[1:])\n",
    "meds_nc = extract_mean(start_list=start_list, end_list=end_list, ax='nc')\n",
    "print('Means for abs - ', meds_nc[1:])\n"
   ]
  },
  {
   "cell_type": "code",
   "execution_count": 95,
   "metadata": {},
   "outputs": [],
   "source": [
    "# TODO: make a method to get the index for 3 axes.\n",
    "def extract_index(df, col_str, threshold):\n",
    "    \"\"\"Extracts the indices where there is sharp rise and sharp descent to get the peaks of the signal.\n",
    "        This method is specific to a dataframe from Phyphox.\n",
    "    Args:\n",
    "        df (pd.Dataframe): Dataframe to extract the indices from\n",
    "        col_str (str): Column name as String\n",
    "        threshold (int): Threshold for the difference\n",
    "    \"\"\"\n",
    "    df_new = df.copy()\n",
    "    df_new['diff'] = df_new[col_str].diff()\n",
    "\n",
    "    # Find indices of sharp rises and descents\n",
    "    rise_idx = df_new[df_new['diff'] > threshold].index.tolist()\n",
    "    descent_idx = df_new[(df_new['diff'].shift(-1) < -threshold)].index.tolist()\n",
    "\n",
    "    return rise_idx, descent_idx"
   ]
  },
  {
   "cell_type": "code",
   "execution_count": 96,
   "metadata": {},
   "outputs": [
    {
     "data": {
      "application/vnd.plotly.v1+json": {
       "config": {
        "plotlyServerURL": "https://plot.ly"
       },
       "data": [
        {
         "hovertemplate": "Time (s)=%{x}<br>Magnetic Field x (µT)=%{y}<extra></extra>",
         "legendgroup": "",
         "line": {
          "color": "#636efa",
          "dash": "solid",
          "shape": "linear"
         },
         "marker": {
          "symbol": "circle"
         },
         "mode": "lines",
         "name": "",
         "orientation": "v",
         "showlegend": false,
         "type": "scatter",
         "x": [
          0.01050658333,
          0.02046958333,
          0.03043258333,
          0.04039558333,
          0.05035858333,
          0.06032158333,
          0.07028358333,
          0.08024658333,
          0.09020958333,
          0.1001725833,
          0.1101355833,
          0.1200985833,
          0.1300615833,
          0.1400245833,
          0.1499865833,
          0.1599495833,
          0.1699125833,
          0.1798755833,
          0.1898385833,
          0.1998015833,
          0.2097645833,
          0.2197275833,
          0.2296905833,
          0.2396525833,
          0.2496155833,
          0.2595785833,
          0.2695415833,
          0.2795045833,
          0.2894675833,
          0.2994305833,
          0.3093935833,
          0.3193565833,
          0.3293195833,
          0.3392815833,
          0.3492445833,
          0.3592075833,
          0.3691705833,
          0.3791335833,
          0.3890965833,
          0.3990595833,
          0.4090225833,
          0.4189845833,
          0.4289475833,
          0.4389105833,
          0.4488735833,
          0.4588365833,
          0.4687995833,
          0.4787625833,
          0.4887255833,
          0.4986885833,
          0.5086505833,
          0.5186135833,
          0.5285765833,
          0.5385395833,
          0.5485025833,
          0.5584655833,
          0.5684285833,
          0.5783915833,
          0.5883545833,
          0.5983165833,
          0.6082795833,
          0.6182425833,
          0.6282055833,
          0.6381685833,
          0.6481315833,
          0.6580945833,
          0.6680575833,
          0.6780205833,
          0.6879825833,
          0.6979455833,
          0.7079085833,
          0.7178715833,
          0.7278345833,
          0.7377975833,
          0.7477603333,
          0.7577233333,
          0.7676863333,
          0.7776483333,
          0.7876113333,
          0.7975743333,
          0.8075373333,
          0.8175003333,
          0.8274633333,
          0.8374263333,
          0.8473893333,
          0.8573523333,
          0.8673143333,
          0.8772773333,
          0.8872403333,
          0.8972033333,
          0.9071663333,
          0.9171293333,
          0.9270923333,
          0.9370553333,
          0.9470183333,
          0.9569803333,
          0.9669433333,
          0.9769063333,
          0.9868693333,
          0.9968323333,
          1.006795333,
          1.016758333,
          1.026721333,
          1.036684333,
          1.046646333,
          1.056609333,
          1.066572333,
          1.076535333,
          1.086498333,
          1.096461333,
          1.106424333,
          1.116387333,
          1.126350333,
          1.136312333,
          1.146275333,
          1.156238333,
          1.166201333,
          1.176164333,
          1.186127333,
          1.196090333,
          1.206053333,
          1.216016333,
          1.225978333,
          1.235941333,
          1.245904333,
          1.255867333,
          1.265830333,
          1.275793333,
          1.285756333,
          1.295719333,
          1.305682333,
          1.315644333,
          1.325607333,
          1.335570333,
          1.345533333,
          1.355496333,
          1.365459333,
          1.375422333,
          1.385385333,
          1.395348333,
          1.405310333,
          1.415273333,
          1.425236333,
          1.435199333,
          1.445162333,
          1.455125333,
          1.465088333,
          1.475051333,
          1.485014333,
          1.494976333,
          1.504939333,
          1.514902333,
          1.524865333,
          1.534828333,
          1.544791333,
          1.554754333,
          1.564717333,
          1.574680333,
          1.584642333,
          1.594605333,
          1.604568333,
          1.614531333,
          1.624494333,
          1.634457333,
          1.644420333,
          1.654383333,
          1.664346333,
          1.674308333,
          1.684271333,
          1.694234333,
          1.704197333,
          1.714160333,
          1.724123333,
          1.734086333,
          1.744049958,
          1.754012958,
          1.763974958,
          1.773937958,
          1.783900958,
          1.793863958,
          1.803826958,
          1.813789958,
          1.823752958,
          1.833715958,
          1.843678958,
          1.853640958,
          1.863603958,
          1.873566958,
          1.883529958,
          1.893492958,
          1.903455958,
          1.913418958,
          1.923381958,
          1.933344958,
          1.943306958,
          1.953269958,
          1.963232958,
          1.973195958,
          1.983158958,
          1.993121958,
          2.003084958,
          2.013047958,
          2.023010958,
          2.032972958,
          2.042935958,
          2.052898958,
          2.062861958,
          2.072824958,
          2.082787958,
          2.092750958,
          2.102713958,
          2.112676958,
          2.122638958,
          2.132601958,
          2.142564958,
          2.152527958,
          2.162490958,
          2.172453958,
          2.182416958,
          2.192379958,
          2.202342958,
          2.212304958,
          2.222267958,
          2.232230958,
          2.242193958,
          2.252156958,
          2.262119958,
          2.272082958,
          2.282045958,
          2.292008958,
          2.301970958,
          2.311933958,
          2.321896958,
          2.331859958,
          2.341822958,
          2.351785958,
          2.361748958,
          2.371711958,
          2.381674958,
          2.391636958,
          2.401599958,
          2.411562958,
          2.421525958,
          2.431488958,
          2.441451958,
          2.451414958,
          2.461377958,
          2.471340958,
          2.481302958,
          2.491265958,
          2.501228958,
          2.511191958,
          2.521154958,
          2.531117958,
          2.541080958,
          2.551043958,
          2.561006958,
          2.570968958,
          2.580931958,
          2.590894958,
          2.600857958,
          2.610820958,
          2.620783958,
          2.630746958,
          2.640709958,
          2.650672958,
          2.660634958,
          2.670597958,
          2.680560958,
          2.690523958,
          2.700486958,
          2.710449958,
          2.720412958,
          2.730375958,
          2.740338958,
          2.750301583,
          2.760264583,
          2.770227583,
          2.780190583,
          2.790153583,
          2.800116583,
          2.810079583,
          2.820042583,
          2.830005583,
          2.839967583,
          2.849930583,
          2.859893583,
          2.869856583,
          2.879819583,
          2.889782583,
          2.899745583,
          2.909708583,
          2.919671583,
          2.929633583,
          2.939596583,
          2.949559583,
          2.959522583,
          2.969485583,
          2.979448583,
          2.989411583,
          2.999374583,
          3.009337583,
          3.019299583,
          3.029262583,
          3.039225583,
          3.049188583,
          3.059151583,
          3.069114583,
          3.079077583,
          3.089040583,
          3.099003583,
          3.108965583,
          3.118928583,
          3.128891583,
          3.138854583,
          3.148817583,
          3.158780583,
          3.168743583,
          3.178706583,
          3.188669583,
          3.198631583,
          3.208594583,
          3.218557583,
          3.228520583,
          3.238483583,
          3.248446583,
          3.258409583,
          3.268372583,
          3.278335583,
          3.288297583,
          3.298260583,
          3.308223583,
          3.318186583,
          3.328149583,
          3.338112583,
          3.348075583,
          3.358038583,
          3.368001583,
          3.377963583,
          3.387926583,
          3.397889583,
          3.407852583,
          3.417815583,
          3.427778583,
          3.437741583,
          3.447704583,
          3.457667583,
          3.467629583,
          3.477592583,
          3.487555583,
          3.497518583,
          3.507481583,
          3.517444583,
          3.527407583,
          3.537370583,
          3.547333583,
          3.557295583,
          3.567258583,
          3.577221583,
          3.587184583,
          3.597147583,
          3.607110583,
          3.617073583,
          3.627036583,
          3.636999583,
          3.646961583,
          3.656924583,
          3.666887583,
          3.676850583,
          3.686813583,
          3.696776583,
          3.706739583,
          3.716702583,
          3.726665583,
          3.736627583,
          3.746589958,
          3.756552958,
          3.766515958,
          3.776478958,
          3.786441958,
          3.796404958,
          3.806367958,
          3.816330958,
          3.826292958,
          3.836255958,
          3.846218958,
          3.856181958,
          3.866144958,
          3.876107958,
          3.886070958,
          3.896033958,
          3.905996958,
          3.915959958,
          3.925921958,
          3.935884958,
          3.945847958,
          3.955810958,
          3.965773958,
          3.975736958,
          3.985699958
         ],
         "xaxis": "x",
         "y": [
          37.7114563,
          37.73501587,
          37.79086304,
          37.76107788,
          37.7616272,
          37.90414429,
          37.93081665,
          37.8999939,
          37.98623657,
          37.91452026,
          37.86019897,
          37.8666687,
          37.96109009,
          37.89163208,
          37.7973938,
          37.8710022,
          37.912323,
          37.86331177,
          37.8644104,
          37.86373901,
          37.81558228,
          37.67080688,
          37.79623413,
          37.71389771,
          37.70291138,
          37.70248413,
          37.79953003,
          37.77029419,
          37.68173218,
          37.6824646,
          37.69949341,
          37.80422974,
          37.80062866,
          37.81082153,
          37.8208313,
          38.01663208,
          37.95181274,
          38.04440308,
          38.05001831,
          38.05178833,
          38.10476685,
          38.04031372,
          37.89645386,
          37.89736938,
          37.92178345,
          38.00869751,
          37.90927124,
          37.99221802,
          38.05044556,
          37.97134399,
          37.92190552,
          37.85281372,
          37.96212769,
          83.82345581,
          96.82559204,
          100.6958923,
          101.6808167,
          101.9768982,
          102.1524963,
          102.0809021,
          102.0122375,
          101.9217834,
          101.7445374,
          101.8172913,
          101.7656555,
          101.8697205,
          101.8430481,
          101.7566833,
          101.7584534,
          101.7710266,
          101.8895569,
          101.9014587,
          101.8736267,
          101.8173523,
          101.7565002,
          101.8015442,
          101.7889709,
          101.7078552,
          101.818573,
          101.7879944,
          101.7271423,
          101.9560242,
          101.8669128,
          101.7671204,
          101.7501526,
          101.9185486,
          101.8338928,
          101.8529968,
          101.9252014,
          102.0534363,
          101.9735413,
          101.9114075,
          101.9184875,
          101.9729309,
          101.9320984,
          101.8072815,
          102.0313416,
          101.9861145,
          101.9602356,
          102.1483459,
          101.9290466,
          102.089386,
          102.1078186,
          102.1514587,
          102.0566101,
          -94.40652466,
          -150.4359131,
          -166.0932922,
          -170.5447388,
          -171.8249512,
          -172.210144,
          -172.3549194,
          -172.3659363,
          -172.3668823,
          -172.3674927,
          -172.2965698,
          -172.2629395,
          -172.3870544,
          -172.3902893,
          -172.3520203,
          -172.2495728,
          -172.2229919,
          -172.2987366,
          -172.3065796,
          -172.2900391,
          -172.1774292,
          -172.1390991,
          -172.1758728,
          -172.2339172,
          -172.1084595,
          -172.1256104,
          -172.1921997,
          -172.1825867,
          -172.1934509,
          -172.2754211,
          -172.1720581,
          -172.2717285,
          -172.1465149,
          -172.1808472,
          -172.2467651,
          -172.2681274,
          -172.3257446,
          -172.1965332,
          -172.2404175,
          -172.1134338,
          -172.0819397,
          -172.1914062,
          -172.203949,
          -172.1897278,
          -172.1476746,
          -172.2372742,
          -172.2767334,
          -172.3092346,
          -172.4656677,
          -172.3306885,
          -172.3056335,
          -172.3514099,
          28.65805054,
          86.06692505,
          102.4148865,
          107.0929871,
          108.3942566,
          108.9664001,
          109.0204773,
          108.8930969,
          108.9812927,
          108.9955139,
          109.0630188,
          108.9231873,
          109.0838318,
          109.0617981,
          109.0346985,
          109.0045471,
          109.0868835,
          109.0249939,
          109.0611877,
          109.0537415,
          109.0874939,
          109.1664124,
          109.2157288,
          109.1428528,
          108.9664001,
          108.9944153,
          108.941925,
          108.941925,
          109.193573,
          109.0796814,
          108.9925842,
          109.0342102,
          109.0411072,
          109.0717468,
          109.0610657,
          108.9529724,
          109.0229797,
          108.962616,
          108.860321,
          108.8599548,
          108.9218445,
          108.9487,
          108.9433899,
          108.8860779,
          108.851593,
          108.9612732,
          108.9860535,
          109.0918274,
          108.995575,
          109.0337219,
          -148.5925598,
          -221.8112793,
          -242.5632629,
          -248.7017517,
          -250.6246185,
          -251.2454071,
          -251.1743011,
          -251.371582,
          -251.2006226,
          -251.0875854,
          -251.2923737,
          -250.9638214,
          -250.9930267,
          -251.3683929,
          -250.9403076,
          -251.195343,
          -251.4380493,
          -251.1084747,
          -251.1309357,
          -250.9315033,
          -250.8837585,
          -251.2024078,
          -250.8358307,
          -250.8764648,
          -251.1949005,
          -250.8438416,
          -251.066803,
          -251.2723999,
          -251.0022583,
          -251.1664124,
          -251.1698914,
          -250.9435425,
          -251.0185089,
          -251.0495911,
          -250.8988342,
          -250.9451904,
          -251.2062531,
          -251.1777344,
          -250.902298,
          -251.0078125,
          -251.1929016,
          -251.4382935,
          -250.8961487,
          -250.9970398,
          -251.1233521,
          -251.1194611,
          -250.7821198,
          -250.9974518,
          -251.2799683,
          -251.292984,
          -250.9425659,
          -250.8761597,
          -250.9119263,
          -251.1602325,
          -251.3725433,
          -250.9552002,
          -250.8058167,
          -250.8260498,
          -250.9976959,
          -251.1112061,
          -251.3044434,
          -251.0029297,
          -250.8382263,
          -251.0281525,
          -251.1840973,
          -251.3978424,
          -251.3573608,
          -250.8740082,
          -250.7395935,
          -250.9670105,
          -251.1255798,
          -251.3321838,
          -251.2968445,
          -251.5204773,
          -251.3601532,
          -251.1591949,
          -250.8707886,
          -44.32040405,
          14.30081177,
          31.15859985,
          35.88711548,
          37.27877808,
          37.56436157,
          37.88723755,
          37.97402954,
          37.83901978,
          37.84152222,
          37.96939087,
          37.95431519,
          37.90560913,
          37.89370728,
          37.86758423,
          37.91702271,
          37.93600464,
          37.84237671,
          37.84695435,
          37.7326355,
          37.83053589,
          37.92929077,
          38.04586792,
          38.02828979,
          37.97573853,
          37.87612915,
          37.97055054,
          38.02822876,
          38.06680298,
          38.01870728,
          37.97512817,
          37.8822937,
          37.72286987,
          37.79031372,
          37.95529175,
          38.07546997,
          37.92550659,
          37.84133911,
          37.89248657,
          38.02633667,
          37.96261597,
          37.87716675,
          37.96286011,
          37.87649536,
          37.85525513,
          37.94967651,
          37.85757446,
          38.03048706,
          37.96414185,
          37.86538696,
          37.85427856,
          38.00228882,
          38.06686401,
          37.8921814,
          37.93734741,
          37.98416138,
          37.91793823,
          38.08547974,
          37.95669556,
          37.92330933,
          37.92379761,
          38.0352478,
          38.05288696,
          37.98233032,
          38.01968384,
          37.92056274,
          37.91079712,
          37.91384888,
          37.83676147,
          37.75802612,
          37.83602905,
          37.84072876,
          37.96310425,
          37.83139038,
          37.83328247,
          37.94442749,
          37.92538452,
          37.97262573,
          37.85794067,
          37.95925903,
          38.03500366,
          38.12734985,
          37.99197388,
          37.94003296,
          37.99807739,
          37.86312866,
          37.89187622,
          37.91421509,
          37.85403442,
          37.93234253,
          37.86013794,
          37.88876343,
          37.8578186,
          37.87661743,
          38.02035522,
          38.00234985,
          37.90005493,
          37.8656311,
          37.83120728,
          37.89480591,
          37.9614563,
          37.95779419,
          83.62124634,
          96.90756226,
          101.6708679,
          101.8730164,
          101.8946228,
          101.8951721,
          101.8483582,
          101.9787903,
          102.0487366,
          102.1242981,
          102.0823669,
          101.9925232,
          101.9864807,
          101.9706116
         ],
         "yaxis": "y"
        },
        {
         "marker": {
          "color": "red",
          "size": 8
         },
         "mode": "markers",
         "name": "Sharp Rise",
         "type": "scatter",
         "x": [
          0.5485025833,
          1.584642333,
          1.594605333,
          2.849930583,
          2.859893583,
          3.866144958
         ],
         "y": [
          96.82559204,
          86.06692505,
          102.4148865,
          14.30081177,
          31.15859985,
          96.90756226
         ]
        },
        {
         "marker": {
          "color": "red",
          "size": 8
         },
         "mode": "markers",
         "name": "Descent",
         "type": "scatter",
         "x": [
          1.046646333,
          1.056609333,
          2.062861958,
          2.072824958
         ],
         "y": [
          102.0566101,
          -94.40652466,
          109.0337219,
          -148.5925598
         ]
        }
       ],
       "layout": {
        "legend": {
         "tracegroupgap": 0
        },
        "template": {
         "data": {
          "bar": [
           {
            "error_x": {
             "color": "#2a3f5f"
            },
            "error_y": {
             "color": "#2a3f5f"
            },
            "marker": {
             "line": {
              "color": "#E5ECF6",
              "width": 0.5
             },
             "pattern": {
              "fillmode": "overlay",
              "size": 10,
              "solidity": 0.2
             }
            },
            "type": "bar"
           }
          ],
          "barpolar": [
           {
            "marker": {
             "line": {
              "color": "#E5ECF6",
              "width": 0.5
             },
             "pattern": {
              "fillmode": "overlay",
              "size": 10,
              "solidity": 0.2
             }
            },
            "type": "barpolar"
           }
          ],
          "carpet": [
           {
            "aaxis": {
             "endlinecolor": "#2a3f5f",
             "gridcolor": "white",
             "linecolor": "white",
             "minorgridcolor": "white",
             "startlinecolor": "#2a3f5f"
            },
            "baxis": {
             "endlinecolor": "#2a3f5f",
             "gridcolor": "white",
             "linecolor": "white",
             "minorgridcolor": "white",
             "startlinecolor": "#2a3f5f"
            },
            "type": "carpet"
           }
          ],
          "choropleth": [
           {
            "colorbar": {
             "outlinewidth": 0,
             "ticks": ""
            },
            "type": "choropleth"
           }
          ],
          "contour": [
           {
            "colorbar": {
             "outlinewidth": 0,
             "ticks": ""
            },
            "colorscale": [
             [
              0,
              "#0d0887"
             ],
             [
              0.1111111111111111,
              "#46039f"
             ],
             [
              0.2222222222222222,
              "#7201a8"
             ],
             [
              0.3333333333333333,
              "#9c179e"
             ],
             [
              0.4444444444444444,
              "#bd3786"
             ],
             [
              0.5555555555555556,
              "#d8576b"
             ],
             [
              0.6666666666666666,
              "#ed7953"
             ],
             [
              0.7777777777777778,
              "#fb9f3a"
             ],
             [
              0.8888888888888888,
              "#fdca26"
             ],
             [
              1,
              "#f0f921"
             ]
            ],
            "type": "contour"
           }
          ],
          "contourcarpet": [
           {
            "colorbar": {
             "outlinewidth": 0,
             "ticks": ""
            },
            "type": "contourcarpet"
           }
          ],
          "heatmap": [
           {
            "colorbar": {
             "outlinewidth": 0,
             "ticks": ""
            },
            "colorscale": [
             [
              0,
              "#0d0887"
             ],
             [
              0.1111111111111111,
              "#46039f"
             ],
             [
              0.2222222222222222,
              "#7201a8"
             ],
             [
              0.3333333333333333,
              "#9c179e"
             ],
             [
              0.4444444444444444,
              "#bd3786"
             ],
             [
              0.5555555555555556,
              "#d8576b"
             ],
             [
              0.6666666666666666,
              "#ed7953"
             ],
             [
              0.7777777777777778,
              "#fb9f3a"
             ],
             [
              0.8888888888888888,
              "#fdca26"
             ],
             [
              1,
              "#f0f921"
             ]
            ],
            "type": "heatmap"
           }
          ],
          "heatmapgl": [
           {
            "colorbar": {
             "outlinewidth": 0,
             "ticks": ""
            },
            "colorscale": [
             [
              0,
              "#0d0887"
             ],
             [
              0.1111111111111111,
              "#46039f"
             ],
             [
              0.2222222222222222,
              "#7201a8"
             ],
             [
              0.3333333333333333,
              "#9c179e"
             ],
             [
              0.4444444444444444,
              "#bd3786"
             ],
             [
              0.5555555555555556,
              "#d8576b"
             ],
             [
              0.6666666666666666,
              "#ed7953"
             ],
             [
              0.7777777777777778,
              "#fb9f3a"
             ],
             [
              0.8888888888888888,
              "#fdca26"
             ],
             [
              1,
              "#f0f921"
             ]
            ],
            "type": "heatmapgl"
           }
          ],
          "histogram": [
           {
            "marker": {
             "pattern": {
              "fillmode": "overlay",
              "size": 10,
              "solidity": 0.2
             }
            },
            "type": "histogram"
           }
          ],
          "histogram2d": [
           {
            "colorbar": {
             "outlinewidth": 0,
             "ticks": ""
            },
            "colorscale": [
             [
              0,
              "#0d0887"
             ],
             [
              0.1111111111111111,
              "#46039f"
             ],
             [
              0.2222222222222222,
              "#7201a8"
             ],
             [
              0.3333333333333333,
              "#9c179e"
             ],
             [
              0.4444444444444444,
              "#bd3786"
             ],
             [
              0.5555555555555556,
              "#d8576b"
             ],
             [
              0.6666666666666666,
              "#ed7953"
             ],
             [
              0.7777777777777778,
              "#fb9f3a"
             ],
             [
              0.8888888888888888,
              "#fdca26"
             ],
             [
              1,
              "#f0f921"
             ]
            ],
            "type": "histogram2d"
           }
          ],
          "histogram2dcontour": [
           {
            "colorbar": {
             "outlinewidth": 0,
             "ticks": ""
            },
            "colorscale": [
             [
              0,
              "#0d0887"
             ],
             [
              0.1111111111111111,
              "#46039f"
             ],
             [
              0.2222222222222222,
              "#7201a8"
             ],
             [
              0.3333333333333333,
              "#9c179e"
             ],
             [
              0.4444444444444444,
              "#bd3786"
             ],
             [
              0.5555555555555556,
              "#d8576b"
             ],
             [
              0.6666666666666666,
              "#ed7953"
             ],
             [
              0.7777777777777778,
              "#fb9f3a"
             ],
             [
              0.8888888888888888,
              "#fdca26"
             ],
             [
              1,
              "#f0f921"
             ]
            ],
            "type": "histogram2dcontour"
           }
          ],
          "mesh3d": [
           {
            "colorbar": {
             "outlinewidth": 0,
             "ticks": ""
            },
            "type": "mesh3d"
           }
          ],
          "parcoords": [
           {
            "line": {
             "colorbar": {
              "outlinewidth": 0,
              "ticks": ""
             }
            },
            "type": "parcoords"
           }
          ],
          "pie": [
           {
            "automargin": true,
            "type": "pie"
           }
          ],
          "scatter": [
           {
            "fillpattern": {
             "fillmode": "overlay",
             "size": 10,
             "solidity": 0.2
            },
            "type": "scatter"
           }
          ],
          "scatter3d": [
           {
            "line": {
             "colorbar": {
              "outlinewidth": 0,
              "ticks": ""
             }
            },
            "marker": {
             "colorbar": {
              "outlinewidth": 0,
              "ticks": ""
             }
            },
            "type": "scatter3d"
           }
          ],
          "scattercarpet": [
           {
            "marker": {
             "colorbar": {
              "outlinewidth": 0,
              "ticks": ""
             }
            },
            "type": "scattercarpet"
           }
          ],
          "scattergeo": [
           {
            "marker": {
             "colorbar": {
              "outlinewidth": 0,
              "ticks": ""
             }
            },
            "type": "scattergeo"
           }
          ],
          "scattergl": [
           {
            "marker": {
             "colorbar": {
              "outlinewidth": 0,
              "ticks": ""
             }
            },
            "type": "scattergl"
           }
          ],
          "scattermapbox": [
           {
            "marker": {
             "colorbar": {
              "outlinewidth": 0,
              "ticks": ""
             }
            },
            "type": "scattermapbox"
           }
          ],
          "scatterpolar": [
           {
            "marker": {
             "colorbar": {
              "outlinewidth": 0,
              "ticks": ""
             }
            },
            "type": "scatterpolar"
           }
          ],
          "scatterpolargl": [
           {
            "marker": {
             "colorbar": {
              "outlinewidth": 0,
              "ticks": ""
             }
            },
            "type": "scatterpolargl"
           }
          ],
          "scatterternary": [
           {
            "marker": {
             "colorbar": {
              "outlinewidth": 0,
              "ticks": ""
             }
            },
            "type": "scatterternary"
           }
          ],
          "surface": [
           {
            "colorbar": {
             "outlinewidth": 0,
             "ticks": ""
            },
            "colorscale": [
             [
              0,
              "#0d0887"
             ],
             [
              0.1111111111111111,
              "#46039f"
             ],
             [
              0.2222222222222222,
              "#7201a8"
             ],
             [
              0.3333333333333333,
              "#9c179e"
             ],
             [
              0.4444444444444444,
              "#bd3786"
             ],
             [
              0.5555555555555556,
              "#d8576b"
             ],
             [
              0.6666666666666666,
              "#ed7953"
             ],
             [
              0.7777777777777778,
              "#fb9f3a"
             ],
             [
              0.8888888888888888,
              "#fdca26"
             ],
             [
              1,
              "#f0f921"
             ]
            ],
            "type": "surface"
           }
          ],
          "table": [
           {
            "cells": {
             "fill": {
              "color": "#EBF0F8"
             },
             "line": {
              "color": "white"
             }
            },
            "header": {
             "fill": {
              "color": "#C8D4E3"
             },
             "line": {
              "color": "white"
             }
            },
            "type": "table"
           }
          ]
         },
         "layout": {
          "annotationdefaults": {
           "arrowcolor": "#2a3f5f",
           "arrowhead": 0,
           "arrowwidth": 1
          },
          "autotypenumbers": "strict",
          "coloraxis": {
           "colorbar": {
            "outlinewidth": 0,
            "ticks": ""
           }
          },
          "colorscale": {
           "diverging": [
            [
             0,
             "#8e0152"
            ],
            [
             0.1,
             "#c51b7d"
            ],
            [
             0.2,
             "#de77ae"
            ],
            [
             0.3,
             "#f1b6da"
            ],
            [
             0.4,
             "#fde0ef"
            ],
            [
             0.5,
             "#f7f7f7"
            ],
            [
             0.6,
             "#e6f5d0"
            ],
            [
             0.7,
             "#b8e186"
            ],
            [
             0.8,
             "#7fbc41"
            ],
            [
             0.9,
             "#4d9221"
            ],
            [
             1,
             "#276419"
            ]
           ],
           "sequential": [
            [
             0,
             "#0d0887"
            ],
            [
             0.1111111111111111,
             "#46039f"
            ],
            [
             0.2222222222222222,
             "#7201a8"
            ],
            [
             0.3333333333333333,
             "#9c179e"
            ],
            [
             0.4444444444444444,
             "#bd3786"
            ],
            [
             0.5555555555555556,
             "#d8576b"
            ],
            [
             0.6666666666666666,
             "#ed7953"
            ],
            [
             0.7777777777777778,
             "#fb9f3a"
            ],
            [
             0.8888888888888888,
             "#fdca26"
            ],
            [
             1,
             "#f0f921"
            ]
           ],
           "sequentialminus": [
            [
             0,
             "#0d0887"
            ],
            [
             0.1111111111111111,
             "#46039f"
            ],
            [
             0.2222222222222222,
             "#7201a8"
            ],
            [
             0.3333333333333333,
             "#9c179e"
            ],
            [
             0.4444444444444444,
             "#bd3786"
            ],
            [
             0.5555555555555556,
             "#d8576b"
            ],
            [
             0.6666666666666666,
             "#ed7953"
            ],
            [
             0.7777777777777778,
             "#fb9f3a"
            ],
            [
             0.8888888888888888,
             "#fdca26"
            ],
            [
             1,
             "#f0f921"
            ]
           ]
          },
          "colorway": [
           "#636efa",
           "#EF553B",
           "#00cc96",
           "#ab63fa",
           "#FFA15A",
           "#19d3f3",
           "#FF6692",
           "#B6E880",
           "#FF97FF",
           "#FECB52"
          ],
          "font": {
           "color": "#2a3f5f"
          },
          "geo": {
           "bgcolor": "white",
           "lakecolor": "white",
           "landcolor": "#E5ECF6",
           "showlakes": true,
           "showland": true,
           "subunitcolor": "white"
          },
          "hoverlabel": {
           "align": "left"
          },
          "hovermode": "closest",
          "mapbox": {
           "style": "light"
          },
          "paper_bgcolor": "white",
          "plot_bgcolor": "#E5ECF6",
          "polar": {
           "angularaxis": {
            "gridcolor": "white",
            "linecolor": "white",
            "ticks": ""
           },
           "bgcolor": "#E5ECF6",
           "radialaxis": {
            "gridcolor": "white",
            "linecolor": "white",
            "ticks": ""
           }
          },
          "scene": {
           "xaxis": {
            "backgroundcolor": "#E5ECF6",
            "gridcolor": "white",
            "gridwidth": 2,
            "linecolor": "white",
            "showbackground": true,
            "ticks": "",
            "zerolinecolor": "white"
           },
           "yaxis": {
            "backgroundcolor": "#E5ECF6",
            "gridcolor": "white",
            "gridwidth": 2,
            "linecolor": "white",
            "showbackground": true,
            "ticks": "",
            "zerolinecolor": "white"
           },
           "zaxis": {
            "backgroundcolor": "#E5ECF6",
            "gridcolor": "white",
            "gridwidth": 2,
            "linecolor": "white",
            "showbackground": true,
            "ticks": "",
            "zerolinecolor": "white"
           }
          },
          "shapedefaults": {
           "line": {
            "color": "#2a3f5f"
           }
          },
          "ternary": {
           "aaxis": {
            "gridcolor": "white",
            "linecolor": "white",
            "ticks": ""
           },
           "baxis": {
            "gridcolor": "white",
            "linecolor": "white",
            "ticks": ""
           },
           "bgcolor": "#E5ECF6",
           "caxis": {
            "gridcolor": "white",
            "linecolor": "white",
            "ticks": ""
           }
          },
          "title": {
           "x": 0.05
          },
          "xaxis": {
           "automargin": true,
           "gridcolor": "white",
           "linecolor": "white",
           "ticks": "",
           "title": {
            "standoff": 15
           },
           "zerolinecolor": "white",
           "zerolinewidth": 2
          },
          "yaxis": {
           "automargin": true,
           "gridcolor": "white",
           "linecolor": "white",
           "ticks": "",
           "title": {
            "standoff": 15
           },
           "zerolinecolor": "white",
           "zerolinewidth": 2
          }
         }
        },
        "title": {
         "text": "Magnetic Field x vs. Time"
        },
        "xaxis": {
         "anchor": "y",
         "domain": [
          0,
          1
         ],
         "title": {
          "text": "Time (s)"
         }
        },
        "yaxis": {
         "anchor": "x",
         "domain": [
          0,
          1
         ],
         "title": {
          "text": "Magnetic Field x (µT)"
         }
        }
       }
      }
     },
     "metadata": {},
     "output_type": "display_data"
    }
   ],
   "source": [
    "# Analyze x and extract indices and subsequently the value to give it to Matlab\n",
    "t = 40\n",
    "df_trunc = df_tracking[:400]\n",
    "rxidx, dxidx = extract_index(df_trunc, 'Magnetic Field x (µT)', t)\n",
    "rxidx = [index + 1 for index in rxidx]\n",
    "\n",
    "fig = px.line(df_trunc, x='Time (s)', y='Magnetic Field x (µT)', title=\"Magnetic Field x vs. Time\",\n",
    "              line_shape='linear', render_mode='svg')\n",
    "\n",
    "fig.add_scatter(x=df_trunc.loc[rxidx, 'Time (s)'],\n",
    "                y=df_trunc.loc[rxidx, 'Magnetic Field x (µT)'],\n",
    "                mode='markers', marker=dict(color='red', size=8), name='Sharp Rise')\n",
    "fig.add_scatter(x=df_trunc.loc[dxidx, 'Time (s)'],\n",
    "                y=df_trunc.loc[dxidx, 'Magnetic Field x (µT)'],\n",
    "                mode='markers', marker=dict(color='red', size=8), name='Descent')\n"
   ]
  },
  {
   "cell_type": "code",
   "execution_count": 97,
   "metadata": {},
   "outputs": [
    {
     "data": {
      "application/vnd.plotly.v1+json": {
       "config": {
        "plotlyServerURL": "https://plot.ly"
       },
       "data": [
        {
         "hovertemplate": "Time (s)=%{x}<br>Absolute field (µT)=%{y}<extra></extra>",
         "legendgroup": "",
         "line": {
          "color": "#636efa",
          "dash": "solid",
          "shape": "linear"
         },
         "marker": {
          "symbol": "circle"
         },
         "mode": "lines",
         "name": "",
         "orientation": "v",
         "showlegend": false,
         "type": "scatter",
         "x": [
          0.01050658333,
          0.02046958333,
          0.03043258333,
          0.04039558333,
          0.05035858333,
          0.06032158333,
          0.07028358333,
          0.08024658333,
          0.09020958333,
          0.1001725833,
          0.1101355833,
          0.1200985833,
          0.1300615833,
          0.1400245833,
          0.1499865833,
          0.1599495833,
          0.1699125833,
          0.1798755833,
          0.1898385833,
          0.1998015833,
          0.2097645833,
          0.2197275833,
          0.2296905833,
          0.2396525833,
          0.2496155833,
          0.2595785833,
          0.2695415833,
          0.2795045833,
          0.2894675833,
          0.2994305833,
          0.3093935833,
          0.3193565833,
          0.3293195833,
          0.3392815833,
          0.3492445833,
          0.3592075833,
          0.3691705833,
          0.3791335833,
          0.3890965833,
          0.3990595833,
          0.4090225833,
          0.4189845833,
          0.4289475833,
          0.4389105833,
          0.4488735833,
          0.4588365833,
          0.4687995833,
          0.4787625833,
          0.4887255833,
          0.4986885833,
          0.5086505833,
          0.5186135833,
          0.5285765833,
          0.5385395833,
          0.5485025833,
          0.5584655833,
          0.5684285833,
          0.5783915833,
          0.5883545833,
          0.5983165833,
          0.6082795833,
          0.6182425833,
          0.6282055833,
          0.6381685833,
          0.6481315833,
          0.6580945833,
          0.6680575833,
          0.6780205833,
          0.6879825833,
          0.6979455833,
          0.7079085833,
          0.7178715833,
          0.7278345833,
          0.7377975833,
          0.7477603333,
          0.7577233333,
          0.7676863333,
          0.7776483333,
          0.7876113333,
          0.7975743333,
          0.8075373333,
          0.8175003333,
          0.8274633333,
          0.8374263333,
          0.8473893333,
          0.8573523333,
          0.8673143333,
          0.8772773333,
          0.8872403333,
          0.8972033333,
          0.9071663333,
          0.9171293333,
          0.9270923333,
          0.9370553333,
          0.9470183333,
          0.9569803333,
          0.9669433333,
          0.9769063333,
          0.9868693333,
          0.9968323333,
          1.006795333,
          1.016758333,
          1.026721333,
          1.036684333,
          1.046646333,
          1.056609333,
          1.066572333,
          1.076535333,
          1.086498333,
          1.096461333,
          1.106424333,
          1.116387333,
          1.126350333,
          1.136312333,
          1.146275333,
          1.156238333,
          1.166201333,
          1.176164333,
          1.186127333,
          1.196090333,
          1.206053333,
          1.216016333,
          1.225978333,
          1.235941333,
          1.245904333,
          1.255867333,
          1.265830333,
          1.275793333,
          1.285756333,
          1.295719333,
          1.305682333,
          1.315644333,
          1.325607333,
          1.335570333,
          1.345533333,
          1.355496333,
          1.365459333,
          1.375422333,
          1.385385333,
          1.395348333,
          1.405310333,
          1.415273333,
          1.425236333,
          1.435199333,
          1.445162333,
          1.455125333,
          1.465088333,
          1.475051333,
          1.485014333,
          1.494976333,
          1.504939333,
          1.514902333,
          1.524865333,
          1.534828333,
          1.544791333,
          1.554754333,
          1.564717333,
          1.574680333,
          1.584642333,
          1.594605333,
          1.604568333,
          1.614531333,
          1.624494333,
          1.634457333,
          1.644420333,
          1.654383333,
          1.664346333,
          1.674308333,
          1.684271333,
          1.694234333,
          1.704197333,
          1.714160333,
          1.724123333,
          1.734086333,
          1.744049958,
          1.754012958,
          1.763974958,
          1.773937958,
          1.783900958,
          1.793863958,
          1.803826958,
          1.813789958,
          1.823752958,
          1.833715958,
          1.843678958,
          1.853640958,
          1.863603958,
          1.873566958,
          1.883529958,
          1.893492958,
          1.903455958,
          1.913418958,
          1.923381958,
          1.933344958,
          1.943306958,
          1.953269958,
          1.963232958,
          1.973195958,
          1.983158958,
          1.993121958,
          2.003084958,
          2.013047958,
          2.023010958,
          2.032972958,
          2.042935958,
          2.052898958,
          2.062861958,
          2.072824958,
          2.082787958,
          2.092750958,
          2.102713958,
          2.112676958,
          2.122638958,
          2.132601958,
          2.142564958,
          2.152527958,
          2.162490958,
          2.172453958,
          2.182416958,
          2.192379958,
          2.202342958,
          2.212304958,
          2.222267958,
          2.232230958,
          2.242193958,
          2.252156958,
          2.262119958,
          2.272082958,
          2.282045958,
          2.292008958,
          2.301970958,
          2.311933958,
          2.321896958,
          2.331859958,
          2.341822958,
          2.351785958,
          2.361748958,
          2.371711958,
          2.381674958,
          2.391636958,
          2.401599958,
          2.411562958,
          2.421525958,
          2.431488958,
          2.441451958,
          2.451414958,
          2.461377958,
          2.471340958,
          2.481302958,
          2.491265958,
          2.501228958,
          2.511191958,
          2.521154958,
          2.531117958,
          2.541080958,
          2.551043958,
          2.561006958,
          2.570968958,
          2.580931958,
          2.590894958,
          2.600857958,
          2.610820958,
          2.620783958,
          2.630746958,
          2.640709958,
          2.650672958,
          2.660634958,
          2.670597958,
          2.680560958,
          2.690523958,
          2.700486958,
          2.710449958,
          2.720412958,
          2.730375958,
          2.740338958,
          2.750301583,
          2.760264583,
          2.770227583,
          2.780190583,
          2.790153583,
          2.800116583,
          2.810079583,
          2.820042583,
          2.830005583,
          2.839967583,
          2.849930583,
          2.859893583,
          2.869856583,
          2.879819583,
          2.889782583,
          2.899745583,
          2.909708583,
          2.919671583,
          2.929633583,
          2.939596583,
          2.949559583,
          2.959522583,
          2.969485583,
          2.979448583,
          2.989411583,
          2.999374583,
          3.009337583,
          3.019299583,
          3.029262583,
          3.039225583,
          3.049188583,
          3.059151583,
          3.069114583,
          3.079077583,
          3.089040583,
          3.099003583,
          3.108965583,
          3.118928583,
          3.128891583,
          3.138854583,
          3.148817583,
          3.158780583,
          3.168743583,
          3.178706583,
          3.188669583,
          3.198631583,
          3.208594583,
          3.218557583,
          3.228520583,
          3.238483583,
          3.248446583,
          3.258409583,
          3.268372583,
          3.278335583,
          3.288297583,
          3.298260583,
          3.308223583,
          3.318186583,
          3.328149583,
          3.338112583,
          3.348075583,
          3.358038583,
          3.368001583,
          3.377963583,
          3.387926583,
          3.397889583,
          3.407852583,
          3.417815583,
          3.427778583,
          3.437741583,
          3.447704583,
          3.457667583,
          3.467629583,
          3.477592583,
          3.487555583,
          3.497518583,
          3.507481583,
          3.517444583,
          3.527407583,
          3.537370583,
          3.547333583,
          3.557295583,
          3.567258583,
          3.577221583,
          3.587184583,
          3.597147583,
          3.607110583,
          3.617073583,
          3.627036583,
          3.636999583,
          3.646961583,
          3.656924583,
          3.666887583,
          3.676850583,
          3.686813583,
          3.696776583,
          3.706739583,
          3.716702583,
          3.726665583,
          3.736627583,
          3.746589958,
          3.756552958,
          3.766515958,
          3.776478958,
          3.786441958,
          3.796404958,
          3.806367958,
          3.816330958,
          3.826292958,
          3.836255958,
          3.846218958,
          3.856181958,
          3.866144958,
          3.876107958,
          3.886070958,
          3.896033958,
          3.905996958,
          3.915959958,
          3.925921958,
          3.935884958,
          3.945847958,
          3.955810958,
          3.965773958,
          3.975736958,
          3.985699958,
          3.995662958,
          4.005624958,
          4.015587958,
          4.025550958,
          4.035513958,
          4.045476958,
          4.055439958,
          4.065402958,
          4.075365958,
          4.085328958,
          4.095290958,
          4.105253958,
          4.115216958,
          4.125179958,
          4.135142958,
          4.145105958,
          4.155068958,
          4.165031958,
          4.174994958,
          4.184956958,
          4.194919958,
          4.204882958,
          4.214845958,
          4.224808958,
          4.234771958,
          4.244734958,
          4.254697958,
          4.264660958,
          4.274622958,
          4.284585958,
          4.294548958,
          4.304511958,
          4.314474958,
          4.324437958,
          4.334400958,
          4.344363958,
          4.354326958,
          4.364288958,
          4.374251958,
          4.384214958,
          4.394177958,
          4.404140958,
          4.414103958,
          4.424066958,
          4.434029958,
          4.443992958,
          4.453955958,
          4.463917958,
          4.473880958,
          4.483843958,
          4.493806958,
          4.503769958,
          4.513732958,
          4.523695958,
          4.533658958,
          4.543621958,
          4.553583958,
          4.563546958,
          4.573509958,
          4.583472958,
          4.593435958,
          4.603398958,
          4.613361958,
          4.623324958,
          4.633287958,
          4.643249958,
          4.653212958,
          4.663175958,
          4.673138958,
          4.683101958,
          4.693064958,
          4.703027958,
          4.712990958,
          4.722953958,
          4.732915958,
          4.742878958,
          4.752841333,
          4.762804333,
          4.772767333,
          4.782730333,
          4.792693333,
          4.802656333,
          4.812619333,
          4.822581333,
          4.832544333,
          4.842507333,
          4.852470333,
          4.862433333,
          4.872396333,
          4.882359333,
          4.892322333,
          4.902285333,
          4.912247333,
          4.922210333,
          4.932173333,
          4.942136333,
          4.952099333,
          4.962062333,
          4.972025333,
          4.981988333,
          4.991951333,
          5.001913333,
          5.011876333,
          5.021839333,
          5.031802333,
          5.041765333,
          5.051728333,
          5.061691333,
          5.071654333,
          5.081617333,
          5.091579333,
          5.101542333,
          5.111505333,
          5.121468333,
          5.131431333,
          5.141394333,
          5.151357333,
          5.161320333,
          5.171283333,
          5.181245333,
          5.191208333,
          5.201171333,
          5.211134333,
          5.221097333,
          5.231060333,
          5.241023333,
          5.250986333,
          5.260949333,
          5.270911333,
          5.280874333,
          5.290837333,
          5.300800333,
          5.310763333,
          5.320726333,
          5.330689333,
          5.340652333,
          5.350615333,
          5.360577333,
          5.370540333,
          5.380503333,
          5.390466333,
          5.400429333,
          5.410392333,
          5.420355333,
          5.430318333,
          5.440281333,
          5.450243333,
          5.460206333,
          5.470169333,
          5.480132333,
          5.490095333,
          5.500058333,
          5.510021333,
          5.519984333,
          5.529947333,
          5.539910333,
          5.549872333,
          5.559835333,
          5.569798333,
          5.579761333,
          5.589724333,
          5.599687333,
          5.609650333,
          5.619613333,
          5.629576333,
          5.639538333,
          5.649501333,
          5.659464333,
          5.669427333,
          5.679390333,
          5.689353333,
          5.699316333,
          5.709279333,
          5.719242333,
          5.729204333,
          5.739167333,
          5.749131,
          5.759094,
          5.769057,
          5.77902,
          5.788983,
          5.798946,
          5.808909,
          5.818871,
          5.828834,
          5.838797,
          5.84876,
          5.858723,
          5.868686,
          5.878649,
          5.888612,
          5.898575,
          5.908538,
          5.9185,
          5.928463,
          5.938426,
          5.948389,
          5.958352,
          5.968315,
          5.978278,
          5.988241,
          5.998204,
          6.008166,
          6.018129,
          6.028092,
          6.038055,
          6.048018,
          6.057981,
          6.067944,
          6.077907,
          6.08787,
          6.097832,
          6.107795,
          6.117758,
          6.127721,
          6.137684,
          6.147647,
          6.15761,
          6.167573,
          6.177536,
          6.187499,
          6.197461,
          6.207424,
          6.217387,
          6.22735,
          6.237313,
          6.247276,
          6.257239,
          6.267202,
          6.277165,
          6.287128,
          6.29709,
          6.307053,
          6.317016,
          6.326979,
          6.336942,
          6.346905,
          6.356868,
          6.366831,
          6.376794,
          6.386756,
          6.396719,
          6.406682,
          6.416645,
          6.426608,
          6.436571,
          6.446534,
          6.456497,
          6.46646,
          6.476422,
          6.486385,
          6.496348,
          6.506311,
          6.516274,
          6.526237,
          6.5362,
          6.546163,
          6.556126,
          6.566089,
          6.576051,
          6.586014,
          6.595977,
          6.60594,
          6.615903,
          6.625866,
          6.635829,
          6.645792,
          6.655755,
          6.665718,
          6.67568,
          6.685643,
          6.695606,
          6.705569,
          6.715532,
          6.725495,
          6.735458,
          6.745421,
          6.75538375,
          6.76534575,
          6.77530875,
          6.78527175,
          6.79523475,
          6.80519775,
          6.81516075,
          6.82512375,
          6.83508675,
          6.84504975,
          6.85501275,
          6.86497475,
          6.87493775,
          6.88490075,
          6.89486375,
          6.90482675,
          6.91478975,
          6.92475275,
          6.93471575,
          6.94467875,
          6.95464075,
          6.96460375,
          6.97456675,
          6.98452975,
          6.99449275,
          7.00445575,
          7.01441875,
          7.02438175,
          7.03434475,
          7.04430775,
          7.05426975,
          7.06423275,
          7.07419575,
          7.08415875,
          7.09412175,
          7.10408475,
          7.11404775,
          7.12401075,
          7.13397375,
          7.14393675,
          7.15389875,
          7.16386175,
          7.17382475,
          7.18378775,
          7.19375075,
          7.20371375,
          7.21367675,
          7.22363975,
          7.23360275,
          7.24356475,
          7.25352775,
          7.26349075,
          7.27345375,
          7.28341675,
          7.29337975,
          7.30334275,
          7.31330575,
          7.32326875,
          7.33323175,
          7.34319375,
          7.35315675,
          7.36311975,
          7.37308275,
          7.38304575,
          7.39300875,
          7.40297175,
          7.41293475,
          7.42289775,
          7.43285975,
          7.44282275,
          7.45278575,
          7.46274875,
          7.47271175,
          7.48267475,
          7.49263775,
          7.50260075,
          7.51256375,
          7.52252675,
          7.53248875,
          7.54245175,
          7.55241475,
          7.56237775,
          7.57234075,
          7.58230375,
          7.59226675,
          7.60222975,
          7.61219275,
          7.62215575,
          7.63211775,
          7.64208075,
          7.65204375,
          7.66200675,
          7.67196975,
          7.68193275,
          7.69189575,
          7.70185875,
          7.71182175,
          7.72178375,
          7.73174675,
          7.74170975,
          7.751672458,
          7.761635458,
          7.771598458,
          7.781561458,
          7.791524458,
          7.801487458,
          7.811450458,
          7.821412458,
          7.831375458,
          7.841338458,
          7.851301458,
          7.861264458,
          7.871227458,
          7.881190458,
          7.891153458,
          7.901116458,
          7.911078458,
          7.921041458,
          7.931004458,
          7.940967458,
          7.950930458,
          7.960893458,
          7.970856458,
          7.980819458,
          7.990782458,
          8.000745458,
          8.010707458,
          8.020670458,
          8.030633458,
          8.040596458,
          8.050559458,
          8.060522458,
          8.070485458,
          8.080448458,
          8.090411458,
          8.100373458,
          8.110336458,
          8.120299458,
          8.130262458,
          8.140225458,
          8.150188458,
          8.160151458,
          8.170114458,
          8.180077458,
          8.190040458,
          8.200002458,
          8.209965458,
          8.219928458,
          8.229891458,
          8.239854458,
          8.249817458,
          8.259780458,
          8.269743458,
          8.279706458,
          8.289668458,
          8.299631458,
          8.309594458,
          8.319557458,
          8.329520458,
          8.339483458,
          8.349446458,
          8.359409458,
          8.369372458,
          8.379335458,
          8.389297458,
          8.399260458,
          8.409223458,
          8.419186458,
          8.429149458,
          8.439112458,
          8.449075458,
          8.459038458,
          8.469001458,
          8.478963458,
          8.488926458,
          8.498889458,
          8.508852458,
          8.518815458,
          8.528778458,
          8.538741458,
          8.548704458,
          8.558667458,
          8.568630458,
          8.578592458,
          8.588555458,
          8.598518458,
          8.608481458,
          8.618444458,
          8.628407458,
          8.638370458,
          8.648333458,
          8.658296458,
          8.668258458,
          8.678221458,
          8.688184458,
          8.698147458,
          8.708110458,
          8.718073458,
          8.728036458,
          8.737999458,
          8.747962458,
          8.757925875,
          8.767887875,
          8.777850875,
          8.787813875,
          8.797776875,
          8.807739875,
          8.817702875,
          8.827665875,
          8.837628875,
          8.847591875,
          8.857553875,
          8.867516875,
          8.877479875,
          8.887442875,
          8.897405875,
          8.907368875,
          8.917331875,
          8.927294875,
          8.937257875,
          8.947220875,
          8.957182875,
          8.967145875,
          8.977108875,
          8.987071875,
          8.997034875,
          9.006997875,
          9.016960875,
          9.026923875,
          9.036886875,
          9.046848875,
          9.056811875,
          9.066774875,
          9.076737875,
          9.086700875,
          9.096663875,
          9.106626875,
          9.116589875,
          9.126552875,
          9.136514875,
          9.146477875,
          9.156440875,
          9.166403875,
          9.176366875,
          9.186329875,
          9.196292875,
          9.206255875,
          9.216218875,
          9.226180875,
          9.236143875,
          9.246106875,
          9.256069875,
          9.266032875,
          9.275995875,
          9.285958875,
          9.295921875,
          9.305884875,
          9.315846875,
          9.325809875,
          9.335772875,
          9.345735875,
          9.355698875,
          9.365661875,
          9.375624875,
          9.385587875,
          9.395550875,
          9.405513875,
          9.415475875,
          9.425438875,
          9.435401875,
          9.445364875,
          9.455327875,
          9.465290875,
          9.475253875,
          9.485216875,
          9.495179875,
          9.505141875,
          9.515104875,
          9.525067875,
          9.535030875,
          9.544993875,
          9.554956875,
          9.564919875,
          9.574882875,
          9.584845875,
          9.594807875,
          9.604770875,
          9.614733875,
          9.624696875,
          9.634659875,
          9.644622875,
          9.654585875,
          9.664548875,
          9.674511875,
          9.684473875,
          9.694436875,
          9.704399875,
          9.714362875,
          9.724325875,
          9.734288875,
          9.744251875,
          9.754214625,
          9.764177625,
          9.774140625,
          9.784102625,
          9.794065625,
          9.804028625,
          9.813991625,
          9.823954625,
          9.833917625,
          9.843880625,
          9.853843625,
          9.863806625,
          9.873768625,
          9.883731625,
          9.893694625,
          9.903657625,
          9.913620625,
          9.923583625,
          9.933546625,
          9.943509625,
          9.953472625,
          9.963434625,
          9.973397625,
          9.983360625,
          9.993323625,
          10.00328662,
          10.01324963,
          10.02321262,
          10.03317563,
          10.04313862,
          10.05310063,
          10.06306362,
          10.07302663,
          10.08298962,
          10.09295263,
          10.10291563,
          10.11287863,
          10.12284163,
          10.13280463,
          10.14276663,
          10.15272963,
          10.16269263,
          10.17265563,
          10.18261863,
          10.19258163,
          10.20254463,
          10.21250762,
          10.22247063,
          10.23243263,
          10.24239563,
          10.25235862,
          10.26232163,
          10.27228462,
          10.28224763,
          10.29221062,
          10.30217363,
          10.31213662,
          10.32209963,
          10.33206162,
          10.34202463,
          10.35198762,
          10.36195063,
          10.37191362,
          10.38187663,
          10.39183962,
          10.40180263,
          10.41176462,
          10.42172763,
          10.43169062,
          10.44165363,
          10.45161662,
          10.46157963,
          10.47154262,
          10.48150563,
          10.49146862,
          10.50143163,
          10.51139362,
          10.52135663,
          10.53131963,
          10.54128263,
          10.55124563,
          10.56120863,
          10.57117163,
          10.58113463,
          10.59109763,
          10.60105963,
          10.61102263,
          10.62098563,
          10.63094863,
          10.64091163,
          10.65087463,
          10.66083762,
          10.67080063,
          10.68076362,
          10.69072563,
          10.70068862,
          10.71065163,
          10.72061462,
          10.73057763,
          10.74054062,
          10.75050363,
          10.76046646,
          10.77042946,
          10.78039146,
          10.79035446,
          10.80031746,
          10.81028046,
          10.82024346,
          10.83020646,
          10.84016946,
          10.85013246,
          10.86009546,
          10.87005746,
          10.88002046,
          10.88998346,
          10.89994646,
          10.90990946,
          10.91987246,
          10.92983546,
          10.93979846,
          10.94976146,
          10.95972446,
          10.96968646,
          10.97964946,
          10.98961246,
          10.99957546,
          11.00953846,
          11.01950146,
          11.02946446,
          11.03942746,
          11.04939046,
          11.05935246,
          11.06931546,
          11.07927846,
          11.08924146,
          11.09920446,
          11.10916746,
          11.11913046,
          11.12909346,
          11.13905646,
          11.14901846,
          11.15898146,
          11.16894446,
          11.17890746,
          11.18887046,
          11.19883346,
          11.20879646,
          11.21875946,
          11.22872246,
          11.23868546,
          11.24864746,
          11.25861046,
          11.26857346,
          11.27853646,
          11.28849946,
          11.29846246,
          11.30842546,
          11.31838846,
          11.32835146,
          11.33831346,
          11.34827646,
          11.35823946,
          11.36820246,
          11.37816546,
          11.38812846,
          11.39809146,
          11.40805446,
          11.41801746,
          11.42798046,
          11.43794246,
          11.44790546,
          11.45786846,
          11.46783146,
          11.47779446,
          11.48775746,
          11.49772046,
          11.50768346,
          11.51764646,
          11.52760846,
          11.53757146,
          11.54753446,
          11.55749746,
          11.56746046,
          11.57742346,
          11.58738646,
          11.59734946,
          11.60731246,
          11.61727446,
          11.62723746,
          11.63720046,
          11.64716346,
          11.65712646,
          11.66708946,
          11.67705246,
          11.68701546,
          11.69697846,
          11.70694146,
          11.71690346,
          11.72686646,
          11.73682946,
          11.74679246,
          11.756756,
          11.766719,
          11.776682,
          11.786645,
          11.796608,
          11.80657,
          11.816533,
          11.826496,
          11.836459,
          11.846422,
          11.856385,
          11.866348,
          11.876311,
          11.886274,
          11.896237,
          11.906199,
          11.916162,
          11.926125,
          11.936088,
          11.946051,
          11.956014,
          11.965977,
          11.97594,
          11.985903,
          11.995866,
          12.005828,
          12.015791,
          12.025754,
          12.035717,
          12.04568,
          12.055643,
          12.065606,
          12.075569,
          12.085532,
          12.095494,
          12.105457,
          12.11542,
          12.125383,
          12.135346,
          12.145309,
          12.155272,
          12.165235,
          12.175198,
          12.185161,
          12.195123,
          12.205086,
          12.215049,
          12.225012,
          12.234975,
          12.244938,
          12.254901,
          12.264864,
          12.274827,
          12.28479,
          12.294752,
          12.304715,
          12.314678,
          12.324641,
          12.334604,
          12.344567,
          12.35453,
          12.364493,
          12.374456,
          12.384418,
          12.394381,
          12.404344,
          12.414307,
          12.42427,
          12.434233,
          12.444196,
          12.454159,
          12.464122,
          12.474085,
          12.484047,
          12.49401,
          12.503973,
          12.513936,
          12.523899,
          12.533862,
          12.543825,
          12.553788,
          12.563751,
          12.573714,
          12.583676,
          12.593639,
          12.603602,
          12.613565,
          12.623528,
          12.633491,
          12.643454,
          12.653417,
          12.66338,
          12.673343,
          12.683305,
          12.693268,
          12.703231,
          12.713194,
          12.723157,
          12.73312,
          12.743083,
          12.753046,
          12.76300875,
          12.77297075,
          12.78293375,
          12.79289675,
          12.80285975,
          12.81282275,
          12.82278575,
          12.83274875,
          12.84271175,
          12.85267475,
          12.86263775,
          12.87259975,
          12.88256275,
          12.89252575,
          12.90248875,
          12.91245175,
          12.92241475,
          12.93237775,
          12.94234075,
          12.95230375,
          12.96226675,
          12.97222875,
          12.98219175,
          12.99215475,
          13.00211775,
          13.01208075,
          13.02204375,
          13.03200675,
          13.04196975,
          13.05193275,
          13.06189575,
          13.07185775,
          13.08182075,
          13.09178375,
          13.10174675,
          13.11170975,
          13.12167275,
          13.13163575,
          13.14159875,
          13.15156175,
          13.16152475,
          13.17148675,
          13.18144975,
          13.19141275,
          13.20137575,
          13.21133875,
          13.22130175,
          13.23126475,
          13.24122775,
          13.25119075,
          13.26115375,
          13.27111575,
          13.28107875,
          13.29104175,
          13.30100475,
          13.31096775,
          13.32093075,
          13.33089375,
          13.34085675,
          13.35081975,
          13.36078275,
          13.37074475,
          13.38070775,
          13.39067075,
          13.40063375,
          13.41059675,
          13.42055975,
          13.43052275,
          13.44048575,
          13.45044875,
          13.46041175,
          13.47037375,
          13.48033675,
          13.49029975,
          13.50026275,
          13.51022575,
          13.52018875,
          13.53015175,
          13.54011475,
          13.55007775,
          13.56004075,
          13.57000275,
          13.57996575,
          13.58992875,
          13.59989175,
          13.60985475,
          13.61981775,
          13.62978075,
          13.63974375,
          13.64970675,
          13.65966975,
          13.66963175,
          13.67959475,
          13.68955775,
          13.69952075,
          13.70948375,
          13.71944675,
          13.72940975,
          13.73937275,
          13.74933575,
          13.75929871,
          13.76926171,
          13.77922371,
          13.78918671,
          13.79914971,
          13.80911271,
          13.81907571,
          13.82903871,
          13.83900171,
          13.84896471,
          13.85892771,
          13.86889071,
          13.87885271,
          13.88881571,
          13.89877871,
          13.90874171,
          13.91870471,
          13.92866771,
          13.93863071,
          13.94859371,
          13.95855671,
          13.96851971,
          13.97848271,
          13.98844471,
          13.99840771,
          14.00837071,
          14.01833371,
          14.02829671,
          14.03825971,
          14.04822271,
          14.05818571,
          14.06814871,
          14.07811171,
          14.08807371,
          14.09803671,
          14.10799971,
          14.11796271,
          14.12792571,
          14.13788871,
          14.14785171,
          14.15781471,
          14.16777771,
          14.17774071,
          14.18770271,
          14.19766571,
          14.20762871,
          14.21759171,
          14.22755471,
          14.23751771,
          14.24748071,
          14.25744371,
          14.26740671,
          14.27736971,
          14.28733271,
          14.29729471,
          14.30725771,
          14.31722071,
          14.32718371,
          14.33714671,
          14.34710971,
          14.35707271,
          14.36703571,
          14.37699871,
          14.38696171,
          14.39692371,
          14.40688671,
          14.41684971,
          14.42681271,
          14.43677571,
          14.44673871,
          14.45670171,
          14.46666471,
          14.47662771,
          14.48659071,
          14.49655371,
          14.50651571,
          14.51647871,
          14.52644171,
          14.53640471,
          14.54636771,
          14.55633071,
          14.56629371,
          14.57625671,
          14.58621971,
          14.59618271,
          14.60614471,
          14.61610771,
          14.62607071,
          14.63603371,
          14.64599671,
          14.65595971,
          14.66592271,
          14.67588571,
          14.68584871,
          14.69581171,
          14.70577471,
          14.71573671,
          14.72569971,
          14.73566271,
          14.74562571,
          14.75558833,
          14.76555133,
          14.77551433,
          14.78547733,
          14.79544033,
          14.80540333,
          14.81536533,
          14.82532833,
          14.83529133,
          14.84525433,
          14.85521733,
          14.86518033,
          14.87514333,
          14.88510633,
          14.89506933,
          14.90503233,
          14.91499533,
          14.92495733,
          14.93492033,
          14.94488333,
          14.95484633,
          14.96480933,
          14.97477233,
          14.98473533,
          14.99469833,
          15.00466133,
          15.01462433,
          15.02458733,
          15.03454933,
          15.04451233,
          15.05447533,
          15.06443833,
          15.07440133,
          15.08436433,
          15.09432733,
          15.10429033,
          15.11425333,
          15.12421633,
          15.13417933,
          15.14414133,
          15.15410433,
          15.16406733,
          15.17403033,
          15.18399333,
          15.19395633,
          15.20391933,
          15.21388233,
          15.22384533,
          15.23380833,
          15.24377033,
          15.25373333,
          15.26369633,
          15.27365933,
          15.28362233,
          15.29358533,
          15.30354833,
          15.31351133,
          15.32347433,
          15.33343733,
          15.34340033,
          15.35336333,
          15.36332533,
          15.37328833,
          15.38325133,
          15.39321433,
          15.40317733,
          15.41314033,
          15.42310333,
          15.43306633,
          15.44302933,
          15.45299233,
          15.46295533,
          15.47291733,
          15.48288033,
          15.49284333,
          15.50280633,
          15.51276933,
          15.52273233,
          15.53269533,
          15.54265833,
          15.55262133,
          15.56258433,
          15.57254733,
          15.58250933,
          15.59247233,
          15.60243533,
          15.61239833,
          15.62236133,
          15.63232433,
          15.64228733,
          15.65225033,
          15.66221333,
          15.67217633,
          15.68213933,
          15.69210133,
          15.70206433,
          15.71202733,
          15.72199033,
          15.73195333,
          15.74191633,
          15.75187933,
          15.76184275,
          15.77180575,
          15.78176875,
          15.79173175,
          15.80169375,
          15.81165675,
          15.82161975,
          15.83158275,
          15.84154575,
          15.85150875,
          15.86147175,
          15.87143475,
          15.88139775,
          15.89136075,
          15.90132375,
          15.91128675,
          15.92124875,
          15.93121175,
          15.94117475,
          15.95113775,
          15.96110075,
          15.97106375,
          15.98102675,
          15.99098975,
          16.00095275,
          16.01091575,
          16.02087875,
          16.03084075,
          16.04080375,
          16.05076675,
          16.06072975,
          16.07069275,
          16.08065575,
          16.09061875,
          16.10058175,
          16.11054475,
          16.12050775,
          16.13047075,
          16.14043375,
          16.15039575,
          16.16035875,
          16.17032175,
          16.18028475,
          16.19024775,
          16.20021075,
          16.21017375,
          16.22013675,
          16.23009975,
          16.24006275,
          16.25002575,
          16.25998775,
          16.26995075,
          16.27991375,
          16.28987675,
          16.29983975,
          16.30980275,
          16.31976575,
          16.32972875,
          16.33969175,
          16.34965475,
          16.35961775,
          16.36958075,
          16.37954275,
          16.38950575,
          16.39946875,
          16.40943175,
          16.41939475,
          16.42935775,
          16.43932075,
          16.44928375,
          16.45924675,
          16.46920975,
          16.47917275,
          16.48913575,
          16.49909775,
          16.50906075,
          16.51902375,
          16.52898675,
          16.53894975,
          16.54891275,
          16.55887575,
          16.56883875,
          16.57880175,
          16.58876475,
          16.59872775,
          16.60869075,
          16.61865275,
          16.62861575,
          16.63857875,
          16.64854175,
          16.65850475,
          16.66846775,
          16.67843075,
          16.68839375,
          16.69835675,
          16.70831975,
          16.71828275,
          16.72824575,
          16.73820775,
          16.74817075,
          16.75813325,
          16.76809625,
          16.77805925,
          16.78802225,
          16.79798525,
          16.80794825,
          16.81791125,
          16.82787425,
          16.83783725,
          16.84779925,
          16.85776225,
          16.86772525,
          16.87768825,
          16.88765125,
          16.89761425,
          16.90757725,
          16.91754025,
          16.92750325,
          16.93746625,
          16.94742925,
          16.95739225,
          16.96735425,
          16.97731725,
          16.98728025,
          16.99724325,
          17.00720625,
          17.01716925,
          17.02713225,
          17.03709525,
          17.04705825,
          17.05702125,
          17.06698425,
          17.07694725,
          17.08690925,
          17.09687225,
          17.10683525,
          17.11679825,
          17.12676125,
          17.13672425,
          17.14668725,
          17.15665025,
          17.16661325,
          17.17657625,
          17.18653925,
          17.19650225,
          17.20646425,
          17.21642725,
          17.22639025,
          17.23635325,
          17.24631625,
          17.25627925,
          17.26624225,
          17.27620525,
          17.28616825,
          17.29613125,
          17.30609425,
          17.31605725,
          17.32601925,
          17.33598225,
          17.34594525,
          17.35590825,
          17.36587125,
          17.37583425,
          17.38579725,
          17.39576025,
          17.40572325,
          17.41568625,
          17.42564925,
          17.43561225,
          17.44557525,
          17.45553725,
          17.46550025,
          17.47546325,
          17.48542625,
          17.49538925,
          17.50535225,
          17.51531525,
          17.52527825,
          17.53524125,
          17.54520425,
          17.55516725,
          17.56513025,
          17.57509225,
          17.58505525,
          17.59501825,
          17.60498125,
          17.61494425,
          17.62490725,
          17.63487025,
          17.64483325,
          17.65479625,
          17.66475925,
          17.67472225,
          17.68468525,
          17.69464725,
          17.70461025,
          17.71457325,
          17.72453625,
          17.73449925,
          17.74446225,
          17.75442525,
          17.76438858,
          17.77435158,
          17.78431458,
          17.79427758,
          17.80424058,
          17.81420358,
          17.82416658,
          17.83412858,
          17.84409158,
          17.85405458,
          17.86401758,
          17.87398058,
          17.88394358,
          17.89390658,
          17.90386958,
          17.91383258,
          17.92379558,
          17.93375858,
          17.94372158,
          17.95368458,
          17.96364658,
          17.97360958,
          17.98357258,
          17.99353558,
          18.00349858,
          18.01346158,
          18.02342458,
          18.03338758,
          18.04335058,
          18.05331358,
          18.06327658,
          18.07323958,
          18.08320158,
          18.09316458,
          18.10312758,
          18.11309058,
          18.12305358,
          18.13301658,
          18.14297958,
          18.15294258,
          18.16290558,
          18.17286858,
          18.18283158,
          18.19279458,
          18.20275758,
          18.21272058,
          18.22268258,
          18.23264558,
          18.24260858,
          18.25257158,
          18.26253458,
          18.27249758,
          18.28246058,
          18.29242358,
          18.30238658,
          18.31234958,
          18.32231258,
          18.33227558,
          18.34223858,
          18.35220058,
          18.36216358,
          18.37212658,
          18.38208958,
          18.39205258,
          18.40201558,
          18.41197858,
          18.42194158,
          18.43190458,
          18.44186758,
          18.45183058,
          18.46179358,
          18.47175658,
          18.48171858,
          18.49168158,
          18.50164458,
          18.51160758,
          18.52157058,
          18.53153358,
          18.54149658,
          18.55145958,
          18.56142258,
          18.57138558,
          18.58134858,
          18.59131158,
          18.60127458,
          18.61123758,
          18.62120058,
          18.63116258,
          18.64112558,
          18.65108858,
          18.66105158,
          18.67101458,
          18.68097758,
          18.69094058,
          18.70090358,
          18.71086658,
          18.72082958,
          18.73079258,
          18.74075558,
          18.75071858,
          18.76068171,
          18.77064371,
          18.78060671,
          18.79056971,
          18.80053271,
          18.81049571,
          18.82045871,
          18.83042171,
          18.84038471,
          18.85034771,
          18.86031071,
          18.87027371,
          18.88023671,
          18.89019971,
          18.90016171,
          18.91012471,
          18.92008771,
          18.93005071,
          18.94001371,
          18.94997671,
          18.95993971,
          18.96990271,
          18.97986571,
          18.98982871,
          18.99979171,
          19.00975471,
          19.01971771,
          19.02968071,
          19.03964271,
          19.04960571,
          19.05956871,
          19.06953171,
          19.07949471,
          19.08945771,
          19.09942071,
          19.10938371,
          19.11934671,
          19.12930971,
          19.13927271,
          19.14923571,
          19.15919871,
          19.16916171,
          19.17912471,
          19.18908671,
          19.19904971,
          19.20901271,
          19.21897571,
          19.22893871,
          19.23890171,
          19.24886471,
          19.25882771,
          19.26879071,
          19.27875371,
          19.28871671,
          19.29867971,
          19.30864271,
          19.31860571,
          19.32856771,
          19.33853071,
          19.34849371,
          19.35845671,
          19.36841971,
          19.37838271,
          19.38834571,
          19.39830871,
          19.40827171,
          19.41823471,
          19.42819771,
          19.43816071,
          19.44812371,
          19.45808671,
          19.46804871,
          19.47801171,
          19.48797471,
          19.49793771,
          19.50790071,
          19.51786371,
          19.52782671,
          19.53778971,
          19.54775271,
          19.55771571,
          19.56767871,
          19.57764171,
          19.58760471,
          19.59756771,
          19.60753071,
          19.61749271,
          19.62745571,
          19.63741871,
          19.64738171,
          19.65734471,
          19.66730771,
          19.67727071,
          19.68723371,
          19.69719671,
          19.70715971,
          19.71712271,
          19.72708571,
          19.73704871,
          19.74701171,
          19.75697471,
          19.76693708,
          19.77690008,
          19.78686308,
          19.79682608,
          19.80678908,
          19.81675208,
          19.82671508,
          19.83667808,
          19.84664108,
          19.85660408,
          19.86656708,
          19.87653008,
          19.88649308,
          19.89645608,
          19.90641808,
          19.91638108,
          19.92634408,
          19.93630708,
          19.94627008,
          19.95623308,
          19.96619608,
          19.97615908,
          19.98612208,
          19.99608508,
          20.00604808,
          20.01601108,
          20.02597408,
          20.03593708,
          20.04589908,
          20.05586208,
          20.06582508,
          20.07578808,
          20.08575108,
          20.09571408,
          20.10567708,
          20.11564008,
          20.12560308,
          20.13556608,
          20.14552908,
          20.15549208,
          20.16545508,
          20.17541808,
          20.18538108,
          20.19534308,
          20.20530608,
          20.21526908,
          20.22523208,
          20.23519508,
          20.24515808,
          20.25512108,
          20.26508408,
          20.27504708,
          20.28501008,
          20.29497308,
          20.30493608,
          20.31489908,
          20.32486208,
          20.33482508,
          20.34478708,
          20.35475008,
          20.36471308,
          20.37467608,
          20.38463908,
          20.39460208,
          20.40456508,
          20.41452808,
          20.42449108,
          20.43445408,
          20.44441708,
          20.45438008,
          20.46434308,
          20.47430608,
          20.48426908,
          20.49423108,
          20.50419408,
          20.51415708,
          20.52412008,
          20.53408308,
          20.54404608,
          20.55400908,
          20.56397208,
          20.57393508,
          20.58389808,
          20.59386108,
          20.60382408,
          20.61378708,
          20.62375008,
          20.63371308,
          20.64367508,
          20.65363808,
          20.66360108,
          20.67356408,
          20.68352708,
          20.69349008,
          20.70345308,
          20.71341608,
          20.72337908,
          20.73334208,
          20.74330508,
          20.75326808,
          20.76323046,
          20.77319346,
          20.78315646,
          20.79311846,
          20.80308146,
          20.81304446,
          20.82300746,
          20.83297046,
          20.84293346,
          20.85289646,
          20.86285946,
          20.87282246,
          20.88278546,
          20.89274846,
          20.90271146,
          20.91267446,
          20.92263746,
          20.93260046,
          20.94256246,
          20.95252546,
          20.96248846,
          20.97245146,
          20.98241446,
          20.99237746,
          21.00234046,
          21.01230346,
          21.02226646,
          21.03222946,
          21.04219246,
          21.05215546,
          21.06211846,
          21.07208146,
          21.08204346,
          21.09200646,
          21.10196946,
          21.11193246,
          21.12189546,
          21.13185846,
          21.14182146,
          21.15178446,
          21.16174746,
          21.17171046,
          21.18167346,
          21.19163646,
          21.20159946,
          21.21156246,
          21.22152546,
          21.23148746,
          21.24145046,
          21.25141346,
          21.26137646,
          21.27133946,
          21.28130246,
          21.29126546,
          21.30122846,
          21.31119146,
          21.32115446,
          21.33111746,
          21.34108046,
          21.35104346,
          21.36100646,
          21.37096946,
          21.38093146,
          21.39089446,
          21.40085746,
          21.41082046,
          21.42078346,
          21.43074646,
          21.44070946,
          21.45067246,
          21.46063546,
          21.47059846,
          21.48056146,
          21.49052446,
          21.50048746,
          21.51045046,
          21.52041346,
          21.53037546,
          21.54033846,
          21.55030146,
          21.56026446,
          21.57022746,
          21.58019046,
          21.59015346,
          21.60011646,
          21.61007946,
          21.62004246,
          21.63000546,
          21.63996846,
          21.64993146,
          21.65989446,
          21.66985746,
          21.67982046,
          21.68978246,
          21.69974546,
          21.70970846,
          21.71967146,
          21.72963446,
          21.73959746,
          21.74956046,
          21.75952346,
          21.76948646,
          21.77944946,
          21.78941246,
          21.79937546,
          21.80933846,
          21.81930146,
          21.82926446,
          21.83922646,
          21.84918946,
          21.85915246,
          21.86911546,
          21.87907846,
          21.88904146,
          21.89900446,
          21.90896746,
          21.91893046,
          21.92889346,
          21.93885646,
          21.94881946,
          21.95878246,
          21.96874546,
          21.97870846,
          21.98867046,
          21.99863346,
          22.00859646,
          22.01855946,
          22.02852246,
          22.03848546,
          22.04844846,
          22.05841146,
          22.06837446,
          22.07833746,
          22.08830046,
          22.09826346,
          22.10822646,
          22.11818946,
          22.12815246,
          22.13811446
         ],
         "xaxis": "x",
         "y": [
          91.38475628,
          91.37623954,
          91.41128499,
          91.50218373,
          91.48224758,
          91.54314631,
          91.51510854,
          91.58503413,
          91.74731325,
          91.6536019,
          91.51057661,
          91.5802827,
          91.60124216,
          91.52457176,
          91.52454826,
          91.51742048,
          91.5646147,
          91.54445956,
          91.64622472,
          91.57168058,
          91.55650872,
          91.48518243,
          91.4747743,
          91.49837125,
          91.48526667,
          91.44268236,
          91.49655003,
          91.46507913,
          91.37903767,
          91.32483578,
          91.44088235,
          91.59350511,
          91.60387329,
          91.55048075,
          91.67279149,
          91.57759496,
          91.66342309,
          91.83938184,
          91.77099906,
          91.74462644,
          91.67882344,
          91.61414369,
          91.47323127,
          91.36484426,
          91.62409498,
          91.56102109,
          91.58627863,
          91.80089054,
          91.64892329,
          91.37419757,
          91.45188571,
          91.57016008,
          91.67708504,
          146.6843461,
          165.0336557,
          170.3093981,
          171.779765,
          172.0855199,
          172.2662553,
          172.3183783,
          172.2720011,
          172.2105487,
          172.1920952,
          172.1054661,
          172.1417779,
          172.1843378,
          172.1582201,
          172.1463199,
          172.1447064,
          172.2744612,
          172.2394214,
          172.2544895,
          172.1653328,
          172.4107638,
          172.307029,
          172.2398851,
          172.0885099,
          172.1755025,
          172.1896966,
          172.1207252,
          172.2035276,
          172.4488371,
          172.3333389,
          172.0840669,
          172.1410656,
          172.2379103,
          171.9907016,
          171.9409735,
          172.0891562,
          172.1498228,
          172.1067992,
          172.0935566,
          172.204821,
          172.2297881,
          172.2846637,
          171.9660123,
          172.2895593,
          172.2630326,
          172.0333588,
          172.3664766,
          172.1226763,
          172.347796,
          172.4329158,
          172.3986987,
          172.2509252,
          388.0970703,
          498.8818215,
          530.6077468,
          539.6669246,
          542.3151876,
          542.9666093,
          543.2167054,
          543.1311187,
          543.0888021,
          543.1102167,
          542.9346476,
          542.8228947,
          542.8274097,
          542.9182043,
          542.7209672,
          542.8110598,
          542.8148078,
          542.891649,
          542.8742967,
          542.7088512,
          542.6179015,
          542.6813311,
          542.6552662,
          542.71196,
          542.5814053,
          542.5263875,
          542.7372794,
          542.808707,
          542.7211408,
          542.7666826,
          542.7508292,
          542.8450063,
          542.7760459,
          542.759088,
          542.8618174,
          542.6511788,
          542.7575029,
          542.6819863,
          542.6485927,
          542.7425555,
          542.6248017,
          542.7125081,
          542.6653973,
          542.6166637,
          542.5366829,
          542.7168251,
          542.5830721,
          542.8953177,
          543.0186262,
          542.8331756,
          542.8516623,
          542.9405196,
          158.7585842,
          171.3553236,
          192.7481131,
          199.8283818,
          201.8876252,
          202.5636546,
          202.7567074,
          202.7114432,
          202.7649534,
          202.8491441,
          202.8223184,
          202.8100171,
          202.9220136,
          202.6167754,
          202.6770922,
          202.7292257,
          202.7290013,
          202.6174052,
          202.6004541,
          202.7273259,
          202.8532639,
          202.774509,
          202.9403684,
          202.9033175,
          202.667476,
          202.8526038,
          202.8057814,
          202.8057814,
          202.9937597,
          202.7745438,
          202.5846472,
          202.5768124,
          202.5858271,
          202.6814379,
          202.723469,
          202.775604,
          202.8099987,
          202.6850742,
          202.5142454,
          202.4935953,
          202.5115085,
          202.5244238,
          202.5140456,
          202.4480797,
          202.4311441,
          202.2579336,
          202.3469847,
          202.6698728,
          202.6796979,
          202.6737168,
          546.1503042,
          679.5982884,
          717.9860788,
          729.3692295,
          732.889635,
          734.0868574,
          733.5014356,
          734.0383949,
          733.8372408,
          733.4302527,
          733.9093196,
          733.1645093,
          733.3714839,
          733.9484338,
          733.0340802,
          733.3950328,
          733.8824511,
          733.3569484,
          733.6959922,
          733.3197445,
          733.3197249,
          733.9297586,
          733.0588359,
          733.3895135,
          734.0231651,
          733.1662621,
          733.5085153,
          733.6575824,
          733.007634,
          733.4684186,
          733.9560123,
          733.0617172,
          733.1468927,
          733.5394556,
          732.9945582,
          733.0945432,
          733.5087464,
          733.6278388,
          732.9985195,
          733.2219498,
          733.6238727,
          733.8756497,
          732.9930669,
          733.2239193,
          733.6658493,
          733.5330732,
          732.9821533,
          733.1543842,
          733.5048031,
          733.7140222,
          733.0035236,
          732.8056027,
          733.1849303,
          733.5499315,
          733.868372,
          733.3637686,
          732.8104881,
          732.8747247,
          733.1809215,
          733.7220356,
          733.77855,
          732.9890645,
          732.7441682,
          733.083589,
          733.3367112,
          733.6999146,
          733.5433123,
          732.7637822,
          732.6481625,
          732.975951,
          733.0474658,
          733.3841159,
          733.6519362,
          733.8629181,
          733.7135038,
          733.475522,
          732.6674242,
          244.7528882,
          122.5875484,
          98.05993108,
          93.15158755,
          91.83633561,
          91.43042836,
          91.48932982,
          91.65690299,
          91.43580947,
          91.44241401,
          91.54108401,
          91.63331346,
          91.61387642,
          91.83145386,
          91.63716961,
          91.55828838,
          91.39956248,
          91.48936042,
          91.47292425,
          91.42691416,
          91.53374856,
          91.61205126,
          91.65096701,
          91.49414629,
          91.58198521,
          91.66495893,
          91.63300078,
          91.62354265,
          91.5562785,
          91.600973,
          91.71649006,
          91.6026945,
          91.43191388,
          91.42458396,
          91.60671267,
          91.90184712,
          91.85924863,
          91.75351839,
          91.76174776,
          91.77852755,
          91.754057,
          91.8079441,
          91.85238486,
          91.79049828,
          91.86428995,
          91.79830505,
          91.84286632,
          91.89920467,
          91.70245253,
          91.48762009,
          91.54449271,
          91.51904891,
          91.37091296,
          91.62152096,
          91.64777889,
          91.81471424,
          91.94285114,
          91.85156804,
          91.67100804,
          91.5387723,
          91.60392761,
          91.79251355,
          91.8620212,
          91.80039668,
          91.69438985,
          91.70124684,
          91.6930142,
          91.64588901,
          91.66923307,
          91.58216097,
          91.74870918,
          91.68641624,
          91.69309752,
          91.65405345,
          91.5753153,
          91.78632523,
          91.58370001,
          91.78979986,
          91.71619805,
          91.80611155,
          91.79999603,
          91.82294917,
          91.64351487,
          91.57177275,
          91.72388387,
          91.63418449,
          91.69870364,
          91.8171863,
          91.61671515,
          91.76663091,
          91.63438979,
          91.68040189,
          91.67899698,
          91.67086569,
          91.73813923,
          91.66865304,
          91.60706121,
          91.50872219,
          91.55321682,
          91.53571152,
          91.5638337,
          91.53624171,
          147.7675594,
          165.4260959,
          171.8041516,
          172.0016686,
          172.415321,
          172.2557763,
          172.3717769,
          172.6046302,
          172.6085659,
          172.6536304,
          172.4668403,
          172.2899121,
          172.3203632,
          172.1540684,
          172.2885485,
          172.4087475,
          172.4338503,
          172.3844704,
          172.509777,
          172.5549297,
          172.4455972,
          172.3868599,
          172.2543247,
          172.2192334,
          172.3636633,
          172.3828158,
          172.430749,
          172.2510387,
          172.531379,
          172.3718379,
          172.3619081,
          172.1908188,
          172.3485952,
          172.2551094,
          172.2619942,
          172.0540954,
          172.1250088,
          172.1735423,
          172.2202292,
          172.1005931,
          172.3384221,
          172.0725995,
          172.2672056,
          172.2690449,
          172.1934596,
          172.331394,
          172.2614529,
          172.1264135,
          172.3692081,
          172.2341075,
          377.0204832,
          495.2847941,
          529.6908491,
          539.5090312,
          542.1015493,
          542.8497771,
          542.9029324,
          542.9690296,
          543.1134241,
          543.0929289,
          542.8063466,
          542.9299477,
          542.9078793,
          542.9576577,
          543.1178857,
          543.0302207,
          542.89658,
          542.8394344,
          542.9293523,
          542.9792753,
          542.9727763,
          542.8117461,
          542.6958609,
          542.8016519,
          542.7584665,
          542.9325781,
          542.7279365,
          542.7223702,
          542.6737422,
          542.889454,
          542.7736654,
          542.6983428,
          542.6262713,
          542.6873582,
          542.6654638,
          542.8316027,
          542.7237863,
          542.7088856,
          542.6132688,
          542.662394,
          542.6508392,
          542.775031,
          542.7691614,
          542.7339832,
          542.6733158,
          542.7105295,
          542.6303101,
          542.5768593,
          542.5972867,
          542.6751037,
          542.7666959,
          542.84321,
          158.4043357,
          171.5333624,
          193.1116833,
          200.063135,
          202.0265867,
          202.4576305,
          202.7048212,
          202.8256041,
          202.9354185,
          202.9804561,
          202.8757037,
          202.7119209,
          202.6485979,
          202.9750798,
          202.8894192,
          202.831414,
          202.9059705,
          202.8808632,
          202.6378588,
          202.7837172,
          202.7806741,
          202.7431914,
          202.7836874,
          202.7542466,
          202.8815581,
          202.9337974,
          202.8040873,
          202.7365527,
          202.6373185,
          202.7253035,
          202.8124545,
          202.7010403,
          202.7003046,
          202.8161435,
          202.7440554,
          202.817662,
          202.6239121,
          202.6524774,
          202.5725738,
          202.5465185,
          202.6021849,
          202.533294,
          202.5768029,
          202.6330027,
          202.3107647,
          202.3800745,
          202.6488942,
          202.3828727,
          202.5839117,
          202.5108538,
          202.4985575,
          202.6046403,
          546.1077757,
          679.7370944,
          718.0320323,
          729.2090492,
          732.3283129,
          733.2668156,
          733.372141,
          733.1491201,
          733.2100723,
          733.26488,
          733.4244283,
          733.5793422,
          733.6625926,
          733.892811,
          734.0644227,
          734.3394,
          734.4321509,
          734.4493814,
          734.3531952,
          734.3113332,
          734.167188,
          734.087546,
          733.5013439,
          733.7689963,
          733.5087915,
          733.1102252,
          732.9940801,
          732.909527,
          732.8605287,
          732.7866619,
          732.7625461,
          732.8341284,
          732.7106803,
          732.6782601,
          733.1079922,
          733.2653865,
          732.9981738,
          733.2241054,
          733.3980713,
          733.7357167,
          734.2180377,
          734.3030244,
          734.2567093,
          733.9981643,
          733.8599825,
          733.7617646,
          733.5250665,
          733.3013182,
          733.2048262,
          733.2065512,
          733.0382525,
          732.8972847,
          733.1248291,
          733.8168832,
          733.8834333,
          733.6005104,
          733.563093,
          733.4986595,
          733.300506,
          732.9729015,
          732.7632717,
          732.7125852,
          733.2643629,
          733.7497282,
          733.879763,
          733.7224433,
          733.4486957,
          733.0503436,
          732.7357002,
          733.1587877,
          733.7399002,
          733.5995059,
          733.4807655,
          733.1225253,
          733.0631631,
          244.9056363,
          122.8133062,
          98.19485572,
          93.10564389,
          91.89514601,
          91.59950638,
          91.49692672,
          91.50911068,
          91.54811834,
          91.38762046,
          91.28602783,
          91.21773998,
          91.29931622,
          91.43342548,
          91.38557303,
          91.27410892,
          91.1576553,
          91.22105271,
          91.2980077,
          91.45806692,
          91.44503587,
          91.6648218,
          91.40902723,
          91.33454656,
          91.46005455,
          91.35754473,
          91.47075697,
          91.51287595,
          91.45122406,
          91.33576277,
          91.31614777,
          91.54440174,
          91.32812869,
          91.3815825,
          91.20930066,
          91.27381005,
          91.17884981,
          91.24793398,
          91.22185165,
          91.07955218,
          91.05646204,
          90.99361843,
          91.12362723,
          91.24958302,
          91.07666333,
          91.05520759,
          91.08931731,
          91.09524423,
          91.42148765,
          91.24984826,
          91.04171774,
          91.07564592,
          91.22017334,
          91.41918854,
          91.32642873,
          91.33176685,
          91.16009273,
          91.28990336,
          91.31557673,
          91.27609659,
          91.436781,
          91.36445811,
          91.32280461,
          91.5420566,
          91.3876988,
          91.24143711,
          91.46195774,
          91.43118973,
          91.22232526,
          91.33236839,
          91.39506517,
          91.50155451,
          91.32719086,
          91.42467363,
          91.3199346,
          91.4194917,
          91.40195086,
          91.48169636,
          91.57709068,
          91.59701368,
          91.47891433,
          91.27811714,
          91.46688753,
          91.26665448,
          91.1354068,
          91.17208207,
          91.26203148,
          91.44119772,
          91.39272326,
          91.31599002,
          91.32099838,
          91.3637866,
          91.24473524,
          91.25752856,
          91.2420006,
          91.31230792,
          91.21903083,
          91.08071049,
          91.05883999,
          91.25154353,
          91.36322579,
          91.20905017,
          91.35607067,
          91.2842084,
          146.4350688,
          164.6436923,
          169.8971785,
          171.4026439,
          171.8156458,
          172.0011838,
          172.0732637,
          172.0338693,
          172.1000665,
          172.0348441,
          172.1748973,
          172.033796,
          172.0057169,
          172.1697244,
          172.0651333,
          171.9250386,
          172.1215186,
          172.0547852,
          171.9675736,
          172.0728268,
          171.8890158,
          171.9264824,
          171.7976977,
          171.7120322,
          171.9226232,
          171.9663495,
          171.9606868,
          172.0158795,
          172.1086524,
          172.2349269,
          172.3051407,
          172.0408528,
          171.9638982,
          171.9633025,
          172.033158,
          171.8485849,
          171.8159969,
          172.0135453,
          172.0122977,
          172.2280284,
          172.0474021,
          172.044225,
          172.0701388,
          172.1110482,
          171.9261695,
          171.8555179,
          171.9764039,
          172.1330593,
          171.9766073,
          172.1342955,
          172.0650537,
          171.0000206,
          388.3236152,
          498.7354275,
          530.7946164,
          539.9326556,
          542.5476111,
          543.1505082,
          543.2038894,
          543.2539381,
          543.1531696,
          543.2263586,
          543.2573567,
          543.113145,
          543.1425506,
          543.2798722,
          543.2329313,
          543.3682,
          543.383131,
          543.4172091,
          543.3225694,
          543.2655478,
          543.3511341,
          543.3301543,
          543.3508506,
          543.4071772,
          543.3420563,
          543.2071019,
          543.2510325,
          543.2346201,
          543.3951629,
          543.3315703,
          543.2650638,
          543.0925777,
          543.0274763,
          543.0458263,
          543.2248196,
          543.1188714,
          543.0906742,
          543.0570036,
          543.115355,
          543.1990982,
          543.1188515,
          543.0640258,
          543.0388436,
          543.0482137,
          543.1145749,
          543.0521178,
          542.956957,
          543.0736396,
          543.0598572,
          542.9963157,
          158.6201532,
          171.0673665,
          192.3555129,
          199.499871,
          201.7066018,
          202.1371844,
          202.2536355,
          202.2218767,
          202.2381924,
          202.3542939,
          202.2822759,
          202.4179353,
          202.2831522,
          202.4574255,
          202.4805371,
          202.4062776,
          202.3934073,
          202.3882379,
          202.390036,
          202.4555188,
          202.3757956,
          202.3271422,
          202.4015101,
          202.4100874,
          202.4103464,
          202.4410354,
          202.3996326,
          202.3833338,
          202.4076269,
          202.4940744,
          202.5043042,
          202.4949656,
          202.4549195,
          202.4021948,
          202.4008581,
          202.431973,
          202.427661,
          202.4655653,
          202.4558524,
          202.5202504,
          202.3678623,
          202.4686516,
          202.594925,
          202.6241279,
          202.3248057,
          202.452041,
          202.4307384,
          202.4800949,
          202.4599788,
          202.5286802,
          202.4347331,
          545.8959647,
          680.3805381,
          718.339105,
          729.8129746,
          732.569822,
          732.9912711,
          734.0134336,
          734.0355041,
          733.4975355,
          733.1912827,
          733.7874101,
          733.6780803,
          733.3894671,
          733.0267146,
          733.4733606,
          733.8918566,
          733.602606,
          733.0400707,
          732.7526599,
          733.6581333,
          733.5732903,
          733.0117546,
          733.4945884,
          733.5638762,
          733.2009888,
          733.2281572,
          733.515217,
          733.1147099,
          733.1249862,
          733.537341,
          733.245534,
          732.7503829,
          733.5453443,
          733.5083029,
          732.9676467,
          733.3964427,
          733.414158,
          733.072389,
          733.2874297,
          733.4994289,
          732.792039,
          733.4316214,
          733.5033398,
          732.9293666,
          733.6838247,
          733.4294835,
          733.0875326,
          733.4671336,
          732.9755636,
          733.6586121,
          733.6165131,
          732.8259784,
          733.3636976,
          732.8897662,
          733.297501,
          733.227571,
          732.906805,
          733.1758936,
          732.4604633,
          733.0043489,
          732.6822413,
          733.5171461,
          733.0416343,
          733.5208859,
          733.1173561,
          733.2691738,
          733.0979936,
          733.3380218,
          733.1789555,
          733.1750796,
          733.1746102,
          732.9987219,
          733.189131,
          732.5007667,
          733.1308474,
          732.4337819,
          733.0743209,
          289.6741734,
          131.8531174,
          99.58929862,
          93.46126185,
          91.95013088,
          91.5921635,
          91.6491883,
          91.4367978,
          91.38635795,
          91.34143558,
          91.33438637,
          91.29261744,
          91.38716805,
          91.40743691,
          91.55533004,
          91.40982165,
          91.38500364,
          91.5153066,
          91.38529933,
          91.36608274,
          91.4518118,
          91.32681284,
          91.43926928,
          91.21514933,
          91.28157118,
          91.39187451,
          91.44813481,
          91.47621742,
          91.37104006,
          91.61404878,
          91.42881872,
          91.42789189,
          91.59362317,
          91.54579777,
          91.37356952,
          91.46534439,
          91.35238609,
          91.34279034,
          91.50972178,
          91.52961347,
          91.554632,
          91.6517522,
          91.45523053,
          91.46323196,
          91.4392294,
          91.38583737,
          91.17776185,
          91.30756732,
          91.36668258,
          91.62599824,
          91.48786638,
          91.38026122,
          91.3338477,
          91.43938641,
          91.48957268,
          91.36381505,
          91.30640399,
          91.28802624,
          91.43834377,
          91.280353,
          91.4360055,
          91.48512725,
          91.41474679,
          91.48753467,
          91.49196186,
          91.35931669,
          91.17739603,
          91.34375399,
          91.41383176,
          91.34363035,
          91.51254168,
          91.39512493,
          91.37114683,
          91.33850716,
          91.31605684,
          91.18095546,
          91.27014728,
          91.36500943,
          91.18597167,
          91.52086562,
          91.30749503,
          91.44549356,
          91.40286712,
          91.30711032,
          91.40725689,
          91.30130299,
          91.23966768,
          91.17074486,
          91.29462509,
          91.40435866,
          91.03834961,
          91.09163279,
          91.11277737,
          91.01039899,
          91.18034021,
          91.04965383,
          90.91297991,
          90.93942779,
          91.17877395,
          91.20624648,
          91.25614472,
          90.93764948,
          91.06090729,
          145.9951009,
          164.4984445,
          169.8540751,
          171.2676737,
          171.665602,
          171.8934861,
          172.0800207,
          171.9371157,
          172.0043121,
          172.0796838,
          171.9855331,
          172.0572002,
          171.9460802,
          171.9354797,
          171.9866379,
          171.9288206,
          171.9125707,
          171.9446402,
          171.8415536,
          171.9046576,
          171.9638622,
          171.9201255,
          172.1145222,
          172.0317719,
          171.8063891,
          171.845275,
          171.845275,
          171.966079,
          171.8036619,
          171.9356339,
          171.9152831,
          171.895945,
          171.9454488,
          171.9547452,
          172.0040177,
          172.0072754,
          172.2215215,
          172.0161356,
          172.1738405,
          172.1462417,
          172.0577353,
          172.0767568,
          172.0811374,
          172.0191034,
          172.0731579,
          172.1677568,
          172.0367641,
          171.9533612,
          171.9102671,
          365.474223,
          492.3860423,
          529.1778026,
          539.624764,
          542.5556322,
          543.2455038,
          543.2776365,
          543.3316071,
          543.4124808,
          543.4119861,
          543.257253,
          543.2978989,
          543.2715399,
          543.2047017,
          543.4005008,
          543.3356409,
          543.3624751,
          543.3185966,
          543.2773182,
          543.1399326,
          543.2834368,
          543.1568072,
          543.3629494,
          543.1710722,
          543.1542345,
          543.2035762,
          543.3632022,
          543.1871217,
          543.2933141,
          543.2497973,
          543.2353569,
          543.2888649,
          543.418687,
          543.3522202,
          543.3961973,
          543.2763933,
          543.3479804,
          543.4307518,
          543.3259789,
          543.2674533,
          543.1796237,
          543.138867,
          542.9890799,
          543.0024964,
          542.9627456,
          543.0137618,
          542.9746999,
          543.0187832,
          543.1244254,
          542.9800075,
          543.1974903,
          543.2078091,
          158.2923622,
          170.9884686,
          192.546364,
          199.5520324,
          201.4090895,
          201.8657447,
          202.2221348,
          202.2859418,
          202.349717,
          202.5370221,
          202.2919275,
          202.1323184,
          202.2759581,
          202.1893778,
          202.4572374,
          202.580058,
          202.3022229,
          202.3269872,
          202.1052342,
          202.0873127,
          202.2668523,
          202.2886528,
          202.4103895,
          202.3933233,
          202.3272033,
          202.2719431,
          202.3831963,
          202.5425919,
          202.5779761,
          202.4280199,
          202.2620036,
          202.3799113,
          202.2729945,
          202.3388499,
          202.4108187,
          202.2175006,
          202.2820749,
          202.1705917,
          202.1608723,
          202.0514892,
          202.2916067,
          202.3329291,
          202.3451875,
          202.4987846,
          202.0955893,
          201.9556537,
          202.127924,
          202.3311657,
          202.3880664,
          202.2229407,
          202.1454875,
          546.0002084,
          680.2137558,
          718.5784186,
          728.9421744,
          732.3368745,
          733.1435605,
          733.0838973,
          733.5433369,
          732.7812904,
          733.4036094,
          733.20222,
          733.1471365,
          733.6242903,
          733.0769703,
          733.4163468,
          732.7630465,
          733.0760148,
          733.0762576,
          733.1219988,
          733.5852334,
          732.9572638,
          733.2724724,
          732.7504376,
          733.1063578,
          733.5507087,
          733.0228226,
          733.3265405,
          732.9246876,
          733.0901683,
          733.4423692,
          732.7590249,
          732.9882593,
          733.4527277,
          733.1856314,
          732.8922417,
          733.1682635,
          733.5241267,
          732.9767391,
          733.1365509,
          733.4569797,
          732.9146379,
          732.9496693,
          733.4145446,
          732.7304651,
          732.7981033,
          733.1183101,
          732.7803095,
          732.637734,
          732.874358,
          733.1081671,
          732.6960365,
          732.5695558,
          732.9561388,
          733.2145574,
          732.7845208,
          732.7799415,
          732.8421591,
          733.0854545,
          733.3218359,
          732.8440567,
          732.5412916,
          732.7681054,
          733.078377,
          733.1819569,
          733.0695136,
          732.6277195,
          732.5771917,
          732.8363017,
          733.0454005,
          733.0544712,
          732.9708559,
          732.4756088,
          732.4188707,
          732.6691387,
          732.8548109,
          732.880939,
          733.0610252,
          244.3541102,
          122.045073,
          97.59338263,
          92.4686061,
          91.4011748,
          90.96483333,
          91.01444728,
          90.99127743,
          90.96254424,
          90.96865009,
          90.96865009,
          91.04584537,
          91.02696362,
          90.96933469,
          90.95992203,
          90.95547917,
          91.20322823,
          91.33389397,
          91.33389397,
          91.0488994,
          91.11352897,
          91.05257629,
          91.06081272,
          91.12606359,
          91.0002968,
          91.3153204,
          91.17736242,
          91.27296021,
          91.29474947,
          91.42933475,
          91.40371569,
          91.35849878,
          91.36088614,
          91.28039134,
          91.09743069,
          91.1725792,
          90.99381535,
          90.8757163,
          91.15089248,
          91.21882241,
          91.25822868,
          91.26489212,
          91.23333404,
          91.31274172,
          91.03605252,
          90.97902278,
          91.08717737,
          91.27924973,
          91.12496474,
          91.05226489,
          91.08744939,
          90.92662211,
          91.00331324,
          90.99998713,
          90.92409448,
          90.91493979,
          90.87282352,
          91.01437892,
          90.94190601,
          90.96298767,
          90.89063308,
          90.93562916,
          91.03929781,
          90.87676774,
          91.06670256,
          90.92568555,
          91.08525122,
          91.01783309,
          90.88303525,
          90.94004121,
          91.11512266,
          91.02690927,
          91.10318171,
          90.96499772,
          91.07579815,
          91.1282545,
          91.15666306,
          91.0756002,
          90.94807089,
          91.06308712,
          91.12631049,
          91.1288715,
          91.22589957,
          91.24247471,
          90.9835599,
          91.15347675,
          91.20543566,
          91.12830794,
          91.17003899,
          91.08300709,
          91.12445378,
          91.19255362,
          91.25003697,
          91.35654486,
          91.29531795,
          91.41067521,
          91.32948259,
          91.21033098,
          91.11744661,
          91.18716084,
          91.16668911,
          91.16032066,
          91.12510287,
          146.8607063,
          164.8634543,
          169.9576156,
          171.5976393,
          171.8680931,
          171.9429364,
          171.959416,
          171.8028956,
          171.9001921,
          171.8183103,
          171.855953,
          171.9692329,
          171.9948875,
          172.179995,
          172.1000805,
          171.7901878,
          171.9933485,
          172.0672633,
          172.1386446,
          171.9925916,
          171.8835732,
          171.8512474,
          171.9512452,
          171.9630621,
          172.0050942,
          172.1010411,
          172.0422636,
          172.0967748,
          171.9018765,
          172.047548,
          171.802077,
          171.9872801,
          172.0820477,
          172.043514,
          171.8360089,
          171.9339569,
          171.822491,
          171.7515694,
          172.0539525,
          171.8882617,
          171.720052,
          171.6977994,
          171.4497809,
          171.712328,
          171.6627817,
          171.6651562,
          171.7811547,
          171.5119612,
          171.6909365,
          171.5971532,
          171.7634843,
          388.2830263,
          498.8710391,
          531.0170896,
          539.8163645,
          542.4339668,
          543.2428318,
          543.3774593,
          543.2755903,
          543.2012483,
          543.3937142,
          543.4304009,
          543.3990246,
          543.3243741,
          543.3846663,
          543.1795844,
          543.111082,
          543.0597456,
          543.0101788,
          543.2204912,
          543.0545127,
          543.0270224,
          543.0583724,
          543.0279721,
          543.0567883,
          542.9724847,
          543.0574691,
          543.007189,
          542.9270135,
          543.0661844,
          543.1554372,
          543.1273491,
          543.0315734,
          543.0631574,
          542.9634636,
          542.8595958,
          542.9034985,
          542.9016818,
          542.824345,
          542.97808,
          543.0103481,
          543.089392,
          543.204558,
          543.1009044,
          543.1206428,
          543.0109907,
          543.1239479,
          543.0654872,
          542.8950089,
          543.1006225,
          543.158819,
          543.1724264,
          543.0510587,
          158.218894,
          170.7435504,
          192.1423052,
          198.9875414,
          201.283707,
          201.8433822,
          202.0992223,
          202.022652,
          202.0649136,
          202.0653769,
          202.1103395,
          202.1051061,
          202.0046864,
          202.0886274,
          202.1191424,
          202.0903087,
          202.0280965,
          202.1255465,
          202.1640755,
          201.996159,
          201.9779223,
          202.0780289,
          202.2853834,
          202.0534123,
          201.982209,
          202.0628149,
          201.891955,
          202.1583943,
          201.88292,
          202.106201,
          202.095713,
          202.0783679,
          202.0215509,
          201.9833118,
          202.0609791,
          201.963599,
          201.9846062,
          202.168661,
          201.9575388,
          202.005682,
          201.9168471,
          201.8396262,
          201.9584646,
          201.9912481,
          202.0642052,
          202.0837173,
          202.2446269,
          202.2560908,
          202.1549054,
          202.147155,
          202.1489642,
          545.6503783,
          679.4549707,
          717.7048557,
          728.5881931,
          731.6908024,
          732.3885083,
          732.6307842,
          732.8527155,
          733.0875797,
          733.1425086,
          733.3709118,
          733.3304521,
          733.6149469,
          733.5634506,
          733.1780673,
          732.6963685,
          732.4628543,
          732.5537656,
          732.7433493,
          732.6735242,
          732.882379,
          732.9225383,
          732.8851444,
          732.9024046,
          732.9079049,
          733.0860738,
          733.0615328,
          733.1602181,
          733.0677621,
          733.241327,
          733.202545,
          733.2624291,
          733.115191,
          733.028614,
          732.8290844,
          732.9105471,
          732.9607899,
          733.1438878,
          733.1533365,
          732.9990786,
          732.7692985,
          732.719124,
          732.7787181,
          732.6832199,
          732.6162003,
          732.5547808,
          732.3039079,
          732.3367242,
          732.2279529,
          732.5022984,
          733.0511063,
          733.2343287,
          733.2005177,
          732.9758805,
          732.831902,
          732.7958411,
          732.5353901,
          732.4280012,
          732.8768409,
          733.0357586,
          733.0163193,
          732.8923744,
          732.7754063,
          732.5650632,
          732.2680827,
          732.7386175,
          733.0443887,
          733.0082391,
          732.9276949,
          732.6433778,
          732.4074133,
          732.4698609,
          732.9170379,
          732.88326,
          732.7194819,
          268.4173568,
          127.0617539,
          98.54414188,
          93.08934348,
          91.94749331,
          91.42567,
          91.26154827,
          91.31848436,
          91.07895169,
          91.24852364,
          91.13732592,
          91.14954374,
          91.32285444,
          91.23872602,
          91.21900158,
          91.18310546,
          91.28015904,
          91.34412803,
          91.1496239,
          91.40920704,
          91.26560374,
          91.30891545,
          91.28243273,
          91.40648585,
          91.42337664,
          91.36485945,
          91.41753811,
          91.37996432,
          91.38924537,
          91.31283412,
          91.30254441,
          91.34253553,
          91.21849092,
          91.29379332,
          91.28094753,
          91.27961957,
          91.16069192,
          91.0207938,
          91.11177074,
          90.93590162,
          90.86130752,
          90.78875539,
          90.94759852,
          91.20146089,
          91.09718528,
          91.0414288,
          91.09463581,
          91.26775265,
          91.2928634,
          91.22734583,
          91.25019127,
          91.22534822,
          91.19156961,
          91.17641797,
          91.3220628,
          91.25820488,
          91.19220149,
          91.0062391,
          91.17119551,
          91.18059175,
          91.26702311,
          91.12856309,
          91.03255655,
          91.01686004,
          91.10887985,
          91.10014925,
          91.08955044,
          91.3378024,
          91.06821635,
          91.08494394,
          91.12476553,
          90.99428709,
          91.06645632,
          91.13524537,
          91.12887034,
          91.20916535,
          91.16231427,
          91.23114109,
          91.13174864,
          91.10793934,
          91.07833486,
          91.1049466,
          91.13479412,
          91.26121165,
          91.2954779,
          91.18635975,
          91.26568076,
          91.37517976,
          91.440523,
          91.25096255,
          91.23233053,
          91.40257474,
          91.31055568,
          91.31583497,
          91.23786861,
          91.26223428,
          91.21814502,
          91.05231939,
          91.09877648,
          91.13134043,
          91.15229905,
          91.29996966,
          91.2720376,
          146.3810631,
          164.6489721,
          170.0605292,
          171.5984661,
          171.7555459,
          172.0905714,
          172.1143466,
          172.0411797,
          172.0310842,
          172.1040785,
          172.2268347,
          171.8618558,
          172.1253211,
          171.978275,
          172.037177,
          172.0636372,
          171.8276943,
          171.8654292,
          171.8054483,
          172.1347065,
          171.7240254,
          171.5592617,
          171.7019404,
          171.6700808,
          171.7885438,
          171.7398092,
          172.1702584,
          171.8225596,
          172.047004,
          172.0019509,
          171.9418996,
          171.8488452,
          172.1091206,
          171.9594905,
          172.1966622,
          172.1966622,
          172.1966259,
          172.1097834,
          172.047291,
          171.905944,
          172.1000346,
          172.135071,
          172.2957223,
          172.0777699,
          171.9053368,
          171.8291623,
          171.7836825,
          172.0054554,
          172.0846665,
          171.9435523,
          171.9057606,
          388.3808723,
          498.8759335,
          530.9043323,
          539.8215247,
          542.2869552,
          543.1015519,
          543.0727395,
          543.1821525,
          543.1752404,
          543.3052939,
          543.2480476,
          543.2720493,
          543.2492359,
          543.2452223,
          543.1996097,
          542.9937226,
          543.0522063,
          542.9838535,
          542.7838836,
          542.8926361,
          543.0507208,
          542.9698604,
          542.8735661,
          542.935513,
          542.9588219,
          542.9368166,
          542.8823757,
          542.7205544,
          542.6465592,
          542.7686798,
          542.8786889,
          542.8012984,
          542.7627926,
          542.9046535,
          543.01805,
          542.9188848,
          542.9562897,
          542.9577655,
          542.9867067,
          542.6734323,
          542.6390987,
          542.6632475,
          542.6467074,
          542.7819852,
          542.8651431,
          542.8652687,
          542.7915133,
          542.8779124,
          542.9343072,
          542.8273153,
          158.7276692,
          171.0837791,
          192.3424203,
          199.4580276,
          201.6333909,
          201.9987679,
          202.3244827,
          202.3758003,
          202.379652,
          202.3361935,
          202.4159804,
          202.4222218,
          202.4431301,
          202.2727484,
          202.2952754,
          202.2408394,
          202.2833691,
          202.3068241,
          202.2396973,
          202.1273983,
          202.2092784,
          202.1755093,
          202.1374119,
          202.1372133,
          202.2947478,
          202.2827936,
          202.374471,
          202.223423,
          202.3847412,
          202.326247,
          202.1558132,
          202.1391931,
          202.2134659,
          202.3092378,
          202.2642423,
          202.2815419,
          202.5342358,
          202.3721794,
          202.3548492,
          202.3421945,
          202.2771554,
          202.1989106,
          202.3456838,
          202.3126966,
          202.2804019,
          202.1392759,
          202.2249649,
          202.3312385,
          202.4223906,
          202.3042621,
          202.2320132,
          202.2915287,
          545.4466664,
          679.8982511,
          717.8662101,
          729.1057032,
          731.8712606,
          733.2554912,
          733.3343905,
          733.0212501,
          733.0927568,
          733.1783344,
          733.2104122,
          733.0129017,
          732.726519,
          733.2368946,
          733.2138326,
          733.2089754,
          732.9595186,
          733.1536025,
          733.3895433,
          733.201368,
          732.9405633,
          733.2900285,
          733.0891631,
          732.7736849,
          732.709891,
          733.1669432,
          733.0687126,
          732.6911468,
          733.1223349,
          732.9772497,
          732.7169941,
          733.3167866,
          733.1068414,
          732.6718645,
          733.0140276,
          733.0332251,
          732.4623445,
          733.001749,
          732.757218,
          732.4840095,
          732.848986,
          732.7334282,
          732.686652,
          733.0520167,
          732.6973041,
          733.0489925,
          732.8102822,
          732.7002296,
          732.7998788,
          732.4507221,
          732.8588013,
          732.7052958,
          732.9560813,
          732.6151223,
          732.6293879,
          732.760499,
          732.5493527,
          732.6620655,
          732.3775512,
          732.723166,
          732.2984851,
          732.8520871,
          732.4191519,
          732.7114542,
          732.2624956,
          732.6169708,
          732.2439947,
          732.5600951,
          732.2592117,
          732.6823892,
          732.2621574,
          732.5919679,
          732.6480408,
          732.7592468,
          732.7551764,
          732.6807923,
          732.9579116,
          732.5275507,
          244.6035676,
          122.4903769,
          97.86466016,
          92.90873406,
          91.67312786,
          91.70280838,
          91.44188344,
          91.23344756,
          91.30919127,
          91.24002248,
          91.24662499,
          91.49505407,
          91.37532536,
          91.24646742,
          91.35233997,
          91.27834147,
          91.2908741,
          91.42779194,
          91.52295081,
          91.49952774,
          91.43340075,
          91.24718278,
          91.30032882,
          91.39202793,
          91.20320442,
          91.3527787,
          91.36414019,
          91.39372322,
          91.26744796,
          91.35910804,
          91.3916891,
          91.3156657,
          91.31120713,
          91.1526613,
          91.43178424,
          91.23916346,
          91.24621136,
          91.38448275,
          91.30282215,
          91.56432337,
          91.50329346,
          91.16636996,
          91.27424741,
          91.36793733,
          91.36835987,
          91.39494892,
          91.38671613,
          91.45731179,
          91.5332396,
          91.18682183,
          91.27197186,
          91.4210791,
          91.41642703,
          91.37574896,
          91.37079856,
          91.33836803,
          91.41246504,
          91.36894666,
          91.23777038,
          91.35038218,
          91.22786321,
          91.49260287,
          91.43887317,
          91.42798387,
          91.50589313,
          91.37879343,
          91.3036135,
          91.49676717,
          91.49745691,
          91.29290907,
          91.3093585,
          91.33131267,
          91.53058776,
          91.5270641,
          91.24046736,
          91.16395474,
          91.25020384,
          91.28873566,
          91.34098584,
          91.28796668,
          91.31271333,
          91.41126313,
          91.40717032,
          91.46908726,
          91.53920971,
          91.47211871,
          91.40732974,
          91.49072995,
          91.42223173,
          91.42194446,
          91.4561236,
          91.55755305,
          91.45139224,
          91.34060657,
          91.25915936,
          91.20775857,
          91.31193726,
          91.39275716,
          91.39654699,
          91.19030604,
          91.28323699,
          91.30959628,
          91.22479509,
          146.4564121,
          164.6850067,
          170.0359256,
          171.5113387,
          171.9431832,
          172.0714924,
          172.0619834,
          171.9008316,
          172.1277253,
          172.1135363,
          172.0917396,
          172.1770937,
          172.1512121,
          172.1294949,
          172.0751414,
          172.3245245,
          172.1780935,
          172.0568713,
          172.0112929,
          172.2373697,
          172.0877658,
          172.1006658,
          172.0709426,
          171.9450763,
          172.0635874,
          172.0216244,
          171.8651949,
          171.8206454,
          171.9240399,
          172.0809852,
          172.1875995,
          171.9842737,
          172.0297909,
          172.0501651,
          172.0773773,
          172.1204254,
          172.0850106,
          172.2540351,
          172.120886,
          171.9399228,
          172.056195,
          172.0104006,
          172.2800435,
          172.179585,
          171.9341031,
          171.9955603,
          171.8665985,
          171.9915555,
          171.9218241,
          172.044148,
          388.5128279,
          498.9684592,
          530.8518148,
          539.6687283,
          542.074802,
          543.0155686,
          542.9021183,
          543.0152847,
          543.033614,
          543.2297861,
          543.1537802,
          542.9923389,
          543.1561588,
          542.9757529,
          543.1922905,
          542.9641487,
          543.0803721,
          543.0525903,
          543.1184617,
          543.0497061,
          542.9612634,
          543.2353539,
          543.0596499,
          542.9297845,
          542.9139801,
          542.8498248,
          542.816889,
          542.7850991,
          542.8854302,
          542.5720993,
          542.7854821,
          542.6409564,
          542.8989088,
          542.667462,
          542.7385652,
          542.7046675,
          542.9974136,
          542.9206957,
          542.8560076,
          542.7533893,
          542.4412506,
          542.7182015,
          542.5619482,
          542.6000377,
          542.5650811,
          542.401971,
          542.6510776,
          542.5533845,
          542.4292401,
          542.6591664,
          542.5801394,
          158.3239126,
          171.3006297,
          192.6975927,
          199.7150006,
          201.8276911,
          202.3350463,
          202.4488586,
          202.4963379,
          202.4731029,
          202.5726647,
          202.5477497,
          202.4741575,
          202.6141482,
          202.531036,
          202.634223,
          202.6234105,
          202.4786216,
          202.5613114,
          202.6346255,
          202.5735359,
          202.4304628,
          202.3557549,
          202.5114229,
          202.3522374,
          202.279552,
          202.2594564,
          202.3635719,
          202.5813002,
          202.5725553,
          202.3600876,
          202.5297852,
          202.4753882,
          202.3721515,
          202.5037043,
          202.4757242,
          202.5224982,
          202.5010692,
          202.2686416,
          202.3263149,
          202.5219831,
          202.3576351,
          202.5212311,
          202.440115,
          202.3783952,
          202.2210498,
          202.2760962,
          202.2705212,
          202.3449965,
          202.3216542,
          202.1402073,
          545.6473855,
          679.6776025,
          718.2620958,
          729.4303296,
          731.8728797,
          732.9785516,
          733.2730721,
          733.000898,
          733.1695102,
          732.8020225,
          733.1926503,
          732.9599042,
          733.1591538,
          733.3317845,
          733.0696446,
          733.4630148,
          732.9104846,
          733.483934,
          733.2517936,
          732.8534369,
          732.6715858
         ],
         "yaxis": "y"
        },
        {
         "marker": {
          "color": "red",
          "size": 8
         },
         "mode": "markers",
         "name": "Sharp Rise",
         "type": "scatter",
         "x": [
          0.5385395833,
          1.056609333,
          1.066572333,
          2.072824958,
          2.082787958,
          3.856181958,
          4.354326958,
          4.364288958,
          5.390466333,
          5.400429333,
          7.17382475,
          7.69189575,
          7.70185875,
          8.698147458,
          8.708110458,
          10.49146862,
          10.97964946,
          10.98961246,
          12.005828,
          12.015791,
          13.79914971,
          14.30725771,
          14.31722071,
          15.33343733,
          15.34340033,
          17.10683525,
          17.61494425,
          17.62490725,
          18.63116258,
          18.64112558,
          20.43445408,
          20.93260046,
          20.94256246,
          21.93885646,
          21.94881946
         ],
         "y": [
          146.6843461,
          388.0970703,
          498.8818215,
          546.1503042,
          679.5982884,
          147.7675594,
          377.0204832,
          495.2847941,
          546.1077757,
          679.7370944,
          146.4350688,
          388.3236152,
          498.7354275,
          545.8959647,
          680.3805381,
          145.9951009,
          365.474223,
          492.3860423,
          546.0002084,
          680.2137558,
          146.8607063,
          388.2830263,
          498.8710391,
          545.6503783,
          679.4549707,
          146.3810631,
          388.3808723,
          498.8759335,
          545.4466664,
          679.8982511,
          146.4564121,
          388.5128279,
          498.9684592,
          545.6473855,
          679.6776025
         ]
        },
        {
         "marker": {
          "color": "blue",
          "size": 8
         },
         "mode": "markers",
         "name": "Descent",
         "type": "scatter",
         "x": [
          1.564717333,
          2.830005583,
          2.839967583,
          4.862433333,
          6.127721,
          6.137684,
          8.180077458,
          9.455327875,
          9.465290875,
          11.48775746,
          12.76300875,
          12.77297075,
          14.81536533,
          16.07069275,
          16.08065575,
          18.10312758,
          19.39830871,
          19.40827171,
          21.43074646
         ],
         "y": [
          542.9405196,
          732.6674242,
          244.7528882,
          542.84321,
          733.0631631,
          244.9056363,
          542.9963157,
          733.0743209,
          289.6741734,
          543.2078091,
          733.0610252,
          244.3541102,
          543.0510587,
          732.7194819,
          268.4173568,
          542.8273153,
          732.5275507,
          244.6035676,
          542.5801394
         ]
        }
       ],
       "layout": {
        "legend": {
         "tracegroupgap": 0
        },
        "template": {
         "data": {
          "bar": [
           {
            "error_x": {
             "color": "#2a3f5f"
            },
            "error_y": {
             "color": "#2a3f5f"
            },
            "marker": {
             "line": {
              "color": "#E5ECF6",
              "width": 0.5
             },
             "pattern": {
              "fillmode": "overlay",
              "size": 10,
              "solidity": 0.2
             }
            },
            "type": "bar"
           }
          ],
          "barpolar": [
           {
            "marker": {
             "line": {
              "color": "#E5ECF6",
              "width": 0.5
             },
             "pattern": {
              "fillmode": "overlay",
              "size": 10,
              "solidity": 0.2
             }
            },
            "type": "barpolar"
           }
          ],
          "carpet": [
           {
            "aaxis": {
             "endlinecolor": "#2a3f5f",
             "gridcolor": "white",
             "linecolor": "white",
             "minorgridcolor": "white",
             "startlinecolor": "#2a3f5f"
            },
            "baxis": {
             "endlinecolor": "#2a3f5f",
             "gridcolor": "white",
             "linecolor": "white",
             "minorgridcolor": "white",
             "startlinecolor": "#2a3f5f"
            },
            "type": "carpet"
           }
          ],
          "choropleth": [
           {
            "colorbar": {
             "outlinewidth": 0,
             "ticks": ""
            },
            "type": "choropleth"
           }
          ],
          "contour": [
           {
            "colorbar": {
             "outlinewidth": 0,
             "ticks": ""
            },
            "colorscale": [
             [
              0,
              "#0d0887"
             ],
             [
              0.1111111111111111,
              "#46039f"
             ],
             [
              0.2222222222222222,
              "#7201a8"
             ],
             [
              0.3333333333333333,
              "#9c179e"
             ],
             [
              0.4444444444444444,
              "#bd3786"
             ],
             [
              0.5555555555555556,
              "#d8576b"
             ],
             [
              0.6666666666666666,
              "#ed7953"
             ],
             [
              0.7777777777777778,
              "#fb9f3a"
             ],
             [
              0.8888888888888888,
              "#fdca26"
             ],
             [
              1,
              "#f0f921"
             ]
            ],
            "type": "contour"
           }
          ],
          "contourcarpet": [
           {
            "colorbar": {
             "outlinewidth": 0,
             "ticks": ""
            },
            "type": "contourcarpet"
           }
          ],
          "heatmap": [
           {
            "colorbar": {
             "outlinewidth": 0,
             "ticks": ""
            },
            "colorscale": [
             [
              0,
              "#0d0887"
             ],
             [
              0.1111111111111111,
              "#46039f"
             ],
             [
              0.2222222222222222,
              "#7201a8"
             ],
             [
              0.3333333333333333,
              "#9c179e"
             ],
             [
              0.4444444444444444,
              "#bd3786"
             ],
             [
              0.5555555555555556,
              "#d8576b"
             ],
             [
              0.6666666666666666,
              "#ed7953"
             ],
             [
              0.7777777777777778,
              "#fb9f3a"
             ],
             [
              0.8888888888888888,
              "#fdca26"
             ],
             [
              1,
              "#f0f921"
             ]
            ],
            "type": "heatmap"
           }
          ],
          "heatmapgl": [
           {
            "colorbar": {
             "outlinewidth": 0,
             "ticks": ""
            },
            "colorscale": [
             [
              0,
              "#0d0887"
             ],
             [
              0.1111111111111111,
              "#46039f"
             ],
             [
              0.2222222222222222,
              "#7201a8"
             ],
             [
              0.3333333333333333,
              "#9c179e"
             ],
             [
              0.4444444444444444,
              "#bd3786"
             ],
             [
              0.5555555555555556,
              "#d8576b"
             ],
             [
              0.6666666666666666,
              "#ed7953"
             ],
             [
              0.7777777777777778,
              "#fb9f3a"
             ],
             [
              0.8888888888888888,
              "#fdca26"
             ],
             [
              1,
              "#f0f921"
             ]
            ],
            "type": "heatmapgl"
           }
          ],
          "histogram": [
           {
            "marker": {
             "pattern": {
              "fillmode": "overlay",
              "size": 10,
              "solidity": 0.2
             }
            },
            "type": "histogram"
           }
          ],
          "histogram2d": [
           {
            "colorbar": {
             "outlinewidth": 0,
             "ticks": ""
            },
            "colorscale": [
             [
              0,
              "#0d0887"
             ],
             [
              0.1111111111111111,
              "#46039f"
             ],
             [
              0.2222222222222222,
              "#7201a8"
             ],
             [
              0.3333333333333333,
              "#9c179e"
             ],
             [
              0.4444444444444444,
              "#bd3786"
             ],
             [
              0.5555555555555556,
              "#d8576b"
             ],
             [
              0.6666666666666666,
              "#ed7953"
             ],
             [
              0.7777777777777778,
              "#fb9f3a"
             ],
             [
              0.8888888888888888,
              "#fdca26"
             ],
             [
              1,
              "#f0f921"
             ]
            ],
            "type": "histogram2d"
           }
          ],
          "histogram2dcontour": [
           {
            "colorbar": {
             "outlinewidth": 0,
             "ticks": ""
            },
            "colorscale": [
             [
              0,
              "#0d0887"
             ],
             [
              0.1111111111111111,
              "#46039f"
             ],
             [
              0.2222222222222222,
              "#7201a8"
             ],
             [
              0.3333333333333333,
              "#9c179e"
             ],
             [
              0.4444444444444444,
              "#bd3786"
             ],
             [
              0.5555555555555556,
              "#d8576b"
             ],
             [
              0.6666666666666666,
              "#ed7953"
             ],
             [
              0.7777777777777778,
              "#fb9f3a"
             ],
             [
              0.8888888888888888,
              "#fdca26"
             ],
             [
              1,
              "#f0f921"
             ]
            ],
            "type": "histogram2dcontour"
           }
          ],
          "mesh3d": [
           {
            "colorbar": {
             "outlinewidth": 0,
             "ticks": ""
            },
            "type": "mesh3d"
           }
          ],
          "parcoords": [
           {
            "line": {
             "colorbar": {
              "outlinewidth": 0,
              "ticks": ""
             }
            },
            "type": "parcoords"
           }
          ],
          "pie": [
           {
            "automargin": true,
            "type": "pie"
           }
          ],
          "scatter": [
           {
            "fillpattern": {
             "fillmode": "overlay",
             "size": 10,
             "solidity": 0.2
            },
            "type": "scatter"
           }
          ],
          "scatter3d": [
           {
            "line": {
             "colorbar": {
              "outlinewidth": 0,
              "ticks": ""
             }
            },
            "marker": {
             "colorbar": {
              "outlinewidth": 0,
              "ticks": ""
             }
            },
            "type": "scatter3d"
           }
          ],
          "scattercarpet": [
           {
            "marker": {
             "colorbar": {
              "outlinewidth": 0,
              "ticks": ""
             }
            },
            "type": "scattercarpet"
           }
          ],
          "scattergeo": [
           {
            "marker": {
             "colorbar": {
              "outlinewidth": 0,
              "ticks": ""
             }
            },
            "type": "scattergeo"
           }
          ],
          "scattergl": [
           {
            "marker": {
             "colorbar": {
              "outlinewidth": 0,
              "ticks": ""
             }
            },
            "type": "scattergl"
           }
          ],
          "scattermapbox": [
           {
            "marker": {
             "colorbar": {
              "outlinewidth": 0,
              "ticks": ""
             }
            },
            "type": "scattermapbox"
           }
          ],
          "scatterpolar": [
           {
            "marker": {
             "colorbar": {
              "outlinewidth": 0,
              "ticks": ""
             }
            },
            "type": "scatterpolar"
           }
          ],
          "scatterpolargl": [
           {
            "marker": {
             "colorbar": {
              "outlinewidth": 0,
              "ticks": ""
             }
            },
            "type": "scatterpolargl"
           }
          ],
          "scatterternary": [
           {
            "marker": {
             "colorbar": {
              "outlinewidth": 0,
              "ticks": ""
             }
            },
            "type": "scatterternary"
           }
          ],
          "surface": [
           {
            "colorbar": {
             "outlinewidth": 0,
             "ticks": ""
            },
            "colorscale": [
             [
              0,
              "#0d0887"
             ],
             [
              0.1111111111111111,
              "#46039f"
             ],
             [
              0.2222222222222222,
              "#7201a8"
             ],
             [
              0.3333333333333333,
              "#9c179e"
             ],
             [
              0.4444444444444444,
              "#bd3786"
             ],
             [
              0.5555555555555556,
              "#d8576b"
             ],
             [
              0.6666666666666666,
              "#ed7953"
             ],
             [
              0.7777777777777778,
              "#fb9f3a"
             ],
             [
              0.8888888888888888,
              "#fdca26"
             ],
             [
              1,
              "#f0f921"
             ]
            ],
            "type": "surface"
           }
          ],
          "table": [
           {
            "cells": {
             "fill": {
              "color": "#EBF0F8"
             },
             "line": {
              "color": "white"
             }
            },
            "header": {
             "fill": {
              "color": "#C8D4E3"
             },
             "line": {
              "color": "white"
             }
            },
            "type": "table"
           }
          ]
         },
         "layout": {
          "annotationdefaults": {
           "arrowcolor": "#2a3f5f",
           "arrowhead": 0,
           "arrowwidth": 1
          },
          "autotypenumbers": "strict",
          "coloraxis": {
           "colorbar": {
            "outlinewidth": 0,
            "ticks": ""
           }
          },
          "colorscale": {
           "diverging": [
            [
             0,
             "#8e0152"
            ],
            [
             0.1,
             "#c51b7d"
            ],
            [
             0.2,
             "#de77ae"
            ],
            [
             0.3,
             "#f1b6da"
            ],
            [
             0.4,
             "#fde0ef"
            ],
            [
             0.5,
             "#f7f7f7"
            ],
            [
             0.6,
             "#e6f5d0"
            ],
            [
             0.7,
             "#b8e186"
            ],
            [
             0.8,
             "#7fbc41"
            ],
            [
             0.9,
             "#4d9221"
            ],
            [
             1,
             "#276419"
            ]
           ],
           "sequential": [
            [
             0,
             "#0d0887"
            ],
            [
             0.1111111111111111,
             "#46039f"
            ],
            [
             0.2222222222222222,
             "#7201a8"
            ],
            [
             0.3333333333333333,
             "#9c179e"
            ],
            [
             0.4444444444444444,
             "#bd3786"
            ],
            [
             0.5555555555555556,
             "#d8576b"
            ],
            [
             0.6666666666666666,
             "#ed7953"
            ],
            [
             0.7777777777777778,
             "#fb9f3a"
            ],
            [
             0.8888888888888888,
             "#fdca26"
            ],
            [
             1,
             "#f0f921"
            ]
           ],
           "sequentialminus": [
            [
             0,
             "#0d0887"
            ],
            [
             0.1111111111111111,
             "#46039f"
            ],
            [
             0.2222222222222222,
             "#7201a8"
            ],
            [
             0.3333333333333333,
             "#9c179e"
            ],
            [
             0.4444444444444444,
             "#bd3786"
            ],
            [
             0.5555555555555556,
             "#d8576b"
            ],
            [
             0.6666666666666666,
             "#ed7953"
            ],
            [
             0.7777777777777778,
             "#fb9f3a"
            ],
            [
             0.8888888888888888,
             "#fdca26"
            ],
            [
             1,
             "#f0f921"
            ]
           ]
          },
          "colorway": [
           "#636efa",
           "#EF553B",
           "#00cc96",
           "#ab63fa",
           "#FFA15A",
           "#19d3f3",
           "#FF6692",
           "#B6E880",
           "#FF97FF",
           "#FECB52"
          ],
          "font": {
           "color": "#2a3f5f"
          },
          "geo": {
           "bgcolor": "white",
           "lakecolor": "white",
           "landcolor": "#E5ECF6",
           "showlakes": true,
           "showland": true,
           "subunitcolor": "white"
          },
          "hoverlabel": {
           "align": "left"
          },
          "hovermode": "closest",
          "mapbox": {
           "style": "light"
          },
          "paper_bgcolor": "white",
          "plot_bgcolor": "#E5ECF6",
          "polar": {
           "angularaxis": {
            "gridcolor": "white",
            "linecolor": "white",
            "ticks": ""
           },
           "bgcolor": "#E5ECF6",
           "radialaxis": {
            "gridcolor": "white",
            "linecolor": "white",
            "ticks": ""
           }
          },
          "scene": {
           "xaxis": {
            "backgroundcolor": "#E5ECF6",
            "gridcolor": "white",
            "gridwidth": 2,
            "linecolor": "white",
            "showbackground": true,
            "ticks": "",
            "zerolinecolor": "white"
           },
           "yaxis": {
            "backgroundcolor": "#E5ECF6",
            "gridcolor": "white",
            "gridwidth": 2,
            "linecolor": "white",
            "showbackground": true,
            "ticks": "",
            "zerolinecolor": "white"
           },
           "zaxis": {
            "backgroundcolor": "#E5ECF6",
            "gridcolor": "white",
            "gridwidth": 2,
            "linecolor": "white",
            "showbackground": true,
            "ticks": "",
            "zerolinecolor": "white"
           }
          },
          "shapedefaults": {
           "line": {
            "color": "#2a3f5f"
           }
          },
          "ternary": {
           "aaxis": {
            "gridcolor": "white",
            "linecolor": "white",
            "ticks": ""
           },
           "baxis": {
            "gridcolor": "white",
            "linecolor": "white",
            "ticks": ""
           },
           "bgcolor": "#E5ECF6",
           "caxis": {
            "gridcolor": "white",
            "linecolor": "white",
            "ticks": ""
           }
          },
          "title": {
           "x": 0.05
          },
          "xaxis": {
           "automargin": true,
           "gridcolor": "white",
           "linecolor": "white",
           "ticks": "",
           "title": {
            "standoff": 15
           },
           "zerolinecolor": "white",
           "zerolinewidth": 2
          },
          "yaxis": {
           "automargin": true,
           "gridcolor": "white",
           "linecolor": "white",
           "ticks": "",
           "title": {
            "standoff": 15
           },
           "zerolinecolor": "white",
           "zerolinewidth": 2
          }
         }
        },
        "title": {
         "text": "Absolute Field vs. Time"
        },
        "xaxis": {
         "anchor": "y",
         "domain": [
          0,
          1
         ],
         "title": {
          "text": "Time (s)"
         }
        },
        "yaxis": {
         "anchor": "x",
         "domain": [
          0,
          1
         ],
         "title": {
          "text": "Absolute field (µT)"
         }
        }
       }
      }
     },
     "metadata": {},
     "output_type": "display_data"
    }
   ],
   "source": [
    "# Line plot of absolute field vs time\n",
    "fig = px.line(df_tracking, x='Time (s)', y='Absolute field (µT)', title=\"Absolute Field vs. Time\",\n",
    "              line_shape='linear', render_mode='svg')\n",
    "\n",
    "fig.add_scatter(x=df_tracking.loc[rise_indices_tracking, 'Time (s)'],\n",
    "                y=df_tracking.loc[rise_indices_tracking, 'Absolute field (µT)'],\n",
    "                mode='markers', marker=dict(color='red', size=8), name='Sharp Rise')\n",
    "fig.add_scatter(x=df_tracking.loc[descent_indices_tracking, 'Time (s)'],\n",
    "                y=df_tracking.loc[descent_indices_tracking, 'Absolute field (µT)'],\n",
    "                mode='markers', marker=dict(color='blue', size=8), name='Descent')\n",
    "\n",
    "fig.show()"
   ]
  }
 ],
 "metadata": {
  "kernelspec": {
   "display_name": "base",
   "language": "python",
   "name": "python3"
  },
  "language_info": {
   "codemirror_mode": {
    "name": "ipython",
    "version": 3
   },
   "file_extension": ".py",
   "mimetype": "text/x-python",
   "name": "python",
   "nbconvert_exporter": "python",
   "pygments_lexer": "ipython3",
   "version": "3.11.5"
  },
  "orig_nbformat": 4
 },
 "nbformat": 4,
 "nbformat_minor": 2
}
